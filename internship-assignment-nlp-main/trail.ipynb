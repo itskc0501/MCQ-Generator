{
 "cells": [
  {
   "cell_type": "code",
   "execution_count": 1,
   "metadata": {},
   "outputs": [],
   "source": [
    "import PyPDF2"
   ]
  },
  {
   "cell_type": "code",
   "execution_count": 2,
   "metadata": {},
   "outputs": [
    {
     "data": {
      "text/plain": [
       "<_io.BufferedReader name='Dataset\\\\chapter-2.pdf'>"
      ]
     },
     "execution_count": 2,
     "metadata": {},
     "output_type": "execute_result"
    }
   ],
   "source": [
    "file = open('Dataset\\chapter-2.pdf','rb')\n",
    "file"
   ]
  },
  {
   "cell_type": "code",
   "execution_count": 2,
   "metadata": {},
   "outputs": [],
   "source": [
    "def pdf_to_txt(path):\n",
    "    with open(path,mode='rb') as file:\n",
    "        pdf_reader = PyPDF2.PdfReader(file)\n",
    "        text=''\n",
    "        for page_num in range(len(pdf_reader.pages)):\n",
    "            page = pdf_reader.pages[page_num]\n",
    "            text += page.extract_text().replace('\\n','')\n",
    "    \n",
    "    return text"
   ]
  },
  {
   "cell_type": "code",
   "execution_count": 3,
   "metadata": {},
   "outputs": [
    {
     "data": {
      "text/plain": [
       "'From Trade to Territory                   The Company Establishes Power2Aurangzeb was the last of the powerful Mughal rulers. He established control over a very large part of the territory that is now known as India. After his death in 1707, many Mughal governors ( subadars) and big zamindars began asserting their authority and establishing regional kingdoms. As powerful regional kingdoms emerged in various parts of India, Delhi could no longer function as an effective centre.By the second half of the eighteenth century, however, a new power was emerging on the political horizon – the British. Did you know that the British originally came as a small trading company and were reluctant to acquire territories? How then did they come to be masters of a vast empire? In this chapter you will see how this came about.Fig. 1 – Bahadur Shah Zafar  and his sons being arrested by Captain HodsonAfter Aurangzeb there was no powerful Mughal ruler, but Mughal emperors continued to be symbolically important. In fact, when a massive rebellion against British rule broke out in 1857, Bahadur Shah Zafar, the Mughal emperor at the time, was seen as the natural leader. Once the revolt was put down by the company, Bahadur Shah Zafar was forced to leave the kingdom, and his sons were shot in  cold blood. chap 1-4.indd   9 4/22/2022   2:49:25 PMRationalised 2023-2410 OUR PASTS – IIIEast India Company Comes EastIn 1600, the East India Company acquired a charter from the ruler of England, Queen Elizabeth I, granting it the sole right to trade with the East. This meant that no other trading group in England could compete with the East India Company. With this charter, the Company could venture across the oceans, looking for new lands from which it could buy goods at a cheap price, and carry them back to Europe to sell at higher prices. The Company did not have to fear competition from other English trading companies. Mercantile trading companies in those days made profit primarily by excluding competition, so that they could buy cheap and sell dear.The royal charter, however, could not prevent other European powers from entering the Eastern markets. By the time the first English ships sailed down the west coast of Africa, round the Cape of Good Hope, and crossed the Indian Ocean, the Portuguese had already established their presence in the western coast of India, and had their base in Goa. In fact, it was Vasco da Gama, a Portuguese explorer, who had discovered this sea route to India in 1498. By the early seventeenth century, the Dutch too were exploring the possibilities of trade in the Indian Ocean. Soon the French traders arrived on the scene. The problem was that all the companies were interested in buying the same things. The fine qualities of cotton and silk produced in India had a big market in Europe. Pepper, cloves, cardamom and cinnamon too were in great demand. Competition amongst the European companies inevitably pushed up the prices at which these goods could be purchased, and this reduced the profits that could be earned. The only way the trading companies could flourish was by eliminating rival competitors. The urge to secure markets, therefore, led to fierce battles between the trading companies. Through the seventeenth and eighteenth centuries they regularly sank each other’s ships, blockaded routes, and prevented rival ships from moving with supplies of Fig. 2 –  Routes to India in the eighteenth centuryMercantile – A business enterprise that makes profit primarily through trade, buying goods cheap and selling them at higher priceschap 1-4.indd   10 4/22/2022   2:49:26 PMRationalised 2023-24FROM TRADE TO TERRITORY         11goods. Trade was carried on with arms and trading posts were protected through fortification. This effort to fortify settlements and carry on profitable trade also led to intense conflict with local rulers. The company therefore found it difficult to separate trade from politics. Let us see how this happened. East India Company begins trade in BengalThe first English factory was set up on the banks of                  the river Hugli in 1651. This was the base from which the Company’s traders, known at that time as “factors”, operated. The factory had a warehouse where goods for export were stored, and it had offices where Company officials sat. As trade expanded, the Company persuaded merchants and traders to come and settle near the factory. By 1696, it began building a fort around the settlement. Two years later, it bribed Mughal officials into giving the Company zamindari rights over three villages. One of these was Kalikata, which later grew into the city of Calcutta or Kolkata as it is known today. It also persuaded the Mughal emperor Aurangzeb to issue a farman granting the Company the right to trade duty free.The Company tried continuously to press for more concessions and manipulate existing privileges. Aurangzeb’s farman, for instance, had granted only the Company the right to trade duty free. But officials of  the Company, who were carrying on private trade on the side, were expected to pay duty. This they refused to pay, causing an enormous loss of revenue for Bengal. How could the Nawab of Bengal, Murshid Quli Khan,  not protest?Fig. 3 – Local boats bring goods from ships in Madras, painted by William Simpson, 1867Farman – A royal edict, a royal orderchap 1-4.indd   11 4/22/2022   2:49:27 PMRationalised 2023-2412 OUR PASTS – IIIHow trade led to battlesThrough the early eighteenth century, the conflict between the Company and the nawabs of Bengal intensified.  After the death of Aurangzeb, the Bengal nawabs asserted their power and autonomy, as other regional powers were doing at that time. Murshid Quli Khan was followed by Alivardi Khan and then Sirajuddaulah as the Nawab of Bengal. Each one of them was a strong ruler. They refused to grant the Company concessions, demanded large tributes for the Company’s right to trade, denied it any right to mint coins, and stopped it from extending its fortifications. Accusing the Company of deceit, they claimed that the Company was depriving the Bengal government of huge amounts of revenue and undermining the authority of the nawab. It was refusing to pay taxes, writing disrespectful letters, and trying to humiliate the nawab and his officials. The Company on its part declared that the unjust demands of the local officials were ruining the trade of the Company, and trade could flourish only if the duties were removed. It was also convinced that to expand trade, it had to enlarge its settlements, buy up villages, and rebuild its forts.    The conflicts led to confrontations and finally culminated in the famous Battle of Plassey.The Battle of Plassey When Alivardi Khan died in 1756, Sirajuddaulah became the nawab of Bengal. The Company was worried about his power and keen on a puppet ruler who would  willingly give trade concessions and other privileges. So it tried, though without success, to help one of Sirajuddaulah’s rivals become the nawab. An infuriated Sirajuddaulah asked the Company to stop meddling in the political affairs of his dominion, stop fortification, and pay the revenues. After negotiations failed, the Nawab marched with 30,000 soldiers to the English factory at Kassimbazar, captured the Company officials, locked the warehouse, disarmed all Englishmen, and blockaded English ships. Then he marched to Calcutta to establish control over the Company’s fort there. On hearing the news of the fall of Calcutta, Company officials in Madras sent forces under the command of Robert Clive, reinforced by naval fleets. Prolonged negotiations with the Nawab followed. Finally,  in 1757, Robert Clive led the Company’s army against Sirajuddaulah at Plassey. One of the main reasons for  Did you know?Did you know how Plassey got its name? Plassey is an anglicised pronunciation  of Palashi and the place derived its name from the palash  tree known for its beautiful red flowers that yield gulal , the powder used in the festival of Holi.Fig. 4 – Robert Clive Puppet – Literally, a toy that you can move with strings. The term is used disapprovingly to refer to a person who is controlled by someone else.chap 1-4.indd   12 4/22/2022   2:49:28 PMRationalised 2023-24FROM TRADE TO TERRITORY         13the defeat of the Nawab was that the forces led by Mir Jafar, one of Sirajuddaulah’s commanders, never fought the battle. Clive had managed to secure his support by promising to make him nawab after crushing Sirajuddaulah. The Battle of Plassey became famous because it was the first major victory the Company won in India. Fig. 5 – The General Court Room, East India House, Leadenhall StreetThe Court of Proprietors of the East India Company had their meetings in the East India House on Leadenhall Street in London. This is a picture of one of their meetings in progress.The promise of richesThe territorial ambitions of the mercantile East India Company were viewed with distrust and doubt in England. After the Battle of Plassey, Robert Clive wrote to William Pitt, one of the Principal Secretaries of State to the English monarch, on 7 January 1759 from Calcutta: But so large a sovereignty may possibly be an object too extensive for a mercantile Company … I flatter myself … that there will be little or no difficulty in obtaining the absolute possession of these rich kingdoms: ... Now I leave you to judge, whether an income yearly of two million sterling with the possession of three provinces … be an object deserving the public attention ...Source 1Fig. 6 –  Sirajuddaulahchap 1-4.indd   13 4/22/2022   2:49:30 PMRationalised 2023-2414 OUR PASTS – IIIAfter the defeat at Plassey, Sirajuddaulah was assassinated and Mir Jafar made the nawab. The Company was still unwilling to take over the responsibility of administration. Its prime objective was the expansion of trade. If this could be done without conquest, through the help of local rulers who were willing to grant privileges, then territories need not be taken over directly. Soon the Company discovered that this was rather difficult. For even the puppet nawabs were not always as helpful as the Company wanted them to be. After all, they had to maintain a basic appearance of dignity and sovereignty if they wanted respect from their subjects. What could the Company do? When Mir Jafar protested, the Company deposed him and installed Mir Qasim in his place. When Mir Qasim complained, he in turn was defeated in a battle fought at Buxar (1764), driven out of Bengal, and Mir Jafar was reinstalled. The Nawab had to pay Rs. 500,000 every month but the Company wanted more money to finance its wars, and meet the demands of trade and its other expenses. It wanted more territories and more revenue. By the time Mir Jafar died in 1765, the mood of the Company had changed. Having failed to work with puppet nawabs, Clive declared: “We must indeed become  nawabs ourselves”.Finally, in 1765 the Mughal emperor appointed the Company as the Diwan of the provinces of Bengal. The Diwani allowed the Company to use the vast revenue resources of Bengal. This solved a major problem that the Company had earlier faced. From the early eighteenth century, its trade with India had expanded. But it had to buy most of the goods in India with gold and silver imported from Britain. This was because at this time Britain had no goods to sell in India. The outflow of gold from Britain slowed after the Battle of Plassey, and entirely stopped after the assumption of Diwani. Now revenues from India could finance Company expenses. These revenues could be used to purchase cotton and silk textiles in India, maintain Company troops, and meet the cost of building the Company fort and offices at Calcutta.  Company officials become “nabobs”What did it mean to be nawabs? It meant of course that the Company acquired more power and authority. But it also meant something else. Each company servant began to have visions of living like nawabs.Source 2The Nawab complainsIn 1733 the Nawab of Bengal said this about the English traders:When they first came into the country they petitioned the then government in a humble manner for liberty to purchase a spot of ground to build a factory house upon, which was no sooner granted but they built a strong fort, surrounded it  with a ditch which has communication with the river and mounted a great number of guns upon the walls. They have enticed several merchants and others to go and take protection under them and they collect a revenue which amounts to Rs. 100,000… they rob and plunder and carry great number of the king’s subjects of both sexes into slavery into their own country … chap 1-4.indd   14 4/22/2022   2:49:30 PMRationalised 2023-24FROM TRADE TO TERRITORY         15After the Battle of Plassey, the actual nawabs of Bengal were forced to give land and vast sums of money as personal gifts to Company officials. Robert Clive himself amassed a fortune in India. He had come to Madras (now Chennai) from England in 1743 at the age of 18. When in 1767 he left India, his Indian fortune was worth £401,102. Interestingly, when he was appointed Governor of Bengal in 1764, he was asked to remove corruption in Company administration but he was himself cross-examined in 1772 by the British Parliament which was suspicious of his vast wealth. Although he was acquitted, he committed suicide  in 1774. However, not all Company officials succeeded in making money like Clive. Many died an early death in India due to disease and war, and it would not be right to regard all of them as corrupt and dishonest. Many of them came from humble backgrounds and their uppermost desire was to earn enough in India, return to Britain and lead a comfortable life. Those who managed to return with wealth led flashy lives and flaunted their riches. They were called  “nabobs” – an anglicised version of the Indian word nawab. They were often seen as upstarts and social climbers in British society and were ridiculed or made fun of in plays and cartoons. Company Rule ExpandsIf we analyse the process of annexation of Indian states by the East India Company from 1757 to 1857, certain key aspects emerge. The Company rarely launched a direct military attack on an unknown territory. Instead it used a variety of political, economic and diplomatic methods to extend its influence before annexing an Indian kingdom. After the Battle of Buxar (1764), the Company appointed Residents in Indian states. They were political or commercial agents and their job was to serve and further the interests of the Company. Through the Residents, the Company officials began interfering in the internal affairs of Indian states. They tried to decide who was to be the successor to the throne, and who was to be appointed in administrative posts. Sometimes, the Company forced the states into a “subsidiary alliance”. According to the terms of this alliance, Indian rulers were not allowed to have their independent armed forces. They were to be protected by the Company, but How did Clive see himself?At his hearing in front  of a Committee in Parliament, Clive declared that he had shown admirable restraint after the Battle of Plassey. This is what he said:Consider the situation in which the victory at Plassey had placed me! A great prince was dependent on my pleasure; an opulent city lay at my mercy; its richest bankers bid against each other for my smiles; I walked through vaults which were thrown open to me alone, piled on either hand with gold and jewels! Mr Chairman, at this moment I stand astonished at my moderation.Source 3Imagine that you are a young Company official  who has been in India for a few months. Write a letter home to your mother telling her about your luxurious life and contrasting it with your earlier life in Britain. Activity\\uf086chap 1-4.indd   15 4/22/2022   2:49:30 PMRationalised 2023-2416 OUR PASTS – IIISource 4Fig. 7 – Nawab Shujauddaulah  of Awadh, with his sons and the British Resident, painted by Tilly Kettle (oil, 1772)The treaties that followed the Battle of Buxar forced Nawab Shujauddaulah to give up much of his authority. Here, however, he poses in regal splendour, towering over the Resident.Injunction – InstructionSubservience – Submissivenesshad to pay for the “subsidiary forces” that the Company was supposed to maintain for the purpose of this protection. If the Indian rulers failed to make the payment, then part of their territory was taken away as penalty. For example, when Richard Wellesley was Governor-General (1798–1805), the Nawab of Awadh was forced to give over half of his territory to the Company in 1801, as he failed to pay for the “subsidiary forces”. Hyderabad was also forced to cede territories on similar grounds.What power did the Resident have?This is what James Mill, the famous economist and political philosopher from Scotland, wrote about the residents appointed by the Company. We place a resident, who really is king of the country, whatever injunctions of non-interference he may act under. As long as the prince acts in perfect subservience, and does what is agreeable to the residents, that is, to the British Government, things go on quietly; they are managed without the resident appearing much in the administration of affairs … but when anything of a different nature happens, the moment the prince takes a course which the British Government think wrong, then comes clashing and disturbance.James Mill (1832)Tipu Sultan – The “Tiger of Mysore”The Company resorted to direct military confrontation when it saw a threat to its political or economic interests. This can be illustrated with the case of the southern Indian state of Mysore.Mysore had grown in strength under the leadership of powerful rulers like Haidar Ali (ruled from 1761 to 1782) and his famous son Tipu Sultan (ruled from 1782 to 1799). Mysore controlled the profitable trade of the Malabar coast where the Company purchased pepper and cardamom. In 1785, Tipu Sultan stopped the export of sandalwood, pepper and cardamom through the ports of his kingdom, and disallowed local merchants from trading with the Company. He also established a close Fig. 8  – Tipu Sultanchap 1-4.indd   16 4/22/2022   2:49:32 PMRationalised 2023-24FROM TRADE TO TERRITORY         17relationship with the French in India, and modernised his army with their help. The British were furious. They saw Haidar and Tipu as ambitious, arrogant and dangerous – rulers who had to be controlled and crushed. Four wars were fought with Mysore (1767–69, 1780–84, 1790–92 and 1799). Only in the last – the Battle of Seringapatam – did the Company ultimately win a victory. Tipu Sultan was killed defending his capital Seringapatam, Mysore was placed under the former ruling dynasty of the Wodeyars and a subsidiary alliance was imposed on the state. Fig. 10 – Tipu’s toy tiger This is the picture of a big mechanical toy that Tipu possessed.  You can see a tiger mauling a European soldier. When its handle was turned, the toy tiger roared and the soldier shrieked. This  toy-tiger is now kept in the Victoria and Albert Museum in London. The British took it away when Tipu Sultan died defending his capital Seringapatam on 4 May 1799.Fig. 9 – Cornwallis receiving the sons of Tipu Sultan as hostages, painted by Daniel Orme, 1793The Company forces were defeated by Haidar Ali and Tipu Sultan in several battles. But in 1792, attacked by the combined forces of the Marathas, the Nizam of Hyderabad and the Company, Tipu was forced to sign a treaty with the British by which two of his sons were  taken away as hostages. British painters always liked painting scenes that showed the triumph of  British power.The legend of TipuKings are often surrounded by legend and their powers glorified through folklore. Here is a legend about Tipu Sultan who became the ruler of Mysore in 1782. It is said that once he went hunting in the forest with a French friend. There he came face to face with a tiger. His gun did not work and his dagger fell to the ground. He battled with the tiger unarmed until he  managed to reach down and pick up the dagger. Finally, he was able to kill the tiger in the battle. After this, he came to be known as the “Tiger of Mysore”. He had the image of the tiger on his flag. chap 1-4.indd   17 4/22/2022   2:49:34 PMRationalised 2023-2418 OUR PASTS – IIIWar with the Marathas From the late eighteenth century, the Company also sought to curb and eventually destroy Maratha power. With their defeat in the Third Battle of Panipat in 1761, the Marathas’ dream of ruling from Delhi was shattered. They were divided into many states under different chiefs (sardars) belonging to dynasties such as Sindhia, Holkar, Gaikwad and Bhonsle. These chiefs were held together in a confederacy  under a Peshwa (Principal Minister) who became its effective military and administrative head based in Pune. Mahadji Sindhia and Nana Phadnis were two famous Maratha soldiers and statesmen of the late eighteenth century. The Marathas were subdued in a series of wars. In the first war that ended in 1782 with the Treaty of Salbai, there was no clear victor. The Second Anglo-Maratha War (1803–05) was fought on different fronts, resulting in the British gaining Orissa and the territories north of the Yamuna river including Agra and Delhi. Finally, the Third Anglo-Maratha War of 1817–19 crushed Maratha power. The Peshwa was removed and sent away to Bithur near Kanpur with a pension. The Company now had complete control over the territories south of the Vindhyas. The claim to paramountcyIt is clear from the above that from the early nineteenth century, the Company pursued an aggressive policy of territorial expansion. Under Lord Hastings (Governor-General from 1813 to 1823), a new policy of “paramountcy” was initiated. Now the Company claimed that its authority was paramount or supreme, hence its power was greater than that of Indian states. In order to protect its interests, it was justified in annexing or threatening to annex any Indian kingdom. This view continued to guide later British policies as well. This process, however, did not go unchallenged. For example, when the British tried to annex the small state of Kitoor (in Karnataka today), Rani Channamma took to arms and led an anti-British resistance movement. She was arrested in 1824 and died in prison in 1829. But Rayanna, a poor chowkidar of Sangoli in Kitoor, carried on the resistance. With popular support, he destroyed many British camps and records. He was caught and hanged by the British in 1830. You will read more about several cases of resistance later in  the book.Fig. 11 – Lord Hastings.  Confederacy – AllianceActivityImagine that you have   come across two old  newspapers reporting on the Battle of Seringapatam and the death of Tipu Sultan. One is a British paper and the other is from Mysore. Write the headline for each of  the two newspapers.\\uf086Fig. 12 – A Statue of the  Queen of Kitoor (Karnataka) chap 1-4.indd   18 4/22/2022   2:49:36 PMRationalised 2023-24FROM TRADE TO TERRITORY         19In the late 1830s, the East India Company became worried about Russia. It imagined that Russia might expand across Asia and enter India from the north-west. Driven by this fear, the British now wanted to secure their control over the north-west. They fought a prolonged war with Afghanistan between 1838 and 1842, and established indirect Company rule there. Sind was taken over in 1843. Next in line was Punjab. But the presence of Maharaja Ranjit Singh held back the Company. After his death in 1839, two prolonged wars were fought with the Sikh  kingdom. Ultimately, in 1849, Punjab  was annexed.The Doctrine of LapseThe final wave of annexations occurred under Lord Dalhousie who was the Governor-General from 1848 to 1856. He devised a policy that came to be known as the Doctrine of Lapse. The doctrine declared that if an Indian ruler died without a male heir his kingdom would “lapse”, that is, become a part of Company territory. One kingdom after another was annexed simply by applying this doctrine: Satara (1848), Sambalpur (1850), Udaipur (1852), Nagpur (1853) and  Jhansi (1854). Finally, in 1856, the Company also took over Awadh. This time the British had an added argument – they said they were “obliged by duty” to take over Awadh in order to free the people from the “misgovernment” of the Nawab! Enraged by the humiliating way in which  the Nawab was deposed, the people of Awadh joined the great revolt that broke out in 1857. Fig. 13  – Maharaja Ranjit Singh holding court  Fig. 14   – A portrait of  Veer Surendra Sai ActivityImagine that you are a nawab’s nephew and have been brought up thinking that you will one day be king. Now you find that this will not be allowed by the British because of the new Doctrine of Lapse. What will be your feelings? What will you plan to do so that you can inherit the crown? \\uf086chap 1-4.indd   19 4/22/2022   2:49:39 PMRationalised 2023-2420 OUR PASTS – IIIFig. 14 a, b, c – Expansion of British territorial power in IndiaLook at these maps along with a present-day political map of India. In each of these maps, try and identify the different parts of India that were not under British rule. Fig. 14 a – India, 1797 Fig. 14 b – India, 1840Fig. 14 c – India, 1857chap 1-4.indd   20 4/22/2022   2:49:40 PMRationalised 2023-24FROM TRADE TO TERRITORY         21Setting up a New AdministrationWarren Hastings (Governor-General from 1773 to 1785) was one of the many important figures who played a significant role in the expansion of Company power. By his time the Company had acquired power not only                 in Bengal, but also in Bombay and Madras. British territories were broadly divided into administrative units called Presidencies. There were three Presidencies:  Bengal, Madras and Bombay. Each was ruled by a Governor. The supreme head of the administration was the Governor-General. Warren Hastings, the first Governor-General, introduced several administrative reforms, notably in the sphere of justice. From 1772 a new system of justice was established. Each district was to have two courts – a criminal court (faujdari adalat ) and a civil court ( diwani adalat ). Maulvis and Hindu pandits interpreted Indian laws for the European district collectors who presided over civil courts. The criminal courts were still under a qazi and a mufti but under the supervision of the collectors. Qazi – A judgeMufti – A jurist of the Muslim community responsible for expounding the law           that the qazi would administerImpeachment – A trial by the House of Lords           in England for charges of misconduct brought against a person in the House of CommonsFig. 15 – The trial of Warren Hastings, painted by R.G. Pollard, 1789When Warren Hastings went back to England in 1785, Edmund Burke accused him of being personally responsible for the misgovernment of Bengal. This led to an impeachment proceeding in the British Parliament that lasted seven years. chap 1-4.indd   21 4/22/2022   2:49:42 PMRationalised 2023-2422 OUR PASTS – IIIA major problem was that the Brahman pandits gave different interpretations of local laws based on different schools of the dharmashastra . To bring about uniformity, in 1775 eleven pandits were asked to compile a digest of Hindu laws. N.B. Halhed translated this digest into English. By 1778, a code of Muslim laws was also compiled for the benefit of European judges. Under the Regulating Act of 1773, a new Supreme Court was established, while a court of appeal – the Sadar Nizamat Adalat – was also set up at Calcutta.The principal figure in an Indian district was the Collector. As the title suggests, his main job was to collect revenue and taxes and maintain law and order in his district with the help of judges, police officers and darogas . His office – the Collectorate – became the new centre of power and patronage that steadily replaced previous holders of authority.The Company armyColonial rule in India brought in some new ideas of administration and reform but its power rested on its military strength. The Mughal army was mainly composed of cavalry (sawars: trained soldiers on horseback) and infantry, that is, paidal (foot) soldiers. They were given training in archery ( teer-andazi ) and the use of the sword. The cavalry dominated the army and the Mughal state did not feel the need to have a large professionally trained infantry. The rural areas had a large number of armed peasants and the local zamindars often supplied the Mughals with paidal soldiers.A change occurred in the eighteenth century when Mughal successor states like Awadh and Benaras started recruiting peasants into their armies and training them as professional soldiers. The East India Company adopted the same method when it began recruitment for its own army, which came to be known as the sepoy army (from the Indian word sipahi, meaning soldier). As warfare technology changed from the 1820s, the cavalry requirements of the Company’s army declined. This is because the British empire was fighting in Burma, Afghanistan and Egypt where soldiers were armed with muskets and matchlocks. The soldiers of the Company’s army had to keep pace with changing military requirements and its infantry regiments now became more important. In the early nineteenth century, the British began  to develop a uniform military culture. Soldiers were Here is a passage from Edmund Burke’s eloquent opening speech during the impeachment of Warren Hastings:I impeach him in the name of the people of India, whose rights he has trodden under his foot and whose country he has turned into a desert. Lastly in the name of human nature itself, in the name of both the sexes, in the name of every age, in the name of every rank, I impeach the common enemy and oppressor of all.Source 5“I impeach the common enemy and oppressor of all.”Dharmashastras – Sanskrit texts prescribing social rules and codes of behaviour, composed from c. 500 BCE onwardsSawar – Men on horsesMusket – A heavy gun used by infantry soldiersMatchlock – An early type of gun in which the powder was ignited by a matchchap 1-4.indd   22 4/22/2022   2:49:42 PMRationalised 2023-24FROM TRADE TO TERRITORY         23increasingly subjected to European-style training, drill and discipline that regulated their life far more than before. Often this created problems since caste and community feelings were ignored in building a force of professional soldiers. Could individuals so easily give up their caste and religious feelings? Could they see themselves only as soldiers and not as members of communities? What did the sepoys feel? How did they react to the changes in their lives and their identity – that is, their sense of who they were? The Revolt of 1857 gives us a glimpse into the world of the sepoys. You will read about this revolt in Chapter 5.ConclusionThus the East India Company was transformed from a trading company to a territorial colonial power. The arrival of new steam technology in the early nineteenth century also aided this process. Till then it would take anywhere between six and eight months to travel to India by sea. Steamships reduced the journey time to three weeks enabling more Britishers and their families to come to a far-off country like India. By 1857, the Company came to exercise direct rule over about 63 per cent of the territory and 78 per cent of the population of the Indian subcontinent. Combined with its indirect influence on the remaining territory and population of the country, the East India Company had virtually the whole of India under its control.Fig. 16 – A sawar of Bengal in the service of the Company, painted by an unknown Indian artist, 1780After the battles with the Marathas and the Mysore rulers, the Company realised the importance of strengthening its cavalry force. chap 1-4.indd   23 4/22/2022   2:49:43 PMRationalised 2023-2424 OUR PASTS – IIILet’s recall1. Match the following:Diwani Tipu Sultan“Tiger of Mysore” right to collect land revenue faujdari adalat  Sepoy  Rani Channamma criminal courtsipahi  led an anti-British  movement in Kitoor 2. Fill in the blanks:(a) The British conquest of Bengal began with the Battle of ___________.(b) Haidar Ali and Tipu Sultan were the rulers of  ___________.(c) Dalhousie implemented the Doctrine of  ___________. (d) Maratha kingdoms were located mainly in the  ___________ part of India.3. State whether true or false:(a) The Mughal empire became stronger in the eighteenth century.(b) The English East India Company was the only European company that traded with India.(c) Maharaja Ranjit Singh was the ruler of Punjab.(d) The British did not introduce administrative  changes in the territories they conquered. Let’s imagineYou are living in England in the late eighteenth or early nineteenth century. How would you have reacted to the stories of British conquests? Remember that you would have read about the immense fortunes that many of the officials were making.Let’s discuss4. What attracted European trading companies to India?5. What were the areas of conflict between the Bengal nawabs and the East India Company?chap 1-4.indd   24 4/22/2022   2:49:46 PMRationalised 2023-24FROM TRADE TO TERRITORY         256. How did the assumption of Diwani benefit the East India Company?7. Explain the system of “subsidiary alliance”.8. In what way was the administration of the Company different from that of Indian rulers?9. Describe the changes that occurred in the  composition of the Company’s army.Let’s do10. After the British conquest of Bengal, Calcutta grew from small village to a big city. Find out about the culture, architecture and the life of Europeans and Indians of the city during the colonial period.11. Collect pictures, stories, poems and information about any of the following – the Rani of Jhansi, Mahadji Sindhia, Haidar Ali, Maharaja Ranjit Singh, Lord Dalhousie or any other contemporary ruler of your region.chap 1-4.indd   25 4/22/2022   2:49:46 PMRationalised 2023-24'"
      ]
     },
     "execution_count": 3,
     "metadata": {},
     "output_type": "execute_result"
    }
   ],
   "source": [
    "chap_2 = pdf_to_txt('Dataset\\chapter-2.pdf')\n",
    "chap_2"
   ]
  },
  {
   "cell_type": "code",
   "execution_count": 4,
   "metadata": {},
   "outputs": [
    {
     "data": {
      "text/plain": [
       "'From Trade to Territory                   The Company Establishes Power2Aurangzeb was the last of the powerful Mughal rulers. He established control over a very large part of the territory that is now known as India. After his death in 1707, many Mughal governors ( subadars) and big zamindars began asserting their authority and establishing regional kingdoms. As powerful regional kingdoms emerged in various parts of India, Delhi could no longer function as an effective centre.By the second half of the eighteenth century, however, a new power was emerging on the political horizon – the British. Did you know that the British originally came as a small trading company and were reluctant to acquire territories? How then did they come to be masters of a vast empire? In this chapter you will see how this came about.Fig. 1 – Bahadur Shah Zafar  and his sons being arrested by Captain HodsonAfter Aurangzeb there was no powerful Mughal ruler, but Mughal emperors continued to be symbolically important. In fact, when a massive rebellion against British rule broke out in 1857, Bahadur Shah Zafar, the Mughal emperor at the time, was seen as the natural leader. Once the revolt was put down by the company, Bahadur Shah Zafar was forced to leave the kingdom, and his sons were shot in  cold blood. chap 1-4.indd   9 4/22/2022   2:49:25 PMRationalised 2023-2410 OUR PASTS – IIIEast India Company Comes EastIn 1600, the East India Company acquired a charter from the ruler of England, Queen Elizabeth I, granting it the sole right to trade with the East. This meant that no other trading group in England could compete with the East India Company. With this charter, the Company could venture across the oceans, looking for new lands from which it could buy goods at a cheap price, and carry them back to Europe to sell at higher prices. The Company did not have to fear competition from other English trading companies. Mercantile trading companies in those days made profit primarily by excluding competition, so that they could buy cheap and sell dear.The royal charter, however, could not prevent other European powers from entering the Eastern markets. By the time the first English ships sailed down the west coast of Africa, round the Cape of Good Hope, and crossed the Indian Ocean, the Portuguese had already established their presence in the western coast of India, and had their base in Goa. In fact, it was Vasco da Gama, a Portuguese explorer, who had discovered this sea route to India in 1498. By the early seventeenth century, the Dutch too were exploring the possibilities of trade in the Indian Ocean. Soon the French traders arrived on the scene. The problem was that all the companies were interested in buying the same things. The fine qualities of cotton and silk produced in India had a big market in Europe. Pepper, cloves, cardamom and cinnamon too were in great demand. Competition amongst the European companies inevitably pushed up the prices at which these goods could be purchased, and this reduced the profits that could be earned. The only way the trading companies could flourish was by eliminating rival competitors. The urge to secure markets, therefore, led to fierce battles between the trading companies. Through the seventeenth and eighteenth centuries they regularly sank each other’s ships, blockaded routes, and prevented rival ships from moving with supplies of Fig. 2 –  Routes to India in the eighteenth centuryMercantile – A business enterprise that makes profit primarily through trade, buying goods cheap and selling them at higher priceschap 1-4.indd   10 4/22/2022   2:49:26 PMRationalised 2023-24FROM TRADE TO TERRITORY         11goods. Trade was carried on with arms and trading posts were protected through fortification. This effort to fortify settlements and carry on profitable trade also led to intense conflict with local rulers. The company therefore found it difficult to separate trade from politics. Let us see how this happened. East India Company begins trade in BengalThe first English factory was set up on the banks of                  the river Hugli in 1651. This was the base from which the Company’s traders, known at that time as “factors”, operated. The factory had a warehouse where goods for export were stored, and it had offices where Company officials sat. As trade expanded, the Company persuaded merchants and traders to come and settle near the factory. By 1696, it began building a fort around the settlement. Two years later, it bribed Mughal officials into giving the Company zamindari rights over three villages. One of these was Kalikata, which later grew into the city of Calcutta or Kolkata as it is known today. It also persuaded the Mughal emperor Aurangzeb to issue a farman granting the Company the right to trade duty free.The Company tried continuously to press for more concessions and manipulate existing privileges. Aurangzeb’s farman, for instance, had granted only the Company the right to trade duty free. But officials of  the Company, who were carrying on private trade on the side, were expected to pay duty. This they refused to pay, causing an enormous loss of revenue for Bengal. How could the Nawab of Bengal, Murshid Quli Khan,  not protest?Fig. 3 – Local boats bring goods from ships in Madras, painted by William Simpson, 1867Farman – A royal edict, a royal orderchap 1-4.indd   11 4/22/2022   2:49:27 PMRationalised 2023-2412 OUR PASTS – IIIHow trade led to battlesThrough the early eighteenth century, the conflict between the Company and the nawabs of Bengal intensified.  After the death of Aurangzeb, the Bengal nawabs asserted their power and autonomy, as other regional powers were doing at that time. Murshid Quli Khan was followed by Alivardi Khan and then Sirajuddaulah as the Nawab of Bengal. Each one of them was a strong ruler. They refused to grant the Company concessions, demanded large tributes for the Company’s right to trade, denied it any right to mint coins, and stopped it from extending its fortifications. Accusing the Company of deceit, they claimed that the Company was depriving the Bengal government of huge amounts of revenue and undermining the authority of the nawab. It was refusing to pay taxes, writing disrespectful letters, and trying to humiliate the nawab and his officials. The Company on its part declared that the unjust demands of the local officials were ruining the trade of the Company, and trade could flourish only if the duties were removed. It was also convinced that to expand trade, it had to enlarge its settlements, buy up villages, and rebuild its forts.    The conflicts led to confrontations and finally culminated in the famous Battle of Plassey.The Battle of Plassey When Alivardi Khan died in 1756, Sirajuddaulah became the nawab of Bengal. The Company was worried about his power and keen on a puppet ruler who would  willingly give trade concessions and other privileges. So it tried, though without success, to help one of Sirajuddaulah’s rivals become the nawab. An infuriated Sirajuddaulah asked the Company to stop meddling in the political affairs of his dominion, stop fortification, and pay the revenues. After negotiations failed, the Nawab marched with 30,000 soldiers to the English factory at Kassimbazar, captured the Company officials, locked the warehouse, disarmed all Englishmen, and blockaded English ships. Then he marched to Calcutta to establish control over the Company’s fort there. On hearing the news of the fall of Calcutta, Company officials in Madras sent forces under the command of Robert Clive, reinforced by naval fleets. Prolonged negotiations with the Nawab followed. Finally,  in 1757, Robert Clive led the Company’s army against Sirajuddaulah at Plassey. One of the main reasons for  Did you know?Did you know how Plassey got its name? Plassey is an anglicised pronunciation  of Palashi and the place derived its name from the palash  tree known for its beautiful red flowers that yield gulal , the powder used in the festival of Holi.Fig. 4 – Robert Clive Puppet – Literally, a toy that you can move with strings. The term is used disapprovingly to refer to a person who is controlled by someone else.chap 1-4.indd   12 4/22/2022   2:49:28 PMRationalised 2023-24FROM TRADE TO TERRITORY         13the defeat of the Nawab was that the forces led by Mir Jafar, one of Sirajuddaulah’s commanders, never fought the battle. Clive had managed to secure his support by promising to make him nawab after crushing Sirajuddaulah. The Battle of Plassey became famous because it was the first major victory the Company won in India. Fig. 5 – The General Court Room, East India House, Leadenhall StreetThe Court of Proprietors of the East India Company had their meetings in the East India House on Leadenhall Street in London. This is a picture of one of their meetings in progress.The promise of richesThe territorial ambitions of the mercantile East India Company were viewed with distrust and doubt in England. After the Battle of Plassey, Robert Clive wrote to William Pitt, one of the Principal Secretaries of State to the English monarch, on 7 January 1759 from Calcutta: But so large a sovereignty may possibly be an object too extensive for a mercantile Company … I flatter myself … that there will be little or no difficulty in obtaining the absolute possession of these rich kingdoms: ... Now I leave you to judge, whether an income yearly of two million sterling with the possession of three provinces … be an object deserving the public attention ...Source 1Fig. 6 –  Sirajuddaulahchap 1-4.indd   13 4/22/2022   2:49:30 PMRationalised 2023-2414 OUR PASTS – IIIAfter the defeat at Plassey, Sirajuddaulah was assassinated and Mir Jafar made the nawab. The Company was still unwilling to take over the responsibility of administration. Its prime objective was the expansion of trade. If this could be done without conquest, through the help of local rulers who were willing to grant privileges, then territories need not be taken over directly. Soon the Company discovered that this was rather difficult. For even the puppet nawabs were not always as helpful as the Company wanted them to be. After all, they had to maintain a basic appearance of dignity and sovereignty if they wanted respect from their subjects. What could the Company do? When Mir Jafar protested, the Company deposed him and installed Mir Qasim in his place. When Mir Qasim complained, he in turn was defeated in a battle fought at Buxar (1764), driven out of Bengal, and Mir Jafar was reinstalled. The Nawab had to pay Rs. 500,000 every month but the Company wanted more money to finance its wars, and meet the demands of trade and its other expenses. It wanted more territories and more revenue. By the time Mir Jafar died in 1765, the mood of the Company had changed. Having failed to work with puppet nawabs, Clive declared: “We must indeed become  nawabs ourselves”.Finally, in 1765 the Mughal emperor appointed the Company as the Diwan of the provinces of Bengal. The Diwani allowed the Company to use the vast revenue resources of Bengal. This solved a major problem that the Company had earlier faced. From the early eighteenth century, its trade with India had expanded. But it had to buy most of the goods in India with gold and silver imported from Britain. This was because at this time Britain had no goods to sell in India. The outflow of gold from Britain slowed after the Battle of Plassey, and entirely stopped after the assumption of Diwani. Now revenues from India could finance Company expenses. These revenues could be used to purchase cotton and silk textiles in India, maintain Company troops, and meet the cost of building the Company fort and offices at Calcutta.  Company officials become “nabobs”What did it mean to be nawabs? It meant of course that the Company acquired more power and authority. But it also meant something else. Each company servant began to have visions of living like nawabs.Source 2The Nawab complainsIn 1733 the Nawab of Bengal said this about the English traders:When they first came into the country they petitioned the then government in a humble manner for liberty to purchase a spot of ground to build a factory house upon, which was no sooner granted but they built a strong fort, surrounded it  with a ditch which has communication with the river and mounted a great number of guns upon the walls. They have enticed several merchants and others to go and take protection under them and they collect a revenue which amounts to Rs. 100,000… they rob and plunder and carry great number of the king’s subjects of both sexes into slavery into their own country … chap 1-4.indd   14 4/22/2022   2:49:30 PMRationalised 2023-24FROM TRADE TO TERRITORY         15After the Battle of Plassey, the actual nawabs of Bengal were forced to give land and vast sums of money as personal gifts to Company officials. Robert Clive himself amassed a fortune in India. He had come to Madras (now Chennai) from England in 1743 at the age of 18. When in 1767 he left India, his Indian fortune was worth £401,102. Interestingly, when he was appointed Governor of Bengal in 1764, he was asked to remove corruption in Company administration but he was himself cross-examined in 1772 by the British Parliament which was suspicious of his vast wealth. Although he was acquitted, he committed suicide  in 1774. However, not all Company officials succeeded in making money like Clive. Many died an early death in India due to disease and war, and it would not be right to regard all of them as corrupt and dishonest. Many of them came from humble backgrounds and their uppermost desire was to earn enough in India, return to Britain and lead a comfortable life. Those who managed to return with wealth led flashy lives and flaunted their riches. They were called  “nabobs” – an anglicised version of the Indian word nawab. They were often seen as upstarts and social climbers in British society and were ridiculed or made fun of in plays and cartoons. Company Rule ExpandsIf we analyse the process of annexation of Indian states by the East India Company from 1757 to 1857, certain key aspects emerge. The Company rarely launched a direct military attack on an unknown territory. Instead it used a variety of political, economic and diplomatic methods to extend its influence before annexing an Indian kingdom. After the Battle of Buxar (1764), the Company appointed Residents in Indian states. They were political or commercial agents and their job was to serve and further the interests of the Company. Through the Residents, the Company officials began interfering in the internal affairs of Indian states. They tried to decide who was to be the successor to the throne, and who was to be appointed in administrative posts. Sometimes, the Company forced the states into a “subsidiary alliance”. According to the terms of this alliance, Indian rulers were not allowed to have their independent armed forces. They were to be protected by the Company, but How did Clive see himself?At his hearing in front  of a Committee in Parliament, Clive declared that he had shown admirable restraint after the Battle of Plassey. This is what he said:Consider the situation in which the victory at Plassey had placed me! A great prince was dependent on my pleasure; an opulent city lay at my mercy; its richest bankers bid against each other for my smiles; I walked through vaults which were thrown open to me alone, piled on either hand with gold and jewels! Mr Chairman, at this moment I stand astonished at my moderation.Source 3Imagine that you are a young Company official  who has been in India for a few months. Write a letter home to your mother telling her about your luxurious life and contrasting it with your earlier life in Britain. Activity\\uf086chap 1-4.indd   15 4/22/2022   2:49:30 PMRationalised 2023-2416 OUR PASTS – IIISource 4Fig. 7 – Nawab Shujauddaulah  of Awadh, with his sons and the British Resident, painted by Tilly Kettle (oil, 1772)The treaties that followed the Battle of Buxar forced Nawab Shujauddaulah to give up much of his authority. Here, however, he poses in regal splendour, towering over the Resident.Injunction – InstructionSubservience – Submissivenesshad to pay for the “subsidiary forces” that the Company was supposed to maintain for the purpose of this protection. If the Indian rulers failed to make the payment, then part of their territory was taken away as penalty. For example, when Richard Wellesley was Governor-General (1798–1805), the Nawab of Awadh was forced to give over half of his territory to the Company in 1801, as he failed to pay for the “subsidiary forces”. Hyderabad was also forced to cede territories on similar grounds.What power did the Resident have?This is what James Mill, the famous economist and political philosopher from Scotland, wrote about the residents appointed by the Company. We place a resident, who really is king of the country, whatever injunctions of non-interference he may act under. As long as the prince acts in perfect subservience, and does what is agreeable to the residents, that is, to the British Government, things go on quietly; they are managed without the resident appearing much in the administration of affairs … but when anything of a different nature happens, the moment the prince takes a course which the British Government think wrong, then comes clashing and disturbance.James Mill (1832)Tipu Sultan – The “Tiger of Mysore”The Company resorted to direct military confrontation when it saw a threat to its political or economic interests. This can be illustrated with the case of the southern Indian state of Mysore.Mysore had grown in strength under the leadership of powerful rulers like Haidar Ali (ruled from 1761 to 1782) and his famous son Tipu Sultan (ruled from 1782 to 1799). Mysore controlled the profitable trade of the Malabar coast where the Company purchased pepper and cardamom. In 1785, Tipu Sultan stopped the export of sandalwood, pepper and cardamom through the ports of his kingdom, and disallowed local merchants from trading with the Company. He also established a close Fig. 8  – Tipu Sultanchap 1-4.indd   16 4/22/2022   2:49:32 PMRationalised 2023-24FROM TRADE TO TERRITORY         17relationship with the French in India, and modernised his army with their help. The British were furious. They saw Haidar and Tipu as ambitious, arrogant and dangerous – rulers who had to be controlled and crushed. Four wars were fought with Mysore (1767–69, 1780–84, 1790–92 and 1799). Only in the last – the Battle of Seringapatam – did the Company ultimately win a victory. Tipu Sultan was killed defending his capital Seringapatam, Mysore was placed under the former ruling dynasty of the Wodeyars and a subsidiary alliance was imposed on the state. Fig. 10 – Tipu’s toy tiger This is the picture of a big mechanical toy that Tipu possessed.  You can see a tiger mauling a European soldier. When its handle was turned, the toy tiger roared and the soldier shrieked. This  toy-tiger is now kept in the Victoria and Albert Museum in London. The British took it away when Tipu Sultan died defending his capital Seringapatam on 4 May 1799.Fig. 9 – Cornwallis receiving the sons of Tipu Sultan as hostages, painted by Daniel Orme, 1793The Company forces were defeated by Haidar Ali and Tipu Sultan in several battles. But in 1792, attacked by the combined forces of the Marathas, the Nizam of Hyderabad and the Company, Tipu was forced to sign a treaty with the British by which two of his sons were  taken away as hostages. British painters always liked painting scenes that showed the triumph of  British power.The legend of TipuKings are often surrounded by legend and their powers glorified through folklore. Here is a legend about Tipu Sultan who became the ruler of Mysore in 1782. It is said that once he went hunting in the forest with a French friend. There he came face to face with a tiger. His gun did not work and his dagger fell to the ground. He battled with the tiger unarmed until he  managed to reach down and pick up the dagger. Finally, he was able to kill the tiger in the battle. After this, he came to be known as the “Tiger of Mysore”. He had the image of the tiger on his flag. chap 1-4.indd   17 4/22/2022   2:49:34 PMRationalised 2023-2418 OUR PASTS – IIIWar with the Marathas From the late eighteenth century, the Company also sought to curb and eventually destroy Maratha power. With their defeat in the Third Battle of Panipat in 1761, the Marathas’ dream of ruling from Delhi was shattered. They were divided into many states under different chiefs (sardars) belonging to dynasties such as Sindhia, Holkar, Gaikwad and Bhonsle. These chiefs were held together in a confederacy  under a Peshwa (Principal Minister) who became its effective military and administrative head based in Pune. Mahadji Sindhia and Nana Phadnis were two famous Maratha soldiers and statesmen of the late eighteenth century. The Marathas were subdued in a series of wars. In the first war that ended in 1782 with the Treaty of Salbai, there was no clear victor. The Second Anglo-Maratha War (1803–05) was fought on different fronts, resulting in the British gaining Orissa and the territories north of the Yamuna river including Agra and Delhi. Finally, the Third Anglo-Maratha War of 1817–19 crushed Maratha power. The Peshwa was removed and sent away to Bithur near Kanpur with a pension. The Company now had complete control over the territories south of the Vindhyas. The claim to paramountcyIt is clear from the above that from the early nineteenth century, the Company pursued an aggressive policy of territorial expansion. Under Lord Hastings (Governor-General from 1813 to 1823), a new policy of “paramountcy” was initiated. Now the Company claimed that its authority was paramount or supreme, hence its power was greater than that of Indian states. In order to protect its interests, it was justified in annexing or threatening to annex any Indian kingdom. This view continued to guide later British policies as well. This process, however, did not go unchallenged. For example, when the British tried to annex the small state of Kitoor (in Karnataka today), Rani Channamma took to arms and led an anti-British resistance movement. She was arrested in 1824 and died in prison in 1829. But Rayanna, a poor chowkidar of Sangoli in Kitoor, carried on the resistance. With popular support, he destroyed many British camps and records. He was caught and hanged by the British in 1830. You will read more about several cases of resistance later in  the book.Fig. 11 – Lord Hastings.  Confederacy – AllianceActivityImagine that you have   come across two old  newspapers reporting on the Battle of Seringapatam and the death of Tipu Sultan. One is a British paper and the other is from Mysore. Write the headline for each of  the two newspapers.\\uf086Fig. 12 – A Statue of the  Queen of Kitoor (Karnataka) chap 1-4.indd   18 4/22/2022   2:49:36 PMRationalised 2023-24FROM TRADE TO TERRITORY         19In the late 1830s, the East India Company became worried about Russia. It imagined that Russia might expand across Asia and enter India from the north-west. Driven by this fear, the British now wanted to secure their control over the north-west. They fought a prolonged war with Afghanistan between 1838 and 1842, and established indirect Company rule there. Sind was taken over in 1843. Next in line was Punjab. But the presence of Maharaja Ranjit Singh held back the Company. After his death in 1839, two prolonged wars were fought with the Sikh  kingdom. Ultimately, in 1849, Punjab  was annexed.The Doctrine of LapseThe final wave of annexations occurred under Lord Dalhousie who was the Governor-General from 1848 to 1856. He devised a policy that came to be known as the Doctrine of Lapse. The doctrine declared that if an Indian ruler died without a male heir his kingdom would “lapse”, that is, become a part of Company territory. One kingdom after another was annexed simply by applying this doctrine: Satara (1848), Sambalpur (1850), Udaipur (1852), Nagpur (1853) and  Jhansi (1854). Finally, in 1856, the Company also took over Awadh. This time the British had an added argument – they said they were “obliged by duty” to take over Awadh in order to free the people from the “misgovernment” of the Nawab! Enraged by the humiliating way in which  the Nawab was deposed, the people of Awadh joined the great revolt that broke out in 1857. Fig. 13  – Maharaja Ranjit Singh holding court  Fig. 14   – A portrait of  Veer Surendra Sai ActivityImagine that you are a nawab’s nephew and have been brought up thinking that you will one day be king. Now you find that this will not be allowed by the British because of the new Doctrine of Lapse. What will be your feelings? What will you plan to do so that you can inherit the crown? \\uf086chap 1-4.indd   19 4/22/2022   2:49:39 PMRationalised 2023-2420 OUR PASTS – IIIFig. 14 a, b, c – Expansion of British territorial power in IndiaLook at these maps along with a present-day political map of India. In each of these maps, try and identify the different parts of India that were not under British rule. Fig. 14 a – India, 1797 Fig. 14 b – India, 1840Fig. 14 c – India, 1857chap 1-4.indd   20 4/22/2022   2:49:40 PMRationalised 2023-24FROM TRADE TO TERRITORY         21Setting up a New AdministrationWarren Hastings (Governor-General from 1773 to 1785) was one of the many important figures who played a significant role in the expansion of Company power. By his time the Company had acquired power not only                 in Bengal, but also in Bombay and Madras. British territories were broadly divided into administrative units called Presidencies. There were three Presidencies:  Bengal, Madras and Bombay. Each was ruled by a Governor. The supreme head of the administration was the Governor-General. Warren Hastings, the first Governor-General, introduced several administrative reforms, notably in the sphere of justice. From 1772 a new system of justice was established. Each district was to have two courts – a criminal court (faujdari adalat ) and a civil court ( diwani adalat ). Maulvis and Hindu pandits interpreted Indian laws for the European district collectors who presided over civil courts. The criminal courts were still under a qazi and a mufti but under the supervision of the collectors. Qazi – A judgeMufti – A jurist of the Muslim community responsible for expounding the law           that the qazi would administerImpeachment – A trial by the House of Lords           in England for charges of misconduct brought against a person in the House of CommonsFig. 15 – The trial of Warren Hastings, painted by R.G. Pollard, 1789When Warren Hastings went back to England in 1785, Edmund Burke accused him of being personally responsible for the misgovernment of Bengal. This led to an impeachment proceeding in the British Parliament that lasted seven years. chap 1-4.indd   21 4/22/2022   2:49:42 PMRationalised 2023-2422 OUR PASTS – IIIA major problem was that the Brahman pandits gave different interpretations of local laws based on different schools of the dharmashastra . To bring about uniformity, in 1775 eleven pandits were asked to compile a digest of Hindu laws. N.B. Halhed translated this digest into English. By 1778, a code of Muslim laws was also compiled for the benefit of European judges. Under the Regulating Act of 1773, a new Supreme Court was established, while a court of appeal – the Sadar Nizamat Adalat – was also set up at Calcutta.The principal figure in an Indian district was the Collector. As the title suggests, his main job was to collect revenue and taxes and maintain law and order in his district with the help of judges, police officers and darogas . His office – the Collectorate – became the new centre of power and patronage that steadily replaced previous holders of authority.The Company armyColonial rule in India brought in some new ideas of administration and reform but its power rested on its military strength. The Mughal army was mainly composed of cavalry (sawars: trained soldiers on horseback) and infantry, that is, paidal (foot) soldiers. They were given training in archery ( teer-andazi ) and the use of the sword. The cavalry dominated the army and the Mughal state did not feel the need to have a large professionally trained infantry. The rural areas had a large number of armed peasants and the local zamindars often supplied the Mughals with paidal soldiers.A change occurred in the eighteenth century when Mughal successor states like Awadh and Benaras started recruiting peasants into their armies and training them as professional soldiers. The East India Company adopted the same method when it began recruitment for its own army, which came to be known as the sepoy army (from the Indian word sipahi, meaning soldier). As warfare technology changed from the 1820s, the cavalry requirements of the Company’s army declined. This is because the British empire was fighting in Burma, Afghanistan and Egypt where soldiers were armed with muskets and matchlocks. The soldiers of the Company’s army had to keep pace with changing military requirements and its infantry regiments now became more important. In the early nineteenth century, the British began  to develop a uniform military culture. Soldiers were Here is a passage from Edmund Burke’s eloquent opening speech during the impeachment of Warren Hastings:I impeach him in the name of the people of India, whose rights he has trodden under his foot and whose country he has turned into a desert. Lastly in the name of human nature itself, in the name of both the sexes, in the name of every age, in the name of every rank, I impeach the common enemy and oppressor of all.Source 5“I impeach the common enemy and oppressor of all.”Dharmashastras – Sanskrit texts prescribing social rules and codes of behaviour, composed from c. 500 BCE onwardsSawar – Men on horsesMusket – A heavy gun used by infantry soldiersMatchlock – An early type of gun in which the powder was ignited by a matchchap 1-4.indd   22 4/22/2022   2:49:42 PMRationalised 2023-24FROM TRADE TO TERRITORY         23increasingly subjected to European-style training, drill and discipline that regulated their life far more than before. Often this created problems since caste and community feelings were ignored in building a force of professional soldiers. Could individuals so easily give up their caste and religious feelings? Could they see themselves only as soldiers and not as members of communities? What did the sepoys feel? How did they react to the changes in their lives and their identity – that is, their sense of who they were? The Revolt of 1857 gives us a glimpse into the world of the sepoys. You will read about this revolt in Chapter 5.ConclusionThus the East India Company was transformed from a trading company to a territorial colonial power. The arrival of new steam technology in the early nineteenth century also aided this process. Till then it would take anywhere between six and eight months to travel to India by sea. Steamships reduced the journey time to three weeks enabling more Britishers and their families to come to a far-off country like India. By 1857, the Company came to exercise direct rule over about 63 per cent of the territory and 78 per cent of the population of the Indian subcontinent. Combined with its indirect influence on the remaining territory and population of the country, the East India Company had virtually the whole of India under its control.Fig. 16 – A sawar of Bengal in the service of the Company, painted by an unknown Indian artist, 1780After the battles with the Marathas and the Mysore rulers, the Company realised the importance of strengthening its cavalry force. '"
      ]
     },
     "execution_count": 4,
     "metadata": {},
     "output_type": "execute_result"
    }
   ],
   "source": [
    "undesired = 'chap 1-4.indd   23 4/22/2022   2:49:43 PMRationalised 2023-2424 OUR PASTS – IIILet’s recall1. Match the following:Diwani Tipu Sultan“Tiger of Mysore” right to collect land revenue faujdari adalat  Sepoy  Rani Channamma criminal courtsipahi  led an anti-British  movement in Kitoor 2. Fill in the blanks:(a) The British conquest of Bengal began with the Battle of ___________.(b) Haidar Ali and Tipu Sultan were the rulers of  ___________.(c) Dalhousie implemented the Doctrine of  ___________. (d) Maratha kingdoms were located mainly in the  ___________ part of India.3. State whether true or false:(a) The Mughal empire became stronger in the eighteenth century.(b) The English East India Company was the only European company that traded with India.(c) Maharaja Ranjit Singh was the ruler of Punjab.(d) The British did not introduce administrative  changes in the territories they conquered. Let’s imagineYou are living in England in the late eighteenth or early nineteenth century. How would you have reacted to the stories of British conquests? Remember that you would have read about the immense fortunes that many of the officials were making.Let’s discuss4. What attracted European trading companies to India?5. What were the areas of conflict between the Bengal nawabs and the East India Company?chap 1-4.indd   24 4/22/2022   2:49:46 PMRationalised 2023-24FROM TRADE TO TERRITORY         256. How did the assumption of Diwani benefit the East India Company?7. Explain the system of “subsidiary alliance”.8. In what way was the administration of the Company different from that of Indian rulers?9. Describe the changes that occurred in the  composition of the Company’s army.Let’s do10. After the British conquest of Bengal, Calcutta grew from small village to a big city. Find out about the culture, architecture and the life of Europeans and Indians of the city during the colonial period.11. Collect pictures, stories, poems and information about any of the following – the Rani of Jhansi, Mahadji Sindhia, Haidar Ali, Maharaja Ranjit Singh, Lord Dalhousie or any other contemporary ruler of your region.chap 1-4.indd   25 4/22/2022   2:49:46 PMRationalised 2023-24'\n",
    "chap_2 = chap_2.replace(undesired,'')\n",
    "chap_2"
   ]
  },
  {
   "cell_type": "code",
   "execution_count": 5,
   "metadata": {},
   "outputs": [
    {
     "name": "stderr",
     "output_type": "stream",
     "text": [
      "c:\\Users\\Krishna Chaitanya N\\AppData\\Local\\Programs\\Python\\Python310\\lib\\site-packages\\tqdm\\auto.py:21: TqdmWarning: IProgress not found. Please update jupyter and ipywidgets. See https://ipywidgets.readthedocs.io/en/stable/user_install.html\n",
      "  from .autonotebook import tqdm as notebook_tqdm\n"
     ]
    }
   ],
   "source": [
    "from summarizer import Summarizer"
   ]
  },
  {
   "cell_type": "code",
   "execution_count": 6,
   "metadata": {},
   "outputs": [
    {
     "name": "stderr",
     "output_type": "stream",
     "text": [
      "Some weights of the model checkpoint at bert-large-uncased were not used when initializing BertModel: ['cls.predictions.bias', 'cls.predictions.transform.dense.weight', 'cls.predictions.transform.LayerNorm.bias', 'cls.predictions.transform.LayerNorm.weight', 'cls.seq_relationship.bias', 'cls.predictions.transform.dense.bias', 'cls.seq_relationship.weight']\n",
      "- This IS expected if you are initializing BertModel from the checkpoint of a model trained on another task or with another architecture (e.g. initializing a BertForSequenceClassification model from a BertForPreTraining model).\n",
      "- This IS NOT expected if you are initializing BertModel from the checkpoint of a model that you expect to be exactly identical (initializing a BertForSequenceClassification model from a BertForSequenceClassification model).\n"
     ]
    },
    {
     "data": {
      "text/plain": [
       "'From Trade to Territory                   The Company Establishes Power2Aurangzeb was the last of the powerful Mughal rulers. As powerful regional kingdoms emerged in various parts of India, Delhi could no longer function as an effective centre. The Company did not have to fear competition from other English trading companies. Mercantile trading companies in those days made profit primarily by excluding competition, so that they could buy cheap and sell dear. By the early seventeenth century, the Dutch too were exploring the possibilities of trade in the Indian Ocean. The problem was that all the companies were interested in buying the same things. The fine qualities of cotton and silk produced in India had a big market in Europe. Pepper, cloves, cardamom and cinnamon too were in great demand. The only way the trading companies could flourish was by eliminating rival competitors. Trade was carried on with arms and trading posts were protected through fortification. This effort to fortify settlements and carry on profitable trade also led to intense conflict with local rulers. The factory had a warehouse where goods for export were stored, and it had offices where Company officials sat. Two years later, it bribed Mughal officials into giving the Company zamindari rights over three villages. One of these was Kalikata, which later grew into the city of Calcutta or Kolkata as it is known today. But officials of  the Company, who were carrying on private trade on the side, were expected to pay duty. This they refused to pay, causing an enormous loss of revenue for Bengal. How could the Nawab of Bengal, Murshid Quli Khan,  not protest?Fig. After the death of Aurangzeb, the Bengal nawabs asserted their power and autonomy, as other regional powers were doing at that time. Murshid Quli Khan was followed by Alivardi Khan and then Sirajuddaulah as the Nawab of Bengal. The Company on its part declared that the unjust demands of the local officials were ruining the trade of the Company, and trade could flourish only if the duties were removed. It was also convinced that to expand trade, it had to enlarge its settlements, buy up villages, and rebuild its forts. The conflicts led to confrontations and finally culminated in the famous Battle of Plassey. The Company was worried about his power and keen on a puppet ruler who would  willingly give trade concessions and other privileges. So it tried, though without success, to help one of Sirajuddaulah’s rivals become the nawab. An infuriated Sirajuddaulah asked the Company to stop meddling in the political affairs of his dominion, stop fortification, and pay the revenues. Then he marched to Calcutta to establish control over the Company’s fort there. On hearing the news of the fall of Calcutta, Company officials in Madras sent forces under the command of Robert Clive, reinforced by naval fleets. Clive had managed to secure his support by promising to make him nawab after crushing Sirajuddaulah. The promise of richesThe territorial ambitions of the mercantile East India Company were viewed with distrust and doubt in England. The Company was still unwilling to take over the responsibility of administration. For even the puppet nawabs were not always as helpful as the Company wanted them to be. When Mir Jafar protested, the Company deposed him and installed Mir Qasim in his place. This solved a major problem that the Company had earlier faced. This was because at this time Britain had no goods to sell in India. The outflow of gold from Britain slowed after the Battle of Plassey, and entirely stopped after the assumption of Diwani. It meant of course that the Company acquired more power and authority. Each company servant began to have visions of living like nawabs. When in 1767 he left India, his Indian fortune was worth £401,102. Interestingly, when he was appointed Governor of Bengal in 1764, he was asked to remove corruption in Company administration but he was himself cross-examined in 1772 by the British Parliament which was suspicious of his vast wealth. However, not all Company officials succeeded in making money like Clive. Many died an early death in India due to disease and war, and it would not be right to regard all of them as corrupt and dishonest. Many of them came from humble backgrounds and their uppermost desire was to earn enough in India, return to Britain and lead a comfortable life. Those who managed to return with wealth led flashy lives and flaunted their riches. They were often seen as upstarts and social climbers in British society and were ridiculed or made fun of in plays and cartoons. The Company rarely launched a direct military attack on an unknown territory. They were political or commercial agents and their job was to serve and further the interests of the Company. Sometimes, the Company forced the states into a “subsidiary alliance”. According to the terms of this alliance, Indian rulers were not allowed to have their independent armed forces. They were to be protected by the Company, but How did Clive see himself?At his hearing in front  of a Committee in Parliament, Clive declared that he had shown admirable restraint after the Battle of Plassey. Mr Chairman, at this moment I stand astonished at my moderation. Source 3Imagine that you are a young Company official  who has been in India for a few months. Write a letter home to your mother telling her about your luxurious life and contrasting it with your earlier life in Britain. Activity\\uf086chap 1-4.indd   15 4/22/2022   2:49:30 PMRationalised 2023-2416 OUR PASTS – IIISource 4Fig. For example, when Richard Wellesley was Governor-General (1798–1805), the Nawab of Awadh was forced to give over half of his territory to the Company in 1801, as he failed to pay for the “subsidiary forces”. Hyderabad was also forced to cede territories on similar grounds. This can be illustrated with the case of the southern Indian state of Mysore. They saw Haidar and Tipu as ambitious, arrogant and dangerous – rulers who had to be controlled and crushed. When its handle was turned, the toy tiger roared and the soldier shrieked. This  toy-tiger is now kept in the Victoria and Albert Museum in London. The British took it away when Tipu Sultan died defending his capital Seringapatam on 4 May 1799.Fig. British painters always liked painting scenes that showed the triumph of  British power. The legend of TipuKings are often surrounded by legend and their powers glorified through folklore. Here is a legend about Tipu Sultan who became the ruler of Mysore in 1782. He battled with the tiger unarmed until he  managed to reach down and pick up the dagger. These chiefs were held together in a confederacy  under a Peshwa (Principal Minister) who became its effective military and administrative head based in Pune. The Second Anglo-Maratha War (1803–05) was fought on different fronts, resulting in the British gaining Orissa and the territories north of the Yamuna river including Agra and Delhi. The claim to paramountcyIt is clear from the above that from the early nineteenth century, the Company pursued an aggressive policy of territorial expansion. Under Lord Hastings (Governor-General from 1813 to 1823), a new policy of “paramountcy” was initiated. For example, when the British tried to annex the small state of Kitoor (in Karnataka today), Rani Channamma took to arms and led an anti-British resistance movement. But Rayanna, a poor chowkidar of Sangoli in Kitoor, carried on the resistance. With popular support, he destroyed many British camps and records. 12 – A Statue of the  Queen of Kitoor (Karnataka) chap 1-4.indd   18 4/22/2022   2:49:36 PMRationalised 2023-24FROM TRADE TO TERRITORY         19In the late 1830s, the East India Company became worried about Russia. Driven by this fear, the British now wanted to secure their control over the north-west. They fought a prolonged war with Afghanistan between 1838 and 1842, and established indirect Company rule there. But the presence of Maharaja Ranjit Singh held back the Company. After his death in 1839, two prolonged wars were fought with the Sikh  kingdom. He devised a policy that came to be known as the Doctrine of Lapse. This time the British had an added argument – they said they were “obliged by duty” to take over Awadh in order to free the people from the “misgovernment” of the Nawab! British territories were broadly divided into administrative units called Presidencies. The supreme head of the administration was the Governor-General. The criminal courts were still under a qazi and a mufti but under the supervision of the collectors. The principal figure in an Indian district was the Collector. They were given training in archery ( teer-andazi ) and the use of the sword. The cavalry dominated the army and the Mughal state did not feel the need to have a large professionally trained infantry. The East India Company adopted the same method when it began recruitment for its own army, which came to be known as the sepoy army (from the Indian word sipahi, meaning soldier). Lastly in the name of human nature itself, in the name of both the sexes, in the name of every age, in the name of every rank, I impeach the common enemy and oppressor of all. Could individuals so easily give up their caste and religious feelings? Could they see themselves only as soldiers and not as members of communities? Till then it would take anywhere between six and eight months to travel to India by sea. By 1857, the Company came to exercise direct rule over about 63 per cent of the territory and 78 per cent of the population of the Indian subcontinent.'"
      ]
     },
     "execution_count": 6,
     "metadata": {},
     "output_type": "execute_result"
    }
   ],
   "source": [
    "model = Summarizer()\n",
    "summary = model(chap_2,min_length=60, max_length=500, ratio=0.4)\n",
    "summary = ''.join(summary)\n",
    "summary"
   ]
  },
  {
   "cell_type": "code",
   "execution_count": 8,
   "metadata": {},
   "outputs": [
    {
     "data": {
      "text/plain": [
       "0.30216007775025866"
      ]
     },
     "execution_count": 8,
     "metadata": {},
     "output_type": "execute_result"
    }
   ],
   "source": [
    "len(summary)/len(chap_2)"
   ]
  },
  {
   "cell_type": "code",
   "execution_count": 9,
   "metadata": {},
   "outputs": [
    {
     "data": {
      "text/plain": [
       "'From Trade to Territory                   The Company Establishes Power2Aurangzeb was the last of the powerful Mughal rulers. As powerful regional kingdoms emerged in various parts of India, Delhi could no longer function as an effective centre. The Company did not have to fear competition from other English trading companies. Mercantile trading companies in those days made profit primarily by excluding competition, so that they could buy cheap and sell dear. By the early seventeenth century, the Dutch too were exploring the possibilities of trade in the Indian Ocean. The problem was that all the companies were interested in buying the same things. The fine qualities of cotton and silk produced in India had a big market in Europe. Pepper, cloves, cardamom and cinnamon too were in great demand. The only way the trading companies could flourish was by eliminating rival competitors. Trade was carried on with arms and trading posts were protected through fortification. This effort to fortify settlements and carry on profitable trade also led to intense conflict with local rulers. The factory had a warehouse where goods for export were stored, and it had offices where Company officials sat. Two years later, it bribed Mughal officials into giving the Company zamindari rights over three villages. One of these was Kalikata, which later grew into the city of Calcutta or Kolkata as it is known today. But officials of  the Company, who were carrying on private trade on the side, were expected to pay duty. This they refused to pay, causing an enormous loss of revenue for Bengal. How could the Nawab of Bengal, Murshid Quli Khan,  not protest?Fig. After the death of Aurangzeb, the Bengal nawabs asserted their power and autonomy, as other regional powers were doing at that time. Murshid Quli Khan was followed by Alivardi Khan and then Sirajuddaulah as the Nawab of Bengal. The Company on its part declared that the unjust demands of the local officials were ruining the trade of the Company, and trade could flourish only if the duties were removed. It was also convinced that to expand trade, it had to enlarge its settlements, buy up villages, and rebuild its forts. The conflicts led to confrontations and finally culminated in the famous Battle of Plassey. The Company was worried about his power and keen on a puppet ruler who would  willingly give trade concessions and other privileges. So it tried, though without success, to help one of Sirajuddaulah’s rivals become the nawab. An infuriated Sirajuddaulah asked the Company to stop meddling in the political affairs of his dominion, stop fortification, and pay the revenues. Then he marched to Calcutta to establish control over the Company’s fort there. On hearing the news of the fall of Calcutta, Company officials in Madras sent forces under the command of Robert Clive, reinforced by naval fleets. Clive had managed to secure his support by promising to make him nawab after crushing Sirajuddaulah. The promise of richesThe territorial ambitions of the mercantile East India Company were viewed with distrust and doubt in England. The Company was still unwilling to take over the responsibility of administration. For even the puppet nawabs were not always as helpful as the Company wanted them to be. When Mir Jafar protested, the Company deposed him and installed Mir Qasim in his place. This solved a major problem that the Company had earlier faced. This was because at this time Britain had no goods to sell in India. The outflow of gold from Britain slowed after the Battle of Plassey, and entirely stopped after the assumption of Diwani. It meant of course that the Company acquired more power and authority. Each company servant began to have visions of living like nawabs. When in 1767 he left India, his Indian fortune was worth £401,102. Interestingly, when he was appointed Governor of Bengal in 1764, he was asked to remove corruption in Company administration but he was himself cross-examined in 1772 by the British Parliament which was suspicious of his vast wealth. However, not all Company officials succeeded in making money like Clive. Many died an early death in India due to disease and war, and it would not be right to regard all of them as corrupt and dishonest. Many of them came from humble backgrounds and their uppermost desire was to earn enough in India, return to Britain and lead a comfortable life. Those who managed to return with wealth led flashy lives and flaunted their riches. They were often seen as upstarts and social climbers in British society and were ridiculed or made fun of in plays and cartoons. The Company rarely launched a direct military attack on an unknown territory. They were political or commercial agents and their job was to serve and further the interests of the Company. Sometimes, the Company forced the states into a “subsidiary alliance”. According to the terms of this alliance, Indian rulers were not allowed to have their independent armed forces. They were to be protected by the Company, but How did Clive see himself?At his hearing in front  of a Committee in Parliament, Clive declared that he had shown admirable restraint after the Battle of Plassey. Mr Chairman, at this moment I stand astonished at my moderation. Source 3Imagine that you are a young Company official  who has been in India for a few months. Write a letter home to your mother telling her about your luxurious life and contrasting it with your earlier life in Britain. Activity\\uf086chap 1-4.indd   15 4/22/2022   2:49:30 PMRationalised 2023-2416 OUR PASTS – IIISource 4Fig. For example, when Richard Wellesley was Governor-General (1798–1805), the Nawab of Awadh was forced to give over half of his territory to the Company in 1801, as he failed to pay for the “subsidiary forces”. Hyderabad was also forced to cede territories on similar grounds. This can be illustrated with the case of the southern Indian state of Mysore. They saw Haidar and Tipu as ambitious, arrogant and dangerous – rulers who had to be controlled and crushed. When its handle was turned, the toy tiger roared and the soldier shrieked. This  toy-tiger is now kept in the Victoria and Albert Museum in London. The British took it away when Tipu Sultan died defending his capital Seringapatam on 4 May 1799.Fig. British painters always liked painting scenes that showed the triumph of  British power. The legend of TipuKings are often surrounded by legend and their powers glorified through folklore. Here is a legend about Tipu Sultan who became the ruler of Mysore in 1782. He battled with the tiger unarmed until he  managed to reach down and pick up the dagger. These chiefs were held together in a confederacy  under a Peshwa (Principal Minister) who became its effective military and administrative head based in Pune. The Second Anglo-Maratha War (1803–05) was fought on different fronts, resulting in the British gaining Orissa and the territories north of the Yamuna river including Agra and Delhi. The claim to paramountcyIt is clear from the above that from the early nineteenth century, the Company pursued an aggressive policy of territorial expansion. Under Lord Hastings (Governor-General from 1813 to 1823), a new policy of “paramountcy” was initiated. For example, when the British tried to annex the small state of Kitoor (in Karnataka today), Rani Channamma took to arms and led an anti-British resistance movement. But Rayanna, a poor chowkidar of Sangoli in Kitoor, carried on the resistance. With popular support, he destroyed many British camps and records. 12 – A Statue of the  Queen of Kitoor (Karnataka) chap 1-4.indd   18 4/22/2022   2:49:36 PMRationalised 2023-24FROM TRADE TO TERRITORY         19In the late 1830s, the East India Company became worried about Russia. Driven by this fear, the British now wanted to secure their control over the north-west. They fought a prolonged war with Afghanistan between 1838 and 1842, and established indirect Company rule there. But the presence of Maharaja Ranjit Singh held back the Company. After his death in 1839, two prolonged wars were fought with the Sikh  kingdom. He devised a policy that came to be known as the Doctrine of Lapse. This time the British had an added argument – they said they were “obliged by duty” to take over Awadh in order to free the people from the “misgovernment” of the Nawab! British territories were broadly divided into administrative units called Presidencies. The supreme head of the administration was the Governor-General. The criminal courts were still under a qazi and a mufti but under the supervision of the collectors. The principal figure in an Indian district was the Collector. They were given training in archery ( teer-andazi ) and the use of the sword. The cavalry dominated the army and the Mughal state did not feel the need to have a large professionally trained infantry. The East India Company adopted the same method when it began recruitment for its own army, which came to be known as the sepoy army (from the Indian word sipahi, meaning soldier). Lastly in the name of human nature itself, in the name of both the sexes, in the name of every age, in the name of every rank, I impeach the common enemy and oppressor of all. Could individuals so easily give up their caste and religious feelings? Could they see themselves only as soldiers and not as members of communities? Till then it would take anywhere between six and eight months to travel to India by sea. By 1857, the Company came to exercise direct rule over about 63 per cent of the territory and 78 per cent of the population of the Indian subcontinent.'"
      ]
     },
     "execution_count": 9,
     "metadata": {},
     "output_type": "execute_result"
    }
   ],
   "source": [
    "summary"
   ]
  },
  {
   "attachments": {},
   "cell_type": "markdown",
   "metadata": {},
   "source": [
    "Keyword Extraction"
   ]
  },
  {
   "cell_type": "code",
   "execution_count": 6,
   "metadata": {},
   "outputs": [],
   "source": [
    "# import nltk\n",
    "# nltk.download('stopwords')\n",
    "# from nltk.corpus import stopwords\n",
    "# import string\n",
    "import pke"
   ]
  },
  {
   "cell_type": "code",
   "execution_count": 7,
   "metadata": {},
   "outputs": [
    {
     "name": "stdout",
     "output_type": "stream",
     "text": [
      "\u001b[38;5;3m⚠ As of spaCy v3.0, shortcuts like 'en' are deprecated. Please use the\n",
      "full pipeline package name 'en_core_web_sm' instead.\u001b[0m\n",
      "Collecting en-core-web-sm==3.5.0\n",
      "  Downloading https://github.com/explosion/spacy-models/releases/download/en_core_web_sm-3.5.0/en_core_web_sm-3.5.0-py3-none-any.whl (12.8 MB)\n",
      "     ---------------------------------------- 12.8/12.8 MB 4.5 MB/s eta 0:00:00\n",
      "Requirement already satisfied: spacy<3.6.0,>=3.5.0 in c:\\users\\krishna chaitanya n\\appdata\\local\\programs\\python\\python310\\lib\\site-packages (from en-core-web-sm==3.5.0) (3.5.3)\n",
      "Requirement already satisfied: spacy-legacy<3.1.0,>=3.0.11 in c:\\users\\krishna chaitanya n\\appdata\\local\\programs\\python\\python310\\lib\\site-packages (from spacy<3.6.0,>=3.5.0->en-core-web-sm==3.5.0) (3.0.12)\n",
      "Requirement already satisfied: spacy-loggers<2.0.0,>=1.0.0 in c:\\users\\krishna chaitanya n\\appdata\\local\\programs\\python\\python310\\lib\\site-packages (from spacy<3.6.0,>=3.5.0->en-core-web-sm==3.5.0) (1.0.4)\n",
      "Requirement already satisfied: murmurhash<1.1.0,>=0.28.0 in c:\\users\\krishna chaitanya n\\appdata\\local\\programs\\python\\python310\\lib\\site-packages (from spacy<3.6.0,>=3.5.0->en-core-web-sm==3.5.0) (1.0.9)\n",
      "Requirement already satisfied: cymem<2.1.0,>=2.0.2 in c:\\users\\krishna chaitanya n\\appdata\\local\\programs\\python\\python310\\lib\\site-packages (from spacy<3.6.0,>=3.5.0->en-core-web-sm==3.5.0) (2.0.7)\n",
      "Requirement already satisfied: preshed<3.1.0,>=3.0.2 in c:\\users\\krishna chaitanya n\\appdata\\local\\programs\\python\\python310\\lib\\site-packages (from spacy<3.6.0,>=3.5.0->en-core-web-sm==3.5.0) (3.0.8)\n",
      "Requirement already satisfied: thinc<8.2.0,>=8.1.8 in c:\\users\\krishna chaitanya n\\appdata\\local\\programs\\python\\python310\\lib\\site-packages (from spacy<3.6.0,>=3.5.0->en-core-web-sm==3.5.0) (8.1.10)\n",
      "Requirement already satisfied: wasabi<1.2.0,>=0.9.1 in c:\\users\\krishna chaitanya n\\appdata\\local\\programs\\python\\python310\\lib\\site-packages (from spacy<3.6.0,>=3.5.0->en-core-web-sm==3.5.0) (1.1.2)\n",
      "Requirement already satisfied: srsly<3.0.0,>=2.4.3 in c:\\users\\krishna chaitanya n\\appdata\\local\\programs\\python\\python310\\lib\\site-packages (from spacy<3.6.0,>=3.5.0->en-core-web-sm==3.5.0) (2.4.6)\n",
      "Requirement already satisfied: catalogue<2.1.0,>=2.0.6 in c:\\users\\krishna chaitanya n\\appdata\\local\\programs\\python\\python310\\lib\\site-packages (from spacy<3.6.0,>=3.5.0->en-core-web-sm==3.5.0) (2.0.8)\n",
      "Requirement already satisfied: typer<0.8.0,>=0.3.0 in c:\\users\\krishna chaitanya n\\appdata\\local\\programs\\python\\python310\\lib\\site-packages (from spacy<3.6.0,>=3.5.0->en-core-web-sm==3.5.0) (0.7.0)\n",
      "Requirement already satisfied: pathy>=0.10.0 in c:\\users\\krishna chaitanya n\\appdata\\local\\programs\\python\\python310\\lib\\site-packages (from spacy<3.6.0,>=3.5.0->en-core-web-sm==3.5.0) (0.10.1)\n",
      "Requirement already satisfied: smart-open<7.0.0,>=5.2.1 in c:\\users\\krishna chaitanya n\\appdata\\local\\programs\\python\\python310\\lib\\site-packages (from spacy<3.6.0,>=3.5.0->en-core-web-sm==3.5.0) (6.3.0)\n",
      "Requirement already satisfied: tqdm<5.0.0,>=4.38.0 in c:\\users\\krishna chaitanya n\\appdata\\local\\programs\\python\\python310\\lib\\site-packages (from spacy<3.6.0,>=3.5.0->en-core-web-sm==3.5.0) (4.65.0)\n",
      "Requirement already satisfied: numpy>=1.15.0 in c:\\users\\krishna chaitanya n\\appdata\\local\\programs\\python\\python310\\lib\\site-packages (from spacy<3.6.0,>=3.5.0->en-core-web-sm==3.5.0) (1.23.1)\n",
      "Requirement already satisfied: requests<3.0.0,>=2.13.0 in c:\\users\\krishna chaitanya n\\appdata\\local\\programs\\python\\python310\\lib\\site-packages (from spacy<3.6.0,>=3.5.0->en-core-web-sm==3.5.0) (2.28.1)\n",
      "Requirement already satisfied: pydantic!=1.8,!=1.8.1,<1.11.0,>=1.7.4 in c:\\users\\krishna chaitanya n\\appdata\\local\\programs\\python\\python310\\lib\\site-packages (from spacy<3.6.0,>=3.5.0->en-core-web-sm==3.5.0) (1.10.9)\n",
      "Requirement already satisfied: jinja2 in c:\\users\\krishna chaitanya n\\appdata\\local\\programs\\python\\python310\\lib\\site-packages (from spacy<3.6.0,>=3.5.0->en-core-web-sm==3.5.0) (3.1.2)\n",
      "Requirement already satisfied: setuptools in c:\\users\\krishna chaitanya n\\appdata\\local\\programs\\python\\python310\\lib\\site-packages (from spacy<3.6.0,>=3.5.0->en-core-web-sm==3.5.0) (58.1.0)\n",
      "Requirement already satisfied: packaging>=20.0 in c:\\users\\krishna chaitanya n\\appdata\\local\\programs\\python\\python310\\lib\\site-packages (from spacy<3.6.0,>=3.5.0->en-core-web-sm==3.5.0) (21.3)\n",
      "Requirement already satisfied: langcodes<4.0.0,>=3.2.0 in c:\\users\\krishna chaitanya n\\appdata\\local\\programs\\python\\python310\\lib\\site-packages (from spacy<3.6.0,>=3.5.0->en-core-web-sm==3.5.0) (3.3.0)\n",
      "Requirement already satisfied: pyparsing!=3.0.5,>=2.0.2 in c:\\users\\krishna chaitanya n\\appdata\\local\\programs\\python\\python310\\lib\\site-packages (from packaging>=20.0->spacy<3.6.0,>=3.5.0->en-core-web-sm==3.5.0) (3.0.9)\n",
      "Requirement already satisfied: typing-extensions>=4.2.0 in c:\\users\\krishna chaitanya n\\appdata\\local\\programs\\python\\python310\\lib\\site-packages (from pydantic!=1.8,!=1.8.1,<1.11.0,>=1.7.4->spacy<3.6.0,>=3.5.0->en-core-web-sm==3.5.0) (4.3.0)\n",
      "Requirement already satisfied: charset-normalizer<3,>=2 in c:\\users\\krishna chaitanya n\\appdata\\local\\programs\\python\\python310\\lib\\site-packages (from requests<3.0.0,>=2.13.0->spacy<3.6.0,>=3.5.0->en-core-web-sm==3.5.0) (2.1.0)\n",
      "Requirement already satisfied: idna<4,>=2.5 in c:\\users\\krishna chaitanya n\\appdata\\local\\programs\\python\\python310\\lib\\site-packages (from requests<3.0.0,>=2.13.0->spacy<3.6.0,>=3.5.0->en-core-web-sm==3.5.0) (3.3)\n",
      "Requirement already satisfied: urllib3<1.27,>=1.21.1 in c:\\users\\krishna chaitanya n\\appdata\\local\\programs\\python\\python310\\lib\\site-packages (from requests<3.0.0,>=2.13.0->spacy<3.6.0,>=3.5.0->en-core-web-sm==3.5.0) (1.26.10)\n",
      "Requirement already satisfied: certifi>=2017.4.17 in c:\\users\\krishna chaitanya n\\appdata\\local\\programs\\python\\python310\\lib\\site-packages (from requests<3.0.0,>=2.13.0->spacy<3.6.0,>=3.5.0->en-core-web-sm==3.5.0) (2022.6.15)\n",
      "Requirement already satisfied: blis<0.8.0,>=0.7.8 in c:\\users\\krishna chaitanya n\\appdata\\local\\programs\\python\\python310\\lib\\site-packages (from thinc<8.2.0,>=8.1.8->spacy<3.6.0,>=3.5.0->en-core-web-sm==3.5.0) (0.7.9)\n",
      "Requirement already satisfied: confection<1.0.0,>=0.0.1 in c:\\users\\krishna chaitanya n\\appdata\\local\\programs\\python\\python310\\lib\\site-packages (from thinc<8.2.0,>=8.1.8->spacy<3.6.0,>=3.5.0->en-core-web-sm==3.5.0) (0.0.4)\n",
      "Requirement already satisfied: colorama in c:\\users\\krishna chaitanya n\\appdata\\local\\programs\\python\\python310\\lib\\site-packages (from tqdm<5.0.0,>=4.38.0->spacy<3.6.0,>=3.5.0->en-core-web-sm==3.5.0) (0.4.6)\n",
      "Requirement already satisfied: click<9.0.0,>=7.1.1 in c:\\users\\krishna chaitanya n\\appdata\\local\\programs\\python\\python310\\lib\\site-packages (from typer<0.8.0,>=0.3.0->spacy<3.6.0,>=3.5.0->en-core-web-sm==3.5.0) (8.1.3)\n",
      "Requirement already satisfied: MarkupSafe>=2.0 in c:\\users\\krishna chaitanya n\\appdata\\local\\programs\\python\\python310\\lib\\site-packages (from jinja2->spacy<3.6.0,>=3.5.0->en-core-web-sm==3.5.0) (2.1.1)\n",
      "\u001b[38;5;2m✔ Download and installation successful\u001b[0m\n",
      "You can now load the package via spacy.load('en_core_web_sm')\n"
     ]
    }
   ],
   "source": [
    "!python -m spacy download en"
   ]
  },
  {
   "cell_type": "code",
   "execution_count": 12,
   "metadata": {},
   "outputs": [],
   "source": [
    "out=[]\n",
    "extractor = pke.unsupervised.MultipartiteRank()\n",
    "extractor.load_document(input=chap_2,language='en')\n",
    "pos = {'PROPN'}\n",
    "stoplist = list(string.punctuation)\n",
    "stoplist += ['-lrb-','-rrb-','-lcb-','-rcb-','-lsb-','-rsb-']\n",
    "stoplist += stopwords.words('english')\n",
    "extractor.candidate_selection(pos=pos) #stoplist=stoplist\n",
    "extractor.candidate_weighting(alpha=1.1,threshold=0.75,method='average')\n",
    "keyphrases = extractor.get_n_best(n=20)\n",
    "\n",
    "for key in keyphrases:\n",
    "    out.append(key[0])"
   ]
  },
  {
   "cell_type": "code",
   "execution_count": 13,
   "metadata": {},
   "outputs": [
    {
     "data": {
      "text/plain": [
       "['company establishes power2aurangzeb',\n",
       " 'company',\n",
       " 'india',\n",
       " 'territory',\n",
       " 'bengal']"
      ]
     },
     "execution_count": 13,
     "metadata": {},
     "output_type": "execute_result"
    }
   ],
   "source": [
    "out[:5]"
   ]
  },
  {
   "cell_type": "code",
   "execution_count": 14,
   "metadata": {},
   "outputs": [
    {
     "data": {
      "text/plain": [
       "20"
      ]
     },
     "execution_count": 14,
     "metadata": {},
     "output_type": "execute_result"
    }
   ],
   "source": [
    "len(out)"
   ]
  },
  {
   "cell_type": "code",
   "execution_count": 15,
   "metadata": {},
   "outputs": [],
   "source": [
    "keys=[]\n",
    "for o in out:\n",
    "    if o.lower() in summary.lower():\n",
    "        keys.append(o)"
   ]
  },
  {
   "cell_type": "code",
   "execution_count": 16,
   "metadata": {},
   "outputs": [
    {
     "data": {
      "text/plain": [
       "['company establishes power2aurangzeb',\n",
       " 'company',\n",
       " 'india',\n",
       " 'territory',\n",
       " 'bengal']"
      ]
     },
     "execution_count": 16,
     "metadata": {},
     "output_type": "execute_result"
    }
   ],
   "source": [
    "keys[:5]"
   ]
  },
  {
   "cell_type": "code",
   "execution_count": 17,
   "metadata": {},
   "outputs": [
    {
     "data": {
      "text/plain": [
       "19"
      ]
     },
     "execution_count": 17,
     "metadata": {},
     "output_type": "execute_result"
    }
   ],
   "source": [
    "len(keys)"
   ]
  },
  {
   "attachments": {},
   "cell_type": "markdown",
   "metadata": {},
   "source": [
    "Sentence Mapping"
   ]
  },
  {
   "cell_type": "code",
   "execution_count": 18,
   "metadata": {},
   "outputs": [],
   "source": [
    "from flashtext import KeywordProcessor\n",
    "from nltk.tokenize import sent_tokenize"
   ]
  },
  {
   "cell_type": "code",
   "execution_count": 19,
   "metadata": {},
   "outputs": [],
   "source": [
    "sentences = [sent_tokenize(summary)]\n",
    "sentences = [y for x in sentences for y in x]"
   ]
  },
  {
   "cell_type": "code",
   "execution_count": 20,
   "metadata": {},
   "outputs": [
    {
     "data": {
      "text/plain": [
       "90"
      ]
     },
     "execution_count": 20,
     "metadata": {},
     "output_type": "execute_result"
    }
   ],
   "source": [
    "len(sentences)"
   ]
  },
  {
   "cell_type": "code",
   "execution_count": 21,
   "metadata": {},
   "outputs": [],
   "source": [
    "sentences = [sentence.strip() for sentence in sentences if len(sentence)>20]"
   ]
  },
  {
   "cell_type": "code",
   "execution_count": 22,
   "metadata": {},
   "outputs": [
    {
     "data": {
      "text/plain": [
       "90"
      ]
     },
     "execution_count": 22,
     "metadata": {},
     "output_type": "execute_result"
    }
   ],
   "source": [
    "len(sentences)"
   ]
  },
  {
   "cell_type": "code",
   "execution_count": 118,
   "metadata": {},
   "outputs": [],
   "source": [
    "keyword_processor = KeywordProcessor()\n",
    "keyword_sentences = {}\n",
    "for word in keys:\n",
    "    keyword_sentences[word] = []\n",
    "    keyword_processor.add_keyword(word)\n",
    "for sentence in sentences:\n",
    "    keywords_found = keyword_processor.extract_keywords(sentence)\n",
    "    for keyword in keywords_found:\n",
    "        keyword_sentences[keyword].append(sentence)\n",
    "for key in keyword_sentences.keys():\n",
    "    values = keyword_sentences[key]\n",
    "    values = sorted(values, key=len,reverse=True)\n",
    "    keyword_sentences[key] = values"
   ]
  },
  {
   "cell_type": "code",
   "execution_count": 24,
   "metadata": {},
   "outputs": [
    {
     "data": {
      "text/plain": [
       "['Interestingly, when he was appointed Governor of Bengal in 1764, he was asked to remove corruption in Company administration but he was himself cross-examined in 1772 by the British Parliament which was suspicious of his vast wealth.',\n",
       " 'They were to be protected by the Company, but How did Clive see himself?At his hearing in front  of a Committee in Parliament, Clive declared that he had shown admirable restraint after the Battle of Plassey.',\n",
       " 'For example, when Richard Wellesley was Governor-General (1798–1805), the Nawab of Awadh was forced to give over half of his territory to the Company in 1801, as he failed to pay for the “subsidiary forces”.',\n",
       " 'The Company on its part declared that the unjust demands of the local officials were ruining the trade of the Company, and trade could flourish only if the duties were removed.',\n",
       " 'The Company on its part declared that the unjust demands of the local officials were ruining the trade of the Company, and trade could flourish only if the duties were removed.',\n",
       " 'The claim to paramountcyIt is clear from the above that from the early nineteenth century, the Company pursued an aggressive policy of territorial expansion.',\n",
       " 'By 1857, the Company came to exercise direct rule over about 63 per cent of the territory and 78 per cent of the population of the Indian subcontinent.',\n",
       " 'On hearing the news of the fall of Calcutta, Company officials in Madras sent forces under the command of Robert Clive, reinforced by naval fleets.',\n",
       " 'An infuriated Sirajuddaulah asked the Company to stop meddling in the political affairs of his dominion, stop fortification, and pay the revenues.',\n",
       " 'The Company was worried about his power and keen on a puppet ruler who would  willingly give trade concessions and other privileges.',\n",
       " 'They fought a prolonged war with Afghanistan between 1838 and 1842, and established indirect Company rule there.',\n",
       " 'The factory had a warehouse where goods for export were stored, and it had offices where Company officials sat.',\n",
       " 'They were political or commercial agents and their job was to serve and further the interests of the Company.',\n",
       " 'Two years later, it bribed Mughal officials into giving the Company zamindari rights over three villages.',\n",
       " 'But officials of  the Company, who were carrying on private trade on the side, were expected to pay duty.',\n",
       " 'Source 3Imagine that you are a young Company official  who has been in India for a few months.',\n",
       " 'For even the puppet nawabs were not always as helpful as the Company wanted them to be.',\n",
       " 'When Mir Jafar protested, the Company deposed him and installed Mir Qasim in his place.',\n",
       " 'The Company did not have to fear competition from other English trading companies.',\n",
       " 'The Company was still unwilling to take over the responsibility of administration.',\n",
       " 'Then he marched to Calcutta to establish control over the Company’s fort there.',\n",
       " 'The Company rarely launched a direct military attack on an unknown territory.',\n",
       " 'However, not all Company officials succeeded in making money like Clive.',\n",
       " 'It meant of course that the Company acquired more power and authority.',\n",
       " 'Sometimes, the Company forced the states into a “subsidiary alliance”.',\n",
       " 'Each company servant began to have visions of living like nawabs.',\n",
       " 'But the presence of Maharaja Ranjit Singh held back the Company.',\n",
       " 'This solved a major problem that the Company had earlier faced.']"
      ]
     },
     "execution_count": 24,
     "metadata": {},
     "output_type": "execute_result"
    }
   ],
   "source": [
    "keyword_sentences['company']"
   ]
  },
  {
   "cell_type": "code",
   "execution_count": 26,
   "metadata": {},
   "outputs": [],
   "source": [
    "import random\n",
    "from nltk.corpus import wordnet as wn\n",
    "from pywsd.similarity import max_similarity"
   ]
  },
  {
   "cell_type": "code",
   "execution_count": 27,
   "metadata": {},
   "outputs": [
    {
     "name": "stderr",
     "output_type": "stream",
     "text": [
      "[nltk_data] Downloading package wordnet to C:\\Users\\Krishna Chaitanya\n",
      "[nltk_data]     N\\AppData\\Roaming\\nltk_data...\n"
     ]
    },
    {
     "data": {
      "text/plain": [
       "True"
      ]
     },
     "execution_count": 27,
     "metadata": {},
     "output_type": "execute_result"
    }
   ],
   "source": [
    "import nltk\n",
    "nltk.download('wordnet')"
   ]
  },
  {
   "cell_type": "code",
   "execution_count": 28,
   "metadata": {},
   "outputs": [],
   "source": [
    "from pywsd.lesk import adapted_lesk"
   ]
  },
  {
   "cell_type": "code",
   "execution_count": 51,
   "metadata": {},
   "outputs": [],
   "source": [
    "import requests"
   ]
  },
  {
   "cell_type": "code",
   "execution_count": 58,
   "metadata": {},
   "outputs": [],
   "source": [
    "#ConceptNet\n",
    "word = 'company'\n",
    "og = word\n",
    "distractor_list = []\n",
    "url = \"http://api.conceptnet.io/\"\n",
    "url = url + \"query?start=/c/en/\" + word + \"&rel=/r/RelatedTo&limit=10\"\n",
    "response = requests.get(url).json()\n",
    "for edge in response['edges']:\n",
    "    end_node=edge['end']['label']\n",
    "    if end_node.lower() != word.lower():\n",
    "        distractor_list.append(end_node)"
   ]
  },
  {
   "cell_type": "code",
   "execution_count": 59,
   "metadata": {},
   "outputs": [
    {
     "data": {
      "text/plain": [
       "['business',\n",
       " 'corporation',\n",
       " 'organization',\n",
       " 'group',\n",
       " 'firm',\n",
       " 'work',\n",
       " 'people',\n",
       " 'business organization',\n",
       " 'entity',\n",
       " 'place']"
      ]
     },
     "execution_count": 59,
     "metadata": {},
     "output_type": "execute_result"
    }
   ],
   "source": [
    "distractor_list"
   ]
  },
  {
   "cell_type": "code",
   "execution_count": 60,
   "metadata": {},
   "outputs": [
    {
     "data": {
      "text/plain": [
       "['Interestingly, when he was appointed Governor of Bengal in 1764, he was asked to remove corruption in Company administration but he was himself cross-examined in 1772 by the British Parliament which was suspicious of his vast wealth.',\n",
       " 'They were to be protected by the Company, but How did Clive see himself?At his hearing in front  of a Committee in Parliament, Clive declared that he had shown admirable restraint after the Battle of Plassey.',\n",
       " 'For example, when Richard Wellesley was Governor-General (1798–1805), the Nawab of Awadh was forced to give over half of his territory to the Company in 1801, as he failed to pay for the “subsidiary forces”.',\n",
       " 'The Company on its part declared that the unjust demands of the local officials were ruining the trade of the Company, and trade could flourish only if the duties were removed.',\n",
       " 'The Company on its part declared that the unjust demands of the local officials were ruining the trade of the Company, and trade could flourish only if the duties were removed.',\n",
       " 'The claim to paramountcyIt is clear from the above that from the early nineteenth century, the Company pursued an aggressive policy of territorial expansion.',\n",
       " 'By 1857, the Company came to exercise direct rule over about 63 per cent of the territory and 78 per cent of the population of the Indian subcontinent.',\n",
       " 'On hearing the news of the fall of Calcutta, Company officials in Madras sent forces under the command of Robert Clive, reinforced by naval fleets.',\n",
       " 'An infuriated Sirajuddaulah asked the Company to stop meddling in the political affairs of his dominion, stop fortification, and pay the revenues.',\n",
       " 'The Company was worried about his power and keen on a puppet ruler who would  willingly give trade concessions and other privileges.',\n",
       " 'They fought a prolonged war with Afghanistan between 1838 and 1842, and established indirect Company rule there.',\n",
       " 'The factory had a warehouse where goods for export were stored, and it had offices where Company officials sat.',\n",
       " 'They were political or commercial agents and their job was to serve and further the interests of the Company.',\n",
       " 'Two years later, it bribed Mughal officials into giving the Company zamindari rights over three villages.',\n",
       " 'But officials of  the Company, who were carrying on private trade on the side, were expected to pay duty.',\n",
       " 'Source 3Imagine that you are a young Company official  who has been in India for a few months.',\n",
       " 'For even the puppet nawabs were not always as helpful as the Company wanted them to be.',\n",
       " 'When Mir Jafar protested, the Company deposed him and installed Mir Qasim in his place.',\n",
       " 'The Company did not have to fear competition from other English trading companies.',\n",
       " 'The Company was still unwilling to take over the responsibility of administration.',\n",
       " 'Then he marched to Calcutta to establish control over the Company’s fort there.',\n",
       " 'The Company rarely launched a direct military attack on an unknown territory.',\n",
       " 'However, not all Company officials succeeded in making money like Clive.',\n",
       " 'It meant of course that the Company acquired more power and authority.',\n",
       " 'Sometimes, the Company forced the states into a “subsidiary alliance”.',\n",
       " 'Each company servant began to have visions of living like nawabs.',\n",
       " 'But the presence of Maharaja Ranjit Singh held back the Company.',\n",
       " 'This solved a major problem that the Company had earlier faced.']"
      ]
     },
     "execution_count": 60,
     "metadata": {},
     "output_type": "execute_result"
    }
   ],
   "source": [
    "keyword_sentences['company']"
   ]
  },
  {
   "cell_type": "code",
   "execution_count": 61,
   "metadata": {},
   "outputs": [],
   "source": [
    "import re"
   ]
  },
  {
   "cell_type": "code",
   "execution_count": 62,
   "metadata": {},
   "outputs": [
    {
     "data": {
      "text/plain": [
       "'company'"
      ]
     },
     "execution_count": 62,
     "metadata": {},
     "output_type": "execute_result"
    }
   ],
   "source": [
    "word"
   ]
  },
  {
   "cell_type": "code",
   "execution_count": 68,
   "metadata": {},
   "outputs": [
    {
     "name": "stderr",
     "output_type": "stream",
     "text": [
      "[nltk_data] Downloading package wordnet to C:\\Users\\Krishna Chaitanya\n",
      "[nltk_data]     N\\AppData\\Roaming\\nltk_data...\n",
      "[nltk_data]   Package wordnet is already up-to-date!\n"
     ]
    },
    {
     "data": {
      "text/plain": [
       "True"
      ]
     },
     "execution_count": 68,
     "metadata": {},
     "output_type": "execute_result"
    }
   ],
   "source": [
    "nltk.download('wordnet')"
   ]
  },
  {
   "cell_type": "code",
   "execution_count": 93,
   "metadata": {},
   "outputs": [
    {
     "data": {
      "text/plain": [
       "[Synset('company.n.01'),\n",
       " Synset('company.n.02'),\n",
       " Synset('company.n.03'),\n",
       " Synset('company.n.04'),\n",
       " Synset('caller.n.01'),\n",
       " Synset('company.n.06'),\n",
       " Synset('party.n.03'),\n",
       " Synset('ship's_company.n.01'),\n",
       " Synset('company.n.09')]"
      ]
     },
     "execution_count": 93,
     "metadata": {},
     "output_type": "execute_result"
    }
   ],
   "source": [
    "synsets = wn.synsets(word,'n')\n",
    "synsets"
   ]
  },
  {
   "cell_type": "code",
   "execution_count": 101,
   "metadata": {},
   "outputs": [],
   "source": [
    "synonyms = []\n",
    "for syn in synsets:\n",
    "    for lemma in syn.lemmas():\n",
    "        synonyms.append(lemma.name())"
   ]
  },
  {
   "cell_type": "code",
   "execution_count": 102,
   "metadata": {},
   "outputs": [
    {
     "data": {
      "text/plain": [
       "['company',\n",
       " 'company',\n",
       " 'company',\n",
       " 'companionship',\n",
       " 'fellowship',\n",
       " 'society',\n",
       " 'company',\n",
       " 'troupe',\n",
       " 'caller',\n",
       " 'company',\n",
       " 'company',\n",
       " 'party',\n",
       " 'company',\n",
       " \"ship's_company\",\n",
       " 'company',\n",
       " 'company']"
      ]
     },
     "execution_count": 102,
     "metadata": {},
     "output_type": "execute_result"
    }
   ],
   "source": [
    "synonyms"
   ]
  },
  {
   "cell_type": "code",
   "execution_count": 103,
   "metadata": {},
   "outputs": [
    {
     "data": {
      "text/plain": [
       "'companionship'"
      ]
     },
     "execution_count": 103,
     "metadata": {},
     "output_type": "execute_result"
    }
   ],
   "source": [
    "best = [name for name in synonyms if name!=word]\n",
    "best[0]"
   ]
  },
  {
   "cell_type": "code",
   "execution_count": 100,
   "metadata": {},
   "outputs": [
    {
     "data": {
      "text/plain": [
       "'company'"
      ]
     },
     "execution_count": 100,
     "metadata": {},
     "output_type": "execute_result"
    }
   ],
   "source": [
    "best_synset.lemmas()[0].name()"
   ]
  },
  {
   "cell_type": "code",
   "execution_count": 90,
   "metadata": {},
   "outputs": [
    {
     "data": {
      "text/plain": [
       "[Lemma('company.n.01.company')]"
      ]
     },
     "execution_count": 90,
     "metadata": {},
     "output_type": "execute_result"
    }
   ],
   "source": [
    "synonym"
   ]
  },
  {
   "cell_type": "code",
   "execution_count": 131,
   "metadata": {},
   "outputs": [
    {
     "name": "stdout",
     "output_type": "stream",
     "text": [
      "1 The promise of richesThe territorial ambitions of the mercantile East India Company were viewed with distrust and doubt in  _____ .\n",
      "a ) organization\n",
      "b ) England\n",
      "c ) corporation\n",
      "d ) business\n",
      "\n",
      "More Options:  ['group', 'firm', 'work', 'people', 'business organization', 'entity', 'place'] \n",
      "\n",
      "\n"
     ]
    }
   ],
   "source": [
    "sentence = keyword_sentences[word][0]\n",
    "pattern = re.compile(word,re.IGNORECASE)\n",
    "output = pattern.sub(' _____ ',sentence)\n",
    "print('%s'%(1),output)\n",
    "choices = [word.capitalize()] + distractor_list\n",
    "top4choices = choices[:4]\n",
    "random.shuffle(top4choices)\n",
    "optionchoices = ['a','b','c','d']\n",
    "for idx, choice in enumerate(top4choices):\n",
    "    print(optionchoices[idx],')',choice)\n",
    "print('\\nMore Options: ',choices[4:20],'\\n\\n')\n"
   ]
  },
  {
   "cell_type": "code",
   "execution_count": 104,
   "metadata": {},
   "outputs": [
    {
     "data": {
      "text/plain": [
       "'The claim to paramountcyIt is clear from the above that from the early nineteenth century, the  _____  pursued an aggressive policy of territorial expansion.'"
      ]
     },
     "execution_count": 104,
     "metadata": {},
     "output_type": "execute_result"
    }
   ],
   "source": [
    "output"
   ]
  },
  {
   "cell_type": "code",
   "execution_count": 106,
   "metadata": {},
   "outputs": [],
   "source": [
    "import pandas as pd"
   ]
  },
  {
   "cell_type": "code",
   "execution_count": 108,
   "metadata": {},
   "outputs": [
    {
     "data": {
      "text/plain": [
       "{'company establishes power2aurangzeb': ['From Trade to Territory                   The Company Establishes Power2Aurangzeb was the last of the powerful Mughal rulers.'],\n",
       " 'company': ['Interestingly, when he was appointed Governor of Bengal in 1764, he was asked to remove corruption in Company administration but he was himself cross-examined in 1772 by the British Parliament which was suspicious of his vast wealth.',\n",
       "  'They were to be protected by the Company, but How did Clive see himself?At his hearing in front  of a Committee in Parliament, Clive declared that he had shown admirable restraint after the Battle of Plassey.',\n",
       "  'For example, when Richard Wellesley was Governor-General (1798–1805), the Nawab of Awadh was forced to give over half of his territory to the Company in 1801, as he failed to pay for the “subsidiary forces”.',\n",
       "  'The Company on its part declared that the unjust demands of the local officials were ruining the trade of the Company, and trade could flourish only if the duties were removed.',\n",
       "  'The Company on its part declared that the unjust demands of the local officials were ruining the trade of the Company, and trade could flourish only if the duties were removed.',\n",
       "  'The claim to paramountcyIt is clear from the above that from the early nineteenth century, the Company pursued an aggressive policy of territorial expansion.',\n",
       "  'By 1857, the Company came to exercise direct rule over about 63 per cent of the territory and 78 per cent of the population of the Indian subcontinent.',\n",
       "  'On hearing the news of the fall of Calcutta, Company officials in Madras sent forces under the command of Robert Clive, reinforced by naval fleets.',\n",
       "  'An infuriated Sirajuddaulah asked the Company to stop meddling in the political affairs of his dominion, stop fortification, and pay the revenues.',\n",
       "  'The Company was worried about his power and keen on a puppet ruler who would  willingly give trade concessions and other privileges.',\n",
       "  'They fought a prolonged war with Afghanistan between 1838 and 1842, and established indirect Company rule there.',\n",
       "  'The factory had a warehouse where goods for export were stored, and it had offices where Company officials sat.',\n",
       "  'They were political or commercial agents and their job was to serve and further the interests of the Company.',\n",
       "  'Two years later, it bribed Mughal officials into giving the Company zamindari rights over three villages.',\n",
       "  'But officials of  the Company, who were carrying on private trade on the side, were expected to pay duty.',\n",
       "  'Source 3Imagine that you are a young Company official  who has been in India for a few months.',\n",
       "  'For even the puppet nawabs were not always as helpful as the Company wanted them to be.',\n",
       "  'When Mir Jafar protested, the Company deposed him and installed Mir Qasim in his place.',\n",
       "  'The Company did not have to fear competition from other English trading companies.',\n",
       "  'The Company was still unwilling to take over the responsibility of administration.',\n",
       "  'Then he marched to Calcutta to establish control over the Company’s fort there.',\n",
       "  'The Company rarely launched a direct military attack on an unknown territory.',\n",
       "  'However, not all Company officials succeeded in making money like Clive.',\n",
       "  'It meant of course that the Company acquired more power and authority.',\n",
       "  'Sometimes, the Company forced the states into a “subsidiary alliance”.',\n",
       "  'Each company servant began to have visions of living like nawabs.',\n",
       "  'But the presence of Maharaja Ranjit Singh held back the Company.',\n",
       "  'This solved a major problem that the Company had earlier faced.'],\n",
       " 'india': ['Many of them came from humble backgrounds and their uppermost desire was to earn enough in India, return to Britain and lead a comfortable life.',\n",
       "  'Many died an early death in India due to disease and war, and it would not be right to regard all of them as corrupt and dishonest.',\n",
       "  'As powerful regional kingdoms emerged in various parts of India, Delhi could no longer function as an effective centre.',\n",
       "  'Source 3Imagine that you are a young Company official  who has been in India for a few months.',\n",
       "  'Till then it would take anywhere between six and eight months to travel to India by sea.',\n",
       "  'The fine qualities of cotton and silk produced in India had a big market in Europe.',\n",
       "  'This was because at this time Britain had no goods to sell in India.',\n",
       "  'When in 1767 he left India, his Indian fortune was worth £401,102.'],\n",
       " 'territory': ['12 – A Statue of the  Queen of Kitoor (Karnataka) chap 1-4.indd   18 4/22/2022   2:49:36 PMRationalised 2023-24FROM TRADE TO TERRITORY         19In the late 1830s, the East India Company became worried about Russia.',\n",
       "  'For example, when Richard Wellesley was Governor-General (1798–1805), the Nawab of Awadh was forced to give over half of his territory to the Company in 1801, as he failed to pay for the “subsidiary forces”.',\n",
       "  'By 1857, the Company came to exercise direct rule over about 63 per cent of the territory and 78 per cent of the population of the Indian subcontinent.',\n",
       "  'From Trade to Territory                   The Company Establishes Power2Aurangzeb was the last of the powerful Mughal rulers.',\n",
       "  'The Company rarely launched a direct military attack on an unknown territory.'],\n",
       " 'bengal': ['Interestingly, when he was appointed Governor of Bengal in 1764, he was asked to remove corruption in Company administration but he was himself cross-examined in 1772 by the British Parliament which was suspicious of his vast wealth.',\n",
       "  'After the death of Aurangzeb, the Bengal nawabs asserted their power and autonomy, as other regional powers were doing at that time.',\n",
       "  'Murshid Quli Khan was followed by Alivardi Khan and then Sirajuddaulah as the Nawab of Bengal.',\n",
       "  'This they refused to pay, causing an enormous loss of revenue for Bengal.',\n",
       "  'How could the Nawab of Bengal, Murshid Quli Khan,  not protest?Fig.'],\n",
       " 'mughal': ['From Trade to Territory                   The Company Establishes Power2Aurangzeb was the last of the powerful Mughal rulers.',\n",
       "  'The cavalry dominated the army and the Mughal state did not feel the need to have a large professionally trained infantry.',\n",
       "  'Two years later, it bribed Mughal officials into giving the Company zamindari rights over three villages.'],\n",
       " 'nawab': ['For example, when Richard Wellesley was Governor-General (1798–1805), the Nawab of Awadh was forced to give over half of his territory to the Company in 1801, as he failed to pay for the “subsidiary forces”.',\n",
       "  'This time the British had an added argument – they said they were “obliged by duty” to take over Awadh in order to free the people from the “misgovernment” of the Nawab!',\n",
       "  'Clive had managed to secure his support by promising to make him nawab after crushing Sirajuddaulah.',\n",
       "  'Murshid Quli Khan was followed by Alivardi Khan and then Sirajuddaulah as the Nawab of Bengal.',\n",
       "  'So it tried, though without success, to help one of Sirajuddaulah’s rivals become the nawab.',\n",
       "  'How could the Nawab of Bengal, Murshid Quli Khan,  not protest?Fig.'],\n",
       " 'battle': ['They were to be protected by the Company, but How did Clive see himself?At his hearing in front  of a Committee in Parliament, Clive declared that he had shown admirable restraint after the Battle of Plassey.',\n",
       "  'The outflow of gold from Britain slowed after the Battle of Plassey, and entirely stopped after the assumption of Diwani.',\n",
       "  'The conflicts led to confrontations and finally culminated in the famous Battle of Plassey.'],\n",
       " 'plassey': ['They were to be protected by the Company, but How did Clive see himself?At his hearing in front  of a Committee in Parliament, Clive declared that he had shown admirable restraint after the Battle of Plassey.',\n",
       "  'The outflow of gold from Britain slowed after the Battle of Plassey, and entirely stopped after the assumption of Diwani.',\n",
       "  'The conflicts led to confrontations and finally culminated in the famous Battle of Plassey.'],\n",
       " 'trade': ['12 – A Statue of the  Queen of Kitoor (Karnataka) chap 1-4.indd   18 4/22/2022   2:49:36 PMRationalised 2023-24FROM TRADE TO TERRITORY         19In the late 1830s, the East India Company became worried about Russia.',\n",
       "  'The Company on its part declared that the unjust demands of the local officials were ruining the trade of the Company, and trade could flourish only if the duties were removed.',\n",
       "  'The Company on its part declared that the unjust demands of the local officials were ruining the trade of the Company, and trade could flourish only if the duties were removed.',\n",
       "  'The Company was worried about his power and keen on a puppet ruler who would  willingly give trade concessions and other privileges.',\n",
       "  'From Trade to Territory                   The Company Establishes Power2Aurangzeb was the last of the powerful Mughal rulers.',\n",
       "  'It was also convinced that to expand trade, it had to enlarge its settlements, buy up villages, and rebuild its forts.',\n",
       "  'This effort to fortify settlements and carry on profitable trade also led to intense conflict with local rulers.',\n",
       "  'By the early seventeenth century, the Dutch too were exploring the possibilities of trade in the Indian Ocean.',\n",
       "  'But officials of  the Company, who were carrying on private trade on the side, were expected to pay duty.',\n",
       "  'Trade was carried on with arms and trading posts were protected through fortification.'],\n",
       " 'british': ['Interestingly, when he was appointed Governor of Bengal in 1764, he was asked to remove corruption in Company administration but he was himself cross-examined in 1772 by the British Parliament which was suspicious of his vast wealth.',\n",
       "  'The Second Anglo-Maratha War (1803–05) was fought on different fronts, resulting in the British gaining Orissa and the territories north of the Yamuna river including Agra and Delhi.',\n",
       "  'This time the British had an added argument – they said they were “obliged by duty” to take over Awadh in order to free the people from the “misgovernment” of the Nawab!',\n",
       "  'For example, when the British tried to annex the small state of Kitoor (in Karnataka today), Rani Channamma took to arms and led an anti-British resistance movement.',\n",
       "  'For example, when the British tried to annex the small state of Kitoor (in Karnataka today), Rani Channamma took to arms and led an anti-British resistance movement.',\n",
       "  'They were often seen as upstarts and social climbers in British society and were ridiculed or made fun of in plays and cartoons.',\n",
       "  'The British took it away when Tipu Sultan died defending his capital Seringapatam on 4 May 1799.Fig.',\n",
       "  'British painters always liked painting scenes that showed the triumph of  British power.',\n",
       "  'British painters always liked painting scenes that showed the triumph of  British power.',\n",
       "  'Driven by this fear, the British now wanted to secure their control over the north-west.',\n",
       "  'British territories were broadly divided into administrative units called Presidencies.',\n",
       "  'With popular support, he destroyed many British camps and records.'],\n",
       " 'fig': ['The British took it away when Tipu Sultan died defending his capital Seringapatam on 4 May 1799.Fig.',\n",
       "  'How could the Nawab of Bengal, Murshid Quli Khan,  not protest?Fig.'],\n",
       " 'sultan': [],\n",
       " 'robert clive': ['On hearing the news of the fall of Calcutta, Company officials in Madras sent forces under the command of Robert Clive, reinforced by naval fleets.'],\n",
       " 'mysore': ['This can be illustrated with the case of the southern Indian state of Mysore.',\n",
       "  'Here is a legend about Tipu Sultan who became the ruler of Mysore in 1782.'],\n",
       " 'sirajuddaulah': ['An infuriated Sirajuddaulah asked the Company to stop meddling in the political affairs of his dominion, stop fortification, and pay the revenues.',\n",
       "  'Clive had managed to secure his support by promising to make him nawab after crushing Sirajuddaulah.',\n",
       "  'Murshid Quli Khan was followed by Alivardi Khan and then Sirajuddaulah as the Nawab of Bengal.',\n",
       "  'So it tried, though without success, to help one of Sirajuddaulah’s rivals become the nawab.'],\n",
       " 'tipu sultan': ['The British took it away when Tipu Sultan died defending his capital Seringapatam on 4 May 1799.Fig.',\n",
       "  'Here is a legend about Tipu Sultan who became the ruler of Mysore in 1782.'],\n",
       " 'east india company': ['12 – A Statue of the  Queen of Kitoor (Karnataka) chap 1-4.indd   18 4/22/2022   2:49:36 PMRationalised 2023-24FROM TRADE TO TERRITORY         19In the late 1830s, the East India Company became worried about Russia.',\n",
       "  'The East India Company adopted the same method when it began recruitment for its own army, which came to be known as the sepoy army (from the Indian word sipahi, meaning soldier).',\n",
       "  'The promise of richesThe territorial ambitions of the mercantile East India Company were viewed with distrust and doubt in England.'],\n",
       " 'england': ['The promise of richesThe territorial ambitions of the mercantile East India Company were viewed with distrust and doubt in England.']}"
      ]
     },
     "execution_count": 108,
     "metadata": {},
     "output_type": "execute_result"
    }
   ],
   "source": [
    "keyword_sentences"
   ]
  },
  {
   "cell_type": "code",
   "execution_count": 113,
   "metadata": {},
   "outputs": [
    {
     "data": {
      "text/plain": [
       "['Interestingly, when he was appointed Governor of Bengal in 1764, he was asked to remove corruption in Company administration but he was himself cross-examined in 1772 by the British Parliament which was suspicious of his vast wealth.',\n",
       " 'They were to be protected by the Company, but How did Clive see himself?At his hearing in front  of a Committee in Parliament, Clive declared that he had shown admirable restraint after the Battle of Plassey.',\n",
       " 'For example, when Richard Wellesley was Governor-General (1798–1805), the Nawab of Awadh was forced to give over half of his territory to the Company in 1801, as he failed to pay for the “subsidiary forces”.',\n",
       " 'The Company on its part declared that the unjust demands of the local officials were ruining the trade of the Company, and trade could flourish only if the duties were removed.',\n",
       " 'The Company on its part declared that the unjust demands of the local officials were ruining the trade of the Company, and trade could flourish only if the duties were removed.',\n",
       " 'The claim to paramountcyIt is clear from the above that from the early nineteenth century, the Company pursued an aggressive policy of territorial expansion.',\n",
       " 'By 1857, the Company came to exercise direct rule over about 63 per cent of the territory and 78 per cent of the population of the Indian subcontinent.',\n",
       " 'On hearing the news of the fall of Calcutta, Company officials in Madras sent forces under the command of Robert Clive, reinforced by naval fleets.',\n",
       " 'An infuriated Sirajuddaulah asked the Company to stop meddling in the political affairs of his dominion, stop fortification, and pay the revenues.',\n",
       " 'The Company was worried about his power and keen on a puppet ruler who would  willingly give trade concessions and other privileges.',\n",
       " 'They fought a prolonged war with Afghanistan between 1838 and 1842, and established indirect Company rule there.',\n",
       " 'The factory had a warehouse where goods for export were stored, and it had offices where Company officials sat.',\n",
       " 'They were political or commercial agents and their job was to serve and further the interests of the Company.',\n",
       " 'Two years later, it bribed Mughal officials into giving the Company zamindari rights over three villages.',\n",
       " 'But officials of  the Company, who were carrying on private trade on the side, were expected to pay duty.',\n",
       " 'Source 3Imagine that you are a young Company official  who has been in India for a few months.',\n",
       " 'For even the puppet nawabs were not always as helpful as the Company wanted them to be.',\n",
       " 'When Mir Jafar protested, the Company deposed him and installed Mir Qasim in his place.',\n",
       " 'The Company did not have to fear competition from other English trading companies.',\n",
       " 'The Company was still unwilling to take over the responsibility of administration.',\n",
       " 'Then he marched to Calcutta to establish control over the Company’s fort there.',\n",
       " 'The Company rarely launched a direct military attack on an unknown territory.',\n",
       " 'However, not all Company officials succeeded in making money like Clive.',\n",
       " 'It meant of course that the Company acquired more power and authority.',\n",
       " 'Sometimes, the Company forced the states into a “subsidiary alliance”.',\n",
       " 'Each company servant began to have visions of living like nawabs.',\n",
       " 'But the presence of Maharaja Ranjit Singh held back the Company.',\n",
       " 'This solved a major problem that the Company had earlier faced.']"
      ]
     },
     "execution_count": 113,
     "metadata": {},
     "output_type": "execute_result"
    }
   ],
   "source": [
    "keyword_sentences['company']"
   ]
  },
  {
   "cell_type": "code",
   "execution_count": 125,
   "metadata": {},
   "outputs": [
    {
     "data": {
      "text/plain": [
       "19"
      ]
     },
     "execution_count": 125,
     "metadata": {},
     "output_type": "execute_result"
    }
   ],
   "source": [
    "len(keyword_sentences)"
   ]
  },
  {
   "cell_type": "code",
   "execution_count": 129,
   "metadata": {},
   "outputs": [],
   "source": [
    "answers=[]\n",
    "for word1 in keyword_sentences:\n",
    "    for word2 in keyword_sentences:\n",
    "        if word1!=word2:\n",
    "            X = keyword_sentences[word1]\n",
    "            Y = keyword_sentences[word2]\n",
    "            for sx in X:\n",
    "                for sy in Y:\n",
    "                    if sx==sy:\n",
    "                        answers.append((word1,word2,sx))"
   ]
  },
  {
   "cell_type": "code",
   "execution_count": 139,
   "metadata": {},
   "outputs": [],
   "source": [
    "word1 = answers[69][0]\n",
    "word2 = answers[69][1]\n",
    "sent = answers[69][2]"
   ]
  },
  {
   "cell_type": "code",
   "execution_count": 140,
   "metadata": {},
   "outputs": [
    {
     "name": "stdout",
     "output_type": "stream",
     "text": [
      "1 Interestingly, when he was appointed Governor of Bengal in 1764, he was asked to remove corruption in  _____  administration but he was himself cross-examined in 1772 by the  _____  Parliament which was suspicious of his vast wealth.\n"
     ]
    }
   ],
   "source": [
    "sentence = answers[69][2]\n",
    "pattern = re.compile(f'{word1}|{word2}',re.IGNORECASE)\n",
    "output = pattern.sub(' _____ ',sentence)\n",
    "print('%s'%(1),output)\n",
    "# choices = [word.capitalize()] + distractor_list\n",
    "# top4choices = choices[:4]\n",
    "# random.shuffle(top4choices)\n",
    "# optionchoices = ['a','b','c','d']\n",
    "# for idx, choice in enumerate(top4choices):\n",
    "#     print(optionchoices[idx],')',choice)\n",
    "# print('\\nMore Options: ',choices[4:20],'\\n\\n')"
   ]
  },
  {
   "cell_type": "code",
   "execution_count": 141,
   "metadata": {},
   "outputs": [
    {
     "data": {
      "text/plain": [
       "'Interestingly, when he was appointed Governor of Bengal in 1764, he was asked to remove corruption in Company administration but he was himself cross-examined in 1772 by the British Parliament which was suspicious of his vast wealth.'"
      ]
     },
     "execution_count": 141,
     "metadata": {},
     "output_type": "execute_result"
    }
   ],
   "source": [
    "sentence"
   ]
  },
  {
   "cell_type": "code",
   "execution_count": 145,
   "metadata": {},
   "outputs": [
    {
     "data": {
      "text/plain": [
       "'Fig. 1 – Robert Clive accepting  the Diwani          of Bengal, Bihar and Orissa from the Mughal ruler in 1765The Company Becomes the DiwanOn 12 August 1765, the Mughal emperor appointed the East India Company as the Diwan of Bengal. The actual event most probably took place in Robert Clive’s tent, with a few Englishmen and Indians as witnesses. But in the painting above, the event is shown as a majestic occasion, taking place in a grand setting. The painter was commissioned by Clive to record the memorable events in Clive’s life. The grant of Diwani clearly was one such event in British imagination.As Diwan, the Company became the chief financial administrator of the territory under its control. Now it had to think of administering the land and organising its revenue resources. This had to be done in a way that could yield enough revenue to meet the growing expenses of the company. A trading company had also to ensure that it could buy the products it needed and sell what it wanted. Ruling the Countryside                   3chap 1-4.indd   26 4/22/2022   2:49:47 PMRationalised 2023-24 RULING THE COUNTRYSIDE          27Over the years, the Company also learnt that it had to move with some caution. Being an alien power, it needed to pacify those who in the past had ruled the countryside, and enjoyed authority and prestige. Those who had held local power had to be controlled but they could not be  entirely eliminated.How was this to be done? In this chapter we will see how the Company came to colonise the countryside, organise revenue resources, redefine the rights of people, and produce the crops it wanted.Revenue for the CompanyThe Company had become the Diwan, but it still saw itself primarily as a trader. It wanted a large revenue income but was unwilling to set up any regular system of assessment and collection. The effort was to increase the revenue as much as it could and buy fine cotton and silk cloth as cheaply as possible. Within five years, the value of goods bought by the Company in Bengal doubled. Before 1765, the Company had purchased goods in India by importing gold and silver from Britain. Now the revenue collected in Bengal could finance the purchase of goods for export. Soon it was clear that the Bengal economy was facing a deep crisis. Artisans were deserting villages since they were being forced to sell their goods to the Company at low prices. Peasants were unable to pay the dues that were being demanded from them. Artisanal production was in decline, and agricultural cultivation showed signs of collapse. Then in 1770, a terrible famine killed ten million people in Bengal. About one-third of the population was wiped out.Fig. 2 – A weekly market in Murshidabad in BengalPeasants and artisans from rural areas regularly came to these weekly markets (haats) to sell their goods and buy what they needed. These markets were badly affected during times of economic crisis.chap 1-4.indd   27 4/22/2022   2:49:47 PMRationalised 2023-2428 OUR PASTS – IIIThe need to improve agricultureIf the economy was in ruins, could the Company be certain of its revenue income? Most Company officials began to feel that investment in land had to be encouraged and agriculture had to be improved. How was this to be done? After two decades of debate on the question, the Company finally introduced the Permanent Settlement in 1793. By the terms of the settlement, the rajas and taluqdars  were recognised as zamindars. They were asked to collect rent from the peasants and pay revenue to the Company. The amount to be paid was fixed permanently, that is, it was not to be increased ever in future. It was felt that this would ensure a regular flow of revenue into the Company’s coffers and at the same time encourage the zamindars to invest in improving the land. Since the revenue demand of the state would not be increased, the zamindar would benefit from increased production from the land. The problemThe Permanent Settlement, however, created problems. Company officials soon discovered that the zamindars were in fact not investing in the improvement of land. The revenue that had been fixed was so high that the zamindars found it difficult to pay. Anyone who failed to pay the revenue lost his zamindari. Numerous zamindaris were sold off at auctions organised by  the Company.By the first decade of the nineteenth century, the situation changed. The prices in the market rose and cultivation slowly expanded. This meant an increase in the income of the zamindars but no gain for the Company since it could not increase a revenue demand that had been fixed permanently.Even then the zamindars did not have an interest in improving the land. Some had lost their lands in the earlier years of the settlement; others now saw the possibility of earning without the trouble and risk of investment. As long as the zamindars could give out the land to tenants and get rent, they were not interested in improving the land. Fig. 3 – Charles Cornwallis Cornwallis was the Governor-General of Bengal when the Permanent Settlement was introduced.Colebrook on Bengal ryotsIn many villages of  Bengal, some of the powerful ryots did not cultivate, but instead gave out their lands to others (the under-tenants), taking from them very high rents. In 1806, H. T. Colebrook described the conditions of these under-tenants in Bengal:The under-tenants, depressed by an excessive rent in kind, and by usurious returns for the cattle, seed, and subsistence, advanced to them, can never extricate themselves from debt. In so abject a state, they cannot labour in spirit, while they earn a scanty subsistence without hope of bettering their situation. Activity\\uf086Why do you think Colebrook is concerned with the conditions of the under-ryots in Bengal? Read the preceding pages and suggest possible reasons. Source 1chap 1-4.indd   28 6/14/2022   2:39:26 PMRationalised 2023-24 RULING THE COUNTRYSIDE          29On the other hand, in the villages, the cultivator found the system extremely oppressive. The rent he paid to the zamindar was high and his right on the land was insecure. To pay the rent he had to often take a loan from the moneylender, and when he failed to pay the rent, he was evicted from the land he had cultivated for generations. A new system is devisedBy the early nineteenth century, many of the Company officials were convinced that the system of revenue had to be changed again. How could revenues be fixed permanently at a time when the Company needed  more money to meet its expenses of administration and trade? In the North Western Provinces of the Bengal Presidency (most of this area is now in Uttar Pradesh), an Englishman called Holt Mackenzie devised the new system which came into effect in 1822. He felt that the village was an important social institution in north Indian society and needed to be preserved. Under his directions, collectors went from village to village, inspecting the land, measuring the fields, and recording the customs and rights of different groups. The estimated revenue of each plot within a village was added up to calculate the revenue that each  village (mahal)  had to pay. This demand  was to be revised periodically, not permanently fixed. The charge of collecting the revenue and paying it to the Company was given to the village headman, rather than the zamindar. This system came to be known as the mahalwari settlement.The Munro systemIn the British territories in the South, there was a similar move away from the idea of Permanent Settlement. The new system that was devised came to be known as the ryotwar  (or ryotwari ). It was tried on a small scale by Captain Alexander Read in some of the areas that were taken over by the Company after the wars with Tipu Sultan. Subsequently developed by Thomas Munro, this system was gradually extended all over south India.Read and Munro felt that in the south there were no traditional zamindars. The settlement, they argued, had to be made directly with the cultivators ( ryots ) who had tilled the land for generations. Their fields had to be carefully and separately surveyed before the revenue assessment was made. Munro thought that the British Mahal – In British revenue records, mahal is a revenue estate which may be a village or a group of villages.Fig. 4 – Thomas Munro, Governor of Madras (1819 –26) chap 1-4.indd   29 4/22/2022   2:49:49 PMRationalised 2023-2430 OUR PASTS – IIIshould act as paternal father figures protecting the ryots under their charge.All was not wellWithin a few years after the new systems were imposed, it was clear that all was not well with them. Driven by the desire to increase the income from land, revenue officials fixed too high a revenue demand. Peasants were unable to pay, ryots fled the countryside, and villages became deserted in many regions. Optimistic officials had imagined that the new systems would transform the peasants into rich enterprising farmers. But this did not happen. Crops for EuropeThe British also realised that the countryside could not only yield revenue, it could also grow the crops that Europe required. By the late eighteenth century, the Company was trying its best to expand the cultivation of opium and indigo. In the century and a half that followed, the British persuaded or forced cultivators in various parts of India to produce other crops: jute in Bengal, tea in Assam, sugarcane in the United Provinces (now Uttar Pradesh), wheat in Punjab, cotton in Maharashtra and Punjab, rice  in Madras.How was this done? The British used a variety of methods to expand the cultivation of crops that they needed. Let us take a closer look at the story of one such crop, one such method of production.Does colour have a history?Figs. 5 and 6 are two images of cotton prints. The image on the left  (Fig. 5) shows a kalamkari  print created by weavers of Andhra Pradesh in India. On the right is a floral cotton print designed and produced by William Morris, a famous poet and artist of nineteenth-century Britain. There is one thing common in the  Fig. 5 – A kalamkari print, twentieth-century IndiaFig. 6 – A Morris cotton print, late- nineteenth-century EnglandActivity\\uf086Imagine that you are a Company representative sending a report back to England about the conditions in rural areas under Company rule. What would you write?chap 1-4.indd   30 4/22/2022   2:49:53 PMRationalised 2023-24 RULING THE COUNTRYSIDE          31two prints: both use a rich blue colour – commonly called indigo. Do you know how this colour was produced?The blue that you see in these prints was produced from a plant called indigo. It is likely that the blue dye used in the Morris prints in nineteenth-century Britain was manufactured from indigo plants cultivated in India. For India was the biggest supplier of indigo in the world at that time. Why the demand for Indian indigo?The indigo plant grows primarily in the tropics. By the thirteenth century, Indian indigo was being used by cloth manufacturers in Italy, France and Britain to dye cloth.However, only small amounts of Indian indigo reached the European market and its price was very high. European cloth manufacturers therefore had to depend on another plant called woad to make violet and blue dyes. Being a plant of the temperate zones, woad was more easily available in Europe. It was grown in northern Italy, southern France and in parts of Germany and Britain. Worried by the competition from indigo, woad producers in Europe pressurised their governments to ban the import of indigo.Cloth dyers, however, preferred indigo as a dye. Indigo produced a rich blue colour, whereas the dye from woad was pale and dull. By the seventeenth century, European cloth producers persuaded their governments to relax the ban on indigo import. The French began cultivating indigo in St Domingue in the Caribbean islands, the Portuguese in Brazil, the English in Jamaica, and the Spanish in Venezuela. Indigo plantations also came up in many parts of North America.By the end of the eighteenth century, the demand for Indian indigo grew further. Britain began to industrialise, and its cotton production expanded dramatically, creating an enormous new demand for cloth dyes. While the demand for indigo increased, its existing supplies from the West Indies and America collapsed for a variety of reasons. Between 1783 and 1789, the production of indigo in the world fell by half. Cloth dyers in Britain now desperately looked for new sources of indigo supply. From where could this indigo be procured? Britain turns to IndiaFaced with the rising demand for indigo in Europe, the Company in India looked for ways to expand the area under indigo cultivation. Plantation – A large farm operated by a planter employing various forms of forced labour. Plantations are associated with the production of coffee, sugarcane, tobacco, tea and cotton. chap 1-4.indd   31 4/22/2022   2:49:53 PMRationalised 2023-2432 OUR PASTS – IIIFrom the last decades of the eighteenth century, indigo cultivation in Bengal expanded rapidly and Bengal indigo came to dominate the world market. In 1788, only about 30 per cent of the indigo imported into Britain was from India. By 1810, the proportion had gone up to 95 per cent.As the indigo trade grew, commercial agents and officials of the  Company began investing in indigo production. Over the years many Company officials left their jobs to look after their indigo business. Attracted by the prospect of high profits, numerous Scotsmen and Englishmen came to India and became planters. Those who had no money to produce indigo could get loans from the Company and the banks that were coming up at the time.How was indigo cultivated? There were two main systems of indigo cultivation – nij and ryoti. Within the system of nij cultivation, the planter produced indigo in lands that he directly controlled. He either bought the land or rented it from other zamindars and produced indigo by directly employing hired labourers. The problem with nij cultivationThe planters found it difficult to expand the area under nij cultivation. Indigo could be cultivated only on fertile lands, and these were all already densely populated. Only small plots scattered over the landscape could be acquired. Planters needed large areas in compact blocks to cultivate indigo in plantations. Where could they get such land from? They attempted to lease in the land around the indigo factory, and evict the peasants from the area. But this always led to conflicts and tension. Nor was labour easy to mobilise. A large plantation required a vast number of hands to operate. And labour was needed precisely at a time when peasants were usually busy with their rice cultivation. Fig. 7 – The Slave Revolt in               St Domingue, August 1791,  painting by January ScuhodolskiIn the eighteenth century, French planters produced indigo and sugar in the French colony of St Domingue in the Caribbean islands. The African slaves who worked on the plantations rose in rebellion in 1791, burning the plantations and killing their rich planters. In 1792, France abolished slavery in the French colonies. These events led to the collapse of the indigo plantations on the Caribbean islands.Slave – A person who is owned by someone else – the slave owner. A slave has no freedom and is compelled to work for the master. chap 1-4.indd   32 4/22/2022   2:49:55 PMRationalised 2023-24 RULING THE COUNTRYSIDE          33Nij cultivation on a large scale also required many ploughs and bullocks. One bigha of indigo cultivation required two ploughs. This meant that a planter with 1,000 bighas  would need 2,000 ploughs. Investing on purchase and maintenance of ploughs was a big problem. Nor could supplies be easily got from the peasants since their ploughs and bullocks were busy on their rice fields, again exactly at the time that the indigo planters needed them. Till the late nineteenth century, planters were therefore reluctant to expand the area under nij cultivation. Less than 25 per cent of the land producing indigo was under this system. The rest was under an alternative mode of cultivation – the ryoti system.Indigo on the land of ryotsUnder the ryoti system, the planters forced the ryots to sign a contract, an agreement ( satta ). At times they pressurised the village headmen to sign the contract on behalf of the ryots. Those who signed the contract got cash advances from the planters at low rates of interest to produce indigo. But the loan committed the ryot to cultivating indigo on at least 25 per cent of the area under his holding. The planter provided the seed and the drill, while the cultivators prepared the soil, sowed the seed and looked after the crop. Fig. 8 – Workers harvesting indigo in early-nineteenth-century Bengal. From Colesworthy Grant, Rural Life in Bengal, 1860  In India the indigo plant was cut mostly by men. Bigha – A unit of measurement of land. Before British rule, the size of this area varied. In Bengal the British standardised it to about one-third of an acre.Fig. 9 – The Indigo plant being brought from the fields to the factorychap 1-4.indd   33 4/22/2022   2:49:56 PMRationalised 2023-2434 OUR PASTS – IIIFig. 13 – The indigo is ready for saleHere you can see the last stage of the production – workers stamping and cutting  the indigo pulp that          has been pressed and moulded. In the background you can see a worker carrying away the blocks for drying.Fig. 12 – The Vat-BeaterThe indigo worker here is standing with the paddle that was used to stir the solution in the vat. These workers had to remain in waist-deep water for over eight hours to beat the            indigo solution.Fig. 11 – Women usually carried the indigo plant to               the vats. Vat – A fermenting or storage vesselFig. 10 – An indigo factory located near indigo fields, painting by William Simpson, 1863The indigo villages were usually around indigo factories owned by planters. After harvest, the indigo plant was taken to the vats in the indigo factory. Three or four vats were needed to manufacture the dye. Each vat had a separate function. The leaves stripped off the indigo plant were first soaked in warm water in a vat (known as the fermenting or steeper vat) for several hours. When the plants fermented, the liquid began to boil and bubble. Now the rotten leaves were taken out and the liquid drained into another vat that was placed just below the first vat. In the second vat (known as the beater vat), the solution was continuously stirred and beaten with paddles. When the liquid gradually turned green and then blue, lime water was added to the vat. Gradually the indigo separated out in flakes, a muddy sediment settled at the bottom of the vat and a clear liquid rose to the surface. The liquid was drained off and the sediment – the indigo pulp – transferred to another vat (known as the settling vat), and then pressed and dried for sale. Fermenting VatBeater VatHow was indigo produced?chap 1-4.indd   34 4/22/2022   2:49:59 PMRationalised 2023-24 RULING THE COUNTRYSIDE          35When the crop was delivered to the planter after the harvest, a new loan was given to the ryot, and the cycle started all over again. Peasants who were initially tempted by the loans soon realised how harsh the system was. The price they got for the indigo they produced was very low and the cycle of loans never ended.There were other problems too. The planters usually insisted that indigo be cultivated on the best soils in which peasants preferred to cultivate rice. Indigo, moreover, had deep roots and it exhausted the soil rapidly. After an indigo harvest the land could not be sown with rice. The “Blue Rebellion” and AfterIn March 1859, thousands of ryots in Bengal refused to grow indigo. As the rebellion spread, ryots refused to pay rents to the planters, and attacked indigo factories armed with swords and spears, bows and arrows. Women turned up to fight with pots, pans and kitchen implements. Those who worked for the planters were socially boycotted, and the gomasthas – agents of planters – who came to collect rent were beaten up. Ryots  swore they would no longer take advances to sow indigo nor be bullied by the planters’ lathiyals – the lathi-wielding strongmen maintained by  the planters.Why did the indigo peasants decide that they would no longer remain silent? What gave them the power to rebel? Clearly, the indigo system was intensely oppressive. But those who are oppressed do not always rise up in rebellion. They do so only at times. In 1859, the indigo ryots felt that they had the  support of the local zamindars and village headmen in their rebellion against the planters. In many villages, headmen who had been forced to sign indigo contracts, mobilised the indigo peasants and fought pitched battles with the lathiyals . In other places even the zamindars went around villages urging the ryots  to resist the planters. These zamindars were unhappy with the increasing power of the planters and angry at being forced by the planters to give them land on long leases. The indigo peasants also imagined that the British government would support them in their struggle  against the planters. After the Revolt of 1857, the British government was particularly worried about the possibility of another popular rebellion. When the news spread of a simmering revolt in the indigo districts,   A song from an indigo-producing villageIn the moments of struggle, people often sing songs to inspire each other and to build a sense of collective unity. Such  songs give us a glimpse of their feelings. During the indigo rebellion, many such songs could be heard in the villages of lower Bengal. Here is one such song: The long lathis wielded by the  planter of Mollahati /now lie in a clusterThe babus of Kolkata have sailed down /to see the great fightThis time the raiyats are all ready, / they will no longer be beaten in silence They will no longer give up their life / without fighting the lathiyals.Source 2chap 1-4.indd   35 4/22/2022   2:49:59 PMRationalised 2023-2436 OUR PASTS – IIIthe Lieutenant Governor toured the region in the winter of 1859. The ryots saw the tour as a sign of government sympathy for their plight. When in Barasat, the magistrate Ashley Eden issued a notice stating that ryots would not be compelled to accept indigo contracts, word went around that Queen Victoria had declared that indigo need not be sown. Eden was trying to placate the peasants and control an explosive situation, but his action was read as support for the rebellion. As the rebellion spread, intellectuals from Calcutta rushed to the indigo districts. They wrote of the misery of the ryots, the tyranny of the planters, and the horrors of the indigo system. Worried by the rebellion, the government brought in the military to protect the planters from assault, and set up the Indigo Commission to enquire into the system of indigo production. The Commission held the planters guilty, and criticised them for the coercive methods they used with indigo cultivators. It declared that indigo production was not profitable for ryots. The Commission asked the ryots to fulfil their existing contracts but also told them that they could refuse to produce indigo in future. “I would rather beg than sow indigo”Hadji Mulla, an indigo cultivator of Chandpore, Thana Hardi, was interviewed by the members of the Indigo Commission on Tuesday, 5 June 1860. This is what he said in answer to some of the questions:W. S. Seton Karr, President of the Indigo Commission: Are you now willing to sow indigo; and if not on what fresh terms would you be willing to do it?Hadji Mulla: I am not willing to sow, and I don’t know that any fresh terms would satisfy me.Mr Sale: Would you not be willing to sow at a rupee a bundle?Hadji Mulla: No I would not; rather than sow indigo I will go to another country; I would rather beg than sow indigo. Indigo Commission Report, Vol. II, Minutes of Evidence, p. 67 Source 3Activity\\uf086Imagine you are a witness giving evidence before the Indigo Commission. W.S. Seton  Karr asks you “On what condition will ryots grow indigo?” What will your answer be? chap 1-4.indd   36 4/22/2022   2:50:00 PMRationalised 2023-24 RULING THE COUNTRYSIDE          37Let’s recall1. Match the following:ryot  villagemahal peasantnij  cultivation on ryot’s landsryoti  cultivation on planter’s own land2. Fill in the blanks:(a) Growers of woad in Europe saw __________ as a crop which would provide competition to their earnings. (b) The demand for indigo increased in late eighteenth-century Britain because of __________.(c) The international demand for indigo was affected by the discovery of __________.(d) The Champaran movement was against __________.Let’s discuss3. Describe the main features of the Permanent Settlement. 4. How was the mahalwari system different from the Permanent Settlement?After the revolt, indigo production collapsed in Bengal. But the planters now shifted their operation to Bihar. With the discovery of synthetic dyes in the late nineteenth century, their business was severely affected, but yet they managed to expand production. When Mahatma Gandhi returned from South Africa, a peasant from Bihar persuaded him to visit Champaran and see the plight of the indigo cultivators there. Mahatma Gandhi’s visit in 1917 marked the beginning of the Champaran movement against the indigo planters. chap 1-4.indd   37 4/22/2022   2:50:01 PMRationalised 2023-2438 OUR PASTS – IIILet’s imagineImagine a conversation between a planter and a peasant who is being forced to grow indigo. What reasons would the planter give to persuade the peasant? What problems would the peasant point out? Enact their conversation.5. Give two problems which arose with the new Munro system of fixing revenue.6. Why were ryots reluctant to grow indigo?7. What were the circumstances which led to the eventual collapse of indigo production in Bengal? Let’s do8. Find out more about the Champaran movement and  Mahatma Gandhi’s role in it. 9. Look into the history of either tea or coffee plantations in India. See how the life of workers in  these plantations was similar to or different from that of workers in indigo plantations.chap 1-4.indd   38 4/22/2022   2:50:03 PMRationalised 2023-24'"
      ]
     },
     "execution_count": 145,
     "metadata": {},
     "output_type": "execute_result"
    }
   ],
   "source": [
    "chap_3 = pdf_to_txt('Dataset/chapter-3.pdf')\n",
    "chap_3"
   ]
  },
  {
   "cell_type": "code",
   "execution_count": 146,
   "metadata": {},
   "outputs": [
    {
     "data": {
      "text/plain": [
       "'From Trade to Territory                   The Company Establishes Power2Aurangzeb was the last of the powerful Mughal rulers. He established control over a very large part of the territory that is now known as India. After his death in 1707, many Mughal governors ( subadars) and big zamindars began asserting their authority and establishing regional kingdoms. As powerful regional kingdoms emerged in various parts of India, Delhi could no longer function as an effective centre.By the second half of the eighteenth century, however, a new power was emerging on the political horizon – the British. Did you know that the British originally came as a small trading company and were reluctant to acquire territories? How then did they come to be masters of a vast empire? In this chapter you will see how this came about.Fig. 1 – Bahadur Shah Zafar  and his sons being arrested by Captain HodsonAfter Aurangzeb there was no powerful Mughal ruler, but Mughal emperors continued to be symbolically important. In fact, when a massive rebellion against British rule broke out in 1857, Bahadur Shah Zafar, the Mughal emperor at the time, was seen as the natural leader. Once the revolt was put down by the company, Bahadur Shah Zafar was forced to leave the kingdom, and his sons were shot in  cold blood. chap 1-4.indd   9 4/22/2022   2:49:25 PMRationalised 2023-2410 OUR PASTS – IIIEast India Company Comes EastIn 1600, the East India Company acquired a charter from the ruler of England, Queen Elizabeth I, granting it the sole right to trade with the East. This meant that no other trading group in England could compete with the East India Company. With this charter, the Company could venture across the oceans, looking for new lands from which it could buy goods at a cheap price, and carry them back to Europe to sell at higher prices. The Company did not have to fear competition from other English trading companies. Mercantile trading companies in those days made profit primarily by excluding competition, so that they could buy cheap and sell dear.The royal charter, however, could not prevent other European powers from entering the Eastern markets. By the time the first English ships sailed down the west coast of Africa, round the Cape of Good Hope, and crossed the Indian Ocean, the Portuguese had already established their presence in the western coast of India, and had their base in Goa. In fact, it was Vasco da Gama, a Portuguese explorer, who had discovered this sea route to India in 1498. By the early seventeenth century, the Dutch too were exploring the possibilities of trade in the Indian Ocean. Soon the French traders arrived on the scene. The problem was that all the companies were interested in buying the same things. The fine qualities of cotton and silk produced in India had a big market in Europe. Pepper, cloves, cardamom and cinnamon too were in great demand. Competition amongst the European companies inevitably pushed up the prices at which these goods could be purchased, and this reduced the profits that could be earned. The only way the trading companies could flourish was by eliminating rival competitors. The urge to secure markets, therefore, led to fierce battles between the trading companies. Through the seventeenth and eighteenth centuries they regularly sank each other’s ships, blockaded routes, and prevented rival ships from moving with supplies of Fig. 2 –  Routes to India in the eighteenth centuryMercantile – A business enterprise that makes profit primarily through trade, buying goods cheap and selling them at higher priceschap 1-4.indd   10 4/22/2022   2:49:26 PMRationalised 2023-24FROM TRADE TO TERRITORY         11goods. Trade was carried on with arms and trading posts were protected through fortification. This effort to fortify settlements and carry on profitable trade also led to intense conflict with local rulers. The company therefore found it difficult to separate trade from politics. Let us see how this happened. East India Company begins trade in BengalThe first English factory was set up on the banks of                  the river Hugli in 1651. This was the base from which the Company’s traders, known at that time as “factors”, operated. The factory had a warehouse where goods for export were stored, and it had offices where Company officials sat. As trade expanded, the Company persuaded merchants and traders to come and settle near the factory. By 1696, it began building a fort around the settlement. Two years later, it bribed Mughal officials into giving the Company zamindari rights over three villages. One of these was Kalikata, which later grew into the city of Calcutta or Kolkata as it is known today. It also persuaded the Mughal emperor Aurangzeb to issue a farman granting the Company the right to trade duty free.The Company tried continuously to press for more concessions and manipulate existing privileges. Aurangzeb’s farman, for instance, had granted only the Company the right to trade duty free. But officials of  the Company, who were carrying on private trade on the side, were expected to pay duty. This they refused to pay, causing an enormous loss of revenue for Bengal. How could the Nawab of Bengal, Murshid Quli Khan,  not protest?Fig. 3 – Local boats bring goods from ships in Madras, painted by William Simpson, 1867Farman – A royal edict, a royal orderchap 1-4.indd   11 4/22/2022   2:49:27 PMRationalised 2023-2412 OUR PASTS – IIIHow trade led to battlesThrough the early eighteenth century, the conflict between the Company and the nawabs of Bengal intensified.  After the death of Aurangzeb, the Bengal nawabs asserted their power and autonomy, as other regional powers were doing at that time. Murshid Quli Khan was followed by Alivardi Khan and then Sirajuddaulah as the Nawab of Bengal. Each one of them was a strong ruler. They refused to grant the Company concessions, demanded large tributes for the Company’s right to trade, denied it any right to mint coins, and stopped it from extending its fortifications. Accusing the Company of deceit, they claimed that the Company was depriving the Bengal government of huge amounts of revenue and undermining the authority of the nawab. It was refusing to pay taxes, writing disrespectful letters, and trying to humiliate the nawab and his officials. The Company on its part declared that the unjust demands of the local officials were ruining the trade of the Company, and trade could flourish only if the duties were removed. It was also convinced that to expand trade, it had to enlarge its settlements, buy up villages, and rebuild its forts.    The conflicts led to confrontations and finally culminated in the famous Battle of Plassey.The Battle of Plassey When Alivardi Khan died in 1756, Sirajuddaulah became the nawab of Bengal. The Company was worried about his power and keen on a puppet ruler who would  willingly give trade concessions and other privileges. So it tried, though without success, to help one of Sirajuddaulah’s rivals become the nawab. An infuriated Sirajuddaulah asked the Company to stop meddling in the political affairs of his dominion, stop fortification, and pay the revenues. After negotiations failed, the Nawab marched with 30,000 soldiers to the English factory at Kassimbazar, captured the Company officials, locked the warehouse, disarmed all Englishmen, and blockaded English ships. Then he marched to Calcutta to establish control over the Company’s fort there. On hearing the news of the fall of Calcutta, Company officials in Madras sent forces under the command of Robert Clive, reinforced by naval fleets. Prolonged negotiations with the Nawab followed. Finally,  in 1757, Robert Clive led the Company’s army against Sirajuddaulah at Plassey. One of the main reasons for  Did you know?Did you know how Plassey got its name? Plassey is an anglicised pronunciation  of Palashi and the place derived its name from the palash  tree known for its beautiful red flowers that yield gulal , the powder used in the festival of Holi.Fig. 4 – Robert Clive Puppet – Literally, a toy that you can move with strings. The term is used disapprovingly to refer to a person who is controlled by someone else.chap 1-4.indd   12 4/22/2022   2:49:28 PMRationalised 2023-24FROM TRADE TO TERRITORY         13the defeat of the Nawab was that the forces led by Mir Jafar, one of Sirajuddaulah’s commanders, never fought the battle. Clive had managed to secure his support by promising to make him nawab after crushing Sirajuddaulah. The Battle of Plassey became famous because it was the first major victory the Company won in India. Fig. 5 – The General Court Room, East India House, Leadenhall StreetThe Court of Proprietors of the East India Company had their meetings in the East India House on Leadenhall Street in London. This is a picture of one of their meetings in progress.The promise of richesThe territorial ambitions of the mercantile East India Company were viewed with distrust and doubt in England. After the Battle of Plassey, Robert Clive wrote to William Pitt, one of the Principal Secretaries of State to the English monarch, on 7 January 1759 from Calcutta: But so large a sovereignty may possibly be an object too extensive for a mercantile Company … I flatter myself … that there will be little or no difficulty in obtaining the absolute possession of these rich kingdoms: ... Now I leave you to judge, whether an income yearly of two million sterling with the possession of three provinces … be an object deserving the public attention ...Source 1Fig. 6 –  Sirajuddaulahchap 1-4.indd   13 4/22/2022   2:49:30 PMRationalised 2023-2414 OUR PASTS – IIIAfter the defeat at Plassey, Sirajuddaulah was assassinated and Mir Jafar made the nawab. The Company was still unwilling to take over the responsibility of administration. Its prime objective was the expansion of trade. If this could be done without conquest, through the help of local rulers who were willing to grant privileges, then territories need not be taken over directly. Soon the Company discovered that this was rather difficult. For even the puppet nawabs were not always as helpful as the Company wanted them to be. After all, they had to maintain a basic appearance of dignity and sovereignty if they wanted respect from their subjects. What could the Company do? When Mir Jafar protested, the Company deposed him and installed Mir Qasim in his place. When Mir Qasim complained, he in turn was defeated in a battle fought at Buxar (1764), driven out of Bengal, and Mir Jafar was reinstalled. The Nawab had to pay Rs. 500,000 every month but the Company wanted more money to finance its wars, and meet the demands of trade and its other expenses. It wanted more territories and more revenue. By the time Mir Jafar died in 1765, the mood of the Company had changed. Having failed to work with puppet nawabs, Clive declared: “We must indeed become  nawabs ourselves”.Finally, in 1765 the Mughal emperor appointed the Company as the Diwan of the provinces of Bengal. The Diwani allowed the Company to use the vast revenue resources of Bengal. This solved a major problem that the Company had earlier faced. From the early eighteenth century, its trade with India had expanded. But it had to buy most of the goods in India with gold and silver imported from Britain. This was because at this time Britain had no goods to sell in India. The outflow of gold from Britain slowed after the Battle of Plassey, and entirely stopped after the assumption of Diwani. Now revenues from India could finance Company expenses. These revenues could be used to purchase cotton and silk textiles in India, maintain Company troops, and meet the cost of building the Company fort and offices at Calcutta.  Company officials become “nabobs”What did it mean to be nawabs? It meant of course that the Company acquired more power and authority. But it also meant something else. Each company servant began to have visions of living like nawabs.Source 2The Nawab complainsIn 1733 the Nawab of Bengal said this about the English traders:When they first came into the country they petitioned the then government in a humble manner for liberty to purchase a spot of ground to build a factory house upon, which was no sooner granted but they built a strong fort, surrounded it  with a ditch which has communication with the river and mounted a great number of guns upon the walls. They have enticed several merchants and others to go and take protection under them and they collect a revenue which amounts to Rs. 100,000… they rob and plunder and carry great number of the king’s subjects of both sexes into slavery into their own country … chap 1-4.indd   14 4/22/2022   2:49:30 PMRationalised 2023-24FROM TRADE TO TERRITORY         15After the Battle of Plassey, the actual nawabs of Bengal were forced to give land and vast sums of money as personal gifts to Company officials. Robert Clive himself amassed a fortune in India. He had come to Madras (now Chennai) from England in 1743 at the age of 18. When in 1767 he left India, his Indian fortune was worth £401,102. Interestingly, when he was appointed Governor of Bengal in 1764, he was asked to remove corruption in Company administration but he was himself cross-examined in 1772 by the British Parliament which was suspicious of his vast wealth. Although he was acquitted, he committed suicide  in 1774. However, not all Company officials succeeded in making money like Clive. Many died an early death in India due to disease and war, and it would not be right to regard all of them as corrupt and dishonest. Many of them came from humble backgrounds and their uppermost desire was to earn enough in India, return to Britain and lead a comfortable life. Those who managed to return with wealth led flashy lives and flaunted their riches. They were called  “nabobs” – an anglicised version of the Indian word nawab. They were often seen as upstarts and social climbers in British society and were ridiculed or made fun of in plays and cartoons. Company Rule ExpandsIf we analyse the process of annexation of Indian states by the East India Company from 1757 to 1857, certain key aspects emerge. The Company rarely launched a direct military attack on an unknown territory. Instead it used a variety of political, economic and diplomatic methods to extend its influence before annexing an Indian kingdom. After the Battle of Buxar (1764), the Company appointed Residents in Indian states. They were political or commercial agents and their job was to serve and further the interests of the Company. Through the Residents, the Company officials began interfering in the internal affairs of Indian states. They tried to decide who was to be the successor to the throne, and who was to be appointed in administrative posts. Sometimes, the Company forced the states into a “subsidiary alliance”. According to the terms of this alliance, Indian rulers were not allowed to have their independent armed forces. They were to be protected by the Company, but How did Clive see himself?At his hearing in front  of a Committee in Parliament, Clive declared that he had shown admirable restraint after the Battle of Plassey. This is what he said:Consider the situation in which the victory at Plassey had placed me! A great prince was dependent on my pleasure; an opulent city lay at my mercy; its richest bankers bid against each other for my smiles; I walked through vaults which were thrown open to me alone, piled on either hand with gold and jewels! Mr Chairman, at this moment I stand astonished at my moderation.Source 3Imagine that you are a young Company official  who has been in India for a few months. Write a letter home to your mother telling her about your luxurious life and contrasting it with your earlier life in Britain. Activity\\uf086chap 1-4.indd   15 4/22/2022   2:49:30 PMRationalised 2023-2416 OUR PASTS – IIISource 4Fig. 7 – Nawab Shujauddaulah  of Awadh, with his sons and the British Resident, painted by Tilly Kettle (oil, 1772)The treaties that followed the Battle of Buxar forced Nawab Shujauddaulah to give up much of his authority. Here, however, he poses in regal splendour, towering over the Resident.Injunction – InstructionSubservience – Submissivenesshad to pay for the “subsidiary forces” that the Company was supposed to maintain for the purpose of this protection. If the Indian rulers failed to make the payment, then part of their territory was taken away as penalty. For example, when Richard Wellesley was Governor-General (1798–1805), the Nawab of Awadh was forced to give over half of his territory to the Company in 1801, as he failed to pay for the “subsidiary forces”. Hyderabad was also forced to cede territories on similar grounds.What power did the Resident have?This is what James Mill, the famous economist and political philosopher from Scotland, wrote about the residents appointed by the Company. We place a resident, who really is king of the country, whatever injunctions of non-interference he may act under. As long as the prince acts in perfect subservience, and does what is agreeable to the residents, that is, to the British Government, things go on quietly; they are managed without the resident appearing much in the administration of affairs … but when anything of a different nature happens, the moment the prince takes a course which the British Government think wrong, then comes clashing and disturbance.James Mill (1832)Tipu Sultan – The “Tiger of Mysore”The Company resorted to direct military confrontation when it saw a threat to its political or economic interests. This can be illustrated with the case of the southern Indian state of Mysore.Mysore had grown in strength under the leadership of powerful rulers like Haidar Ali (ruled from 1761 to 1782) and his famous son Tipu Sultan (ruled from 1782 to 1799). Mysore controlled the profitable trade of the Malabar coast where the Company purchased pepper and cardamom. In 1785, Tipu Sultan stopped the export of sandalwood, pepper and cardamom through the ports of his kingdom, and disallowed local merchants from trading with the Company. He also established a close Fig. 8  – Tipu Sultanchap 1-4.indd   16 4/22/2022   2:49:32 PMRationalised 2023-24FROM TRADE TO TERRITORY         17relationship with the French in India, and modernised his army with their help. The British were furious. They saw Haidar and Tipu as ambitious, arrogant and dangerous – rulers who had to be controlled and crushed. Four wars were fought with Mysore (1767–69, 1780–84, 1790–92 and 1799). Only in the last – the Battle of Seringapatam – did the Company ultimately win a victory. Tipu Sultan was killed defending his capital Seringapatam, Mysore was placed under the former ruling dynasty of the Wodeyars and a subsidiary alliance was imposed on the state. Fig. 10 – Tipu’s toy tiger This is the picture of a big mechanical toy that Tipu possessed.  You can see a tiger mauling a European soldier. When its handle was turned, the toy tiger roared and the soldier shrieked. This  toy-tiger is now kept in the Victoria and Albert Museum in London. The British took it away when Tipu Sultan died defending his capital Seringapatam on 4 May 1799.Fig. 9 – Cornwallis receiving the sons of Tipu Sultan as hostages, painted by Daniel Orme, 1793The Company forces were defeated by Haidar Ali and Tipu Sultan in several battles. But in 1792, attacked by the combined forces of the Marathas, the Nizam of Hyderabad and the Company, Tipu was forced to sign a treaty with the British by which two of his sons were  taken away as hostages. British painters always liked painting scenes that showed the triumph of  British power.The legend of TipuKings are often surrounded by legend and their powers glorified through folklore. Here is a legend about Tipu Sultan who became the ruler of Mysore in 1782. It is said that once he went hunting in the forest with a French friend. There he came face to face with a tiger. His gun did not work and his dagger fell to the ground. He battled with the tiger unarmed until he  managed to reach down and pick up the dagger. Finally, he was able to kill the tiger in the battle. After this, he came to be known as the “Tiger of Mysore”. He had the image of the tiger on his flag. chap 1-4.indd   17 4/22/2022   2:49:34 PMRationalised 2023-2418 OUR PASTS – IIIWar with the Marathas From the late eighteenth century, the Company also sought to curb and eventually destroy Maratha power. With their defeat in the Third Battle of Panipat in 1761, the Marathas’ dream of ruling from Delhi was shattered. They were divided into many states under different chiefs (sardars) belonging to dynasties such as Sindhia, Holkar, Gaikwad and Bhonsle. These chiefs were held together in a confederacy  under a Peshwa (Principal Minister) who became its effective military and administrative head based in Pune. Mahadji Sindhia and Nana Phadnis were two famous Maratha soldiers and statesmen of the late eighteenth century. The Marathas were subdued in a series of wars. In the first war that ended in 1782 with the Treaty of Salbai, there was no clear victor. The Second Anglo-Maratha War (1803–05) was fought on different fronts, resulting in the British gaining Orissa and the territories north of the Yamuna river including Agra and Delhi. Finally, the Third Anglo-Maratha War of 1817–19 crushed Maratha power. The Peshwa was removed and sent away to Bithur near Kanpur with a pension. The Company now had complete control over the territories south of the Vindhyas. The claim to paramountcyIt is clear from the above that from the early nineteenth century, the Company pursued an aggressive policy of territorial expansion. Under Lord Hastings (Governor-General from 1813 to 1823), a new policy of “paramountcy” was initiated. Now the Company claimed that its authority was paramount or supreme, hence its power was greater than that of Indian states. In order to protect its interests, it was justified in annexing or threatening to annex any Indian kingdom. This view continued to guide later British policies as well. This process, however, did not go unchallenged. For example, when the British tried to annex the small state of Kitoor (in Karnataka today), Rani Channamma took to arms and led an anti-British resistance movement. She was arrested in 1824 and died in prison in 1829. But Rayanna, a poor chowkidar of Sangoli in Kitoor, carried on the resistance. With popular support, he destroyed many British camps and records. He was caught and hanged by the British in 1830. You will read more about several cases of resistance later in  the book.Fig. 11 – Lord Hastings.  Confederacy – AllianceActivityImagine that you have   come across two old  newspapers reporting on the Battle of Seringapatam and the death of Tipu Sultan. One is a British paper and the other is from Mysore. Write the headline for each of  the two newspapers.\\uf086Fig. 12 – A Statue of the  Queen of Kitoor (Karnataka) chap 1-4.indd   18 4/22/2022   2:49:36 PMRationalised 2023-24FROM TRADE TO TERRITORY         19In the late 1830s, the East India Company became worried about Russia. It imagined that Russia might expand across Asia and enter India from the north-west. Driven by this fear, the British now wanted to secure their control over the north-west. They fought a prolonged war with Afghanistan between 1838 and 1842, and established indirect Company rule there. Sind was taken over in 1843. Next in line was Punjab. But the presence of Maharaja Ranjit Singh held back the Company. After his death in 1839, two prolonged wars were fought with the Sikh  kingdom. Ultimately, in 1849, Punjab  was annexed.The Doctrine of LapseThe final wave of annexations occurred under Lord Dalhousie who was the Governor-General from 1848 to 1856. He devised a policy that came to be known as the Doctrine of Lapse. The doctrine declared that if an Indian ruler died without a male heir his kingdom would “lapse”, that is, become a part of Company territory. One kingdom after another was annexed simply by applying this doctrine: Satara (1848), Sambalpur (1850), Udaipur (1852), Nagpur (1853) and  Jhansi (1854). Finally, in 1856, the Company also took over Awadh. This time the British had an added argument – they said they were “obliged by duty” to take over Awadh in order to free the people from the “misgovernment” of the Nawab! Enraged by the humiliating way in which  the Nawab was deposed, the people of Awadh joined the great revolt that broke out in 1857. Fig. 13  – Maharaja Ranjit Singh holding court  Fig. 14   – A portrait of  Veer Surendra Sai ActivityImagine that you are a nawab’s nephew and have been brought up thinking that you will one day be king. Now you find that this will not be allowed by the British because of the new Doctrine of Lapse. What will be your feelings? What will you plan to do so that you can inherit the crown? \\uf086chap 1-4.indd   19 4/22/2022   2:49:39 PMRationalised 2023-2420 OUR PASTS – IIIFig. 14 a, b, c – Expansion of British territorial power in IndiaLook at these maps along with a present-day political map of India. In each of these maps, try and identify the different parts of India that were not under British rule. Fig. 14 a – India, 1797 Fig. 14 b – India, 1840Fig. 14 c – India, 1857chap 1-4.indd   20 4/22/2022   2:49:40 PMRationalised 2023-24FROM TRADE TO TERRITORY         21Setting up a New AdministrationWarren Hastings (Governor-General from 1773 to 1785) was one of the many important figures who played a significant role in the expansion of Company power. By his time the Company had acquired power not only                 in Bengal, but also in Bombay and Madras. British territories were broadly divided into administrative units called Presidencies. There were three Presidencies:  Bengal, Madras and Bombay. Each was ruled by a Governor. The supreme head of the administration was the Governor-General. Warren Hastings, the first Governor-General, introduced several administrative reforms, notably in the sphere of justice. From 1772 a new system of justice was established. Each district was to have two courts – a criminal court (faujdari adalat ) and a civil court ( diwani adalat ). Maulvis and Hindu pandits interpreted Indian laws for the European district collectors who presided over civil courts. The criminal courts were still under a qazi and a mufti but under the supervision of the collectors. Qazi – A judgeMufti – A jurist of the Muslim community responsible for expounding the law           that the qazi would administerImpeachment – A trial by the House of Lords           in England for charges of misconduct brought against a person in the House of CommonsFig. 15 – The trial of Warren Hastings, painted by R.G. Pollard, 1789When Warren Hastings went back to England in 1785, Edmund Burke accused him of being personally responsible for the misgovernment of Bengal. This led to an impeachment proceeding in the British Parliament that lasted seven years. chap 1-4.indd   21 4/22/2022   2:49:42 PMRationalised 2023-2422 OUR PASTS – IIIA major problem was that the Brahman pandits gave different interpretations of local laws based on different schools of the dharmashastra . To bring about uniformity, in 1775 eleven pandits were asked to compile a digest of Hindu laws. N.B. Halhed translated this digest into English. By 1778, a code of Muslim laws was also compiled for the benefit of European judges. Under the Regulating Act of 1773, a new Supreme Court was established, while a court of appeal – the Sadar Nizamat Adalat – was also set up at Calcutta.The principal figure in an Indian district was the Collector. As the title suggests, his main job was to collect revenue and taxes and maintain law and order in his district with the help of judges, police officers and darogas . His office – the Collectorate – became the new centre of power and patronage that steadily replaced previous holders of authority.The Company armyColonial rule in India brought in some new ideas of administration and reform but its power rested on its military strength. The Mughal army was mainly composed of cavalry (sawars: trained soldiers on horseback) and infantry, that is, paidal (foot) soldiers. They were given training in archery ( teer-andazi ) and the use of the sword. The cavalry dominated the army and the Mughal state did not feel the need to have a large professionally trained infantry. The rural areas had a large number of armed peasants and the local zamindars often supplied the Mughals with paidal soldiers.A change occurred in the eighteenth century when Mughal successor states like Awadh and Benaras started recruiting peasants into their armies and training them as professional soldiers. The East India Company adopted the same method when it began recruitment for its own army, which came to be known as the sepoy army (from the Indian word sipahi, meaning soldier). As warfare technology changed from the 1820s, the cavalry requirements of the Company’s army declined. This is because the British empire was fighting in Burma, Afghanistan and Egypt where soldiers were armed with muskets and matchlocks. The soldiers of the Company’s army had to keep pace with changing military requirements and its infantry regiments now became more important. In the early nineteenth century, the British began  to develop a uniform military culture. Soldiers were Here is a passage from Edmund Burke’s eloquent opening speech during the impeachment of Warren Hastings:I impeach him in the name of the people of India, whose rights he has trodden under his foot and whose country he has turned into a desert. Lastly in the name of human nature itself, in the name of both the sexes, in the name of every age, in the name of every rank, I impeach the common enemy and oppressor of all.Source 5“I impeach the common enemy and oppressor of all.”Dharmashastras – Sanskrit texts prescribing social rules and codes of behaviour, composed from c. 500 BCE onwardsSawar – Men on horsesMusket – A heavy gun used by infantry soldiersMatchlock – An early type of gun in which the powder was ignited by a matchchap 1-4.indd   22 4/22/2022   2:49:42 PMRationalised 2023-24FROM TRADE TO TERRITORY         23increasingly subjected to European-style training, drill and discipline that regulated their life far more than before. Often this created problems since caste and community feelings were ignored in building a force of professional soldiers. Could individuals so easily give up their caste and religious feelings? Could they see themselves only as soldiers and not as members of communities? What did the sepoys feel? How did they react to the changes in their lives and their identity – that is, their sense of who they were? The Revolt of 1857 gives us a glimpse into the world of the sepoys. You will read about this revolt in Chapter 5.ConclusionThus the East India Company was transformed from a trading company to a territorial colonial power. The arrival of new steam technology in the early nineteenth century also aided this process. Till then it would take anywhere between six and eight months to travel to India by sea. Steamships reduced the journey time to three weeks enabling more Britishers and their families to come to a far-off country like India. By 1857, the Company came to exercise direct rule over about 63 per cent of the territory and 78 per cent of the population of the Indian subcontinent. Combined with its indirect influence on the remaining territory and population of the country, the East India Company had virtually the whole of India under its control.Fig. 16 – A sawar of Bengal in the service of the Company, painted by an unknown Indian artist, 1780After the battles with the Marathas and the Mysore rulers, the Company realised the importance of strengthening its cavalry force. '"
      ]
     },
     "execution_count": 146,
     "metadata": {},
     "output_type": "execute_result"
    }
   ],
   "source": [
    "chap_2"
   ]
  },
  {
   "cell_type": "code",
   "execution_count": 147,
   "metadata": {},
   "outputs": [
    {
     "data": {
      "text/plain": [
       "'Tribals, Dikus and the  Vision of a Golden Age4In 1895, a man named Birsa was seen roaming the forests and villages of Chottanagpur in Jharkhand. People said he had miraculous powers – he could cure all diseases and multiply grain. Birsa himself declared that God had appointed him to save his people from trouble, free them from the slavery of dikus (outsiders). Soon thousands began following Birsa, believing that he was bhagwan (God) and had come to solve all their problems.Birsa was born in a family of Mundas – a tribal group that lived in Chottanagpur. But his followers included other tribals of the region – Santhals and Oraons. All of them in different ways were unhappy with the changes they were experiencing and the problems they were facing under British rule. Their familiar ways of life seemed to be disappearing, their livelihoods were under threat, and their religion appeared to be  in danger. What problems did Birsa set out to resolve? Who were the outsiders being referred to as dikus, and how did they enslave the people of the region? What was happening to the tribal people under the British? How did their lives change? These are some of the questions you will read about in this chapter.You have read about tribal societies last year. Most tribes had customs and rituals that were very different from those laid down by Brahmans. These societies also did not have the sharp social divisions that were characteristic of caste societies. All those who belonged to the same tribe  thought of themselves as sharing common ties of kinship. However, this did not mean that there were no social and economic differences within tribes.Fig. 1 – Women of the Dongria Kandha tribe in Orissa wade through  the river on the way to the marketchap 1-4.indd   39 4/22/2022   2:50:04 PMRationalised 2023-2440 OUR PASTS – IIIHow did Tribal Groups Live?By the nineteenth century, tribal people in different parts of India were involved in a variety of activities. Some were jhum cultivatorsSome of them practised jhum cultivation, that is, shifting cultivation. This was done on small patches of land, mostly in forests. The cultivators cut the treetops to allow sunlight to reach the ground, and burnt the vegetation on the land to clear it for cultivation. They spread the ash from the firing, which contained potash, to fertilise the soil. They used the axe to cut trees and the hoe to scratch the soil in order to prepare it for cultivation. They broadcast the seeds, that is, scattered the seeds on the field instead of ploughing the land  and sowing the seeds. Once the crop was ready and harvested, they moved to another field. A field that had been cultivated once was left fallow for several years, Shifting cultivators were found in the hilly and forested tracts of north-east and central India. The lives of  these tribal people depended on free movement within forests and on being able to use the land and forests for growing their crops. That is the only way they could practise shifting cultivation.  Some were hunters and gatherersIn many regions, tribal groups lived by hunting animals and gathering forest produce. They saw forests as essential for survival. The Khonds were such a community living in the forests of Orissa. They regularly went out on collective hunts and then divided the meat amongst themselves. They ate fruits and roots collected from the forest and cooked food with the oil they extracted from the seeds of the sal and mahua. They used many forest shrubs and herbs  for medicinal purposes, and sold forest produce in the local markets. The local weavers and leather workers turned to the Khonds when they needed supplies of kusum  and palash  flowers to colour their clothes and leather.Fallow – A field left uncultivated for a while so that the soil recovers fertilitySal – A treeMahua – A flower that is eaten or used to make alcoholFig. 2 – Dongria Kandha women in Orissa take home pandanus leaves from the forest to make plateschap 1-4.indd   40 4/22/2022   2:50:05 PMRationalised 2023-24 TRIBALS, DIKUS AND THE VISION OF A GOLDEN AGE          41From where did these forest people get their supplies of rice and other grains? At times they exchanged goods – getting what they needed in return for their valuable forest produce. At other times, they bought goods with the small amount of earnings they had. Some of them did odd jobs in the villages, carrying loads or building roads, while others laboured in the fields of peasants and farmers. When supplies of forest produce shrank, tribal people had to increasingly wander around in search of work as labourers. But many of them – like the Baigas of central India – were reluctant to do work for others. The Baigas saw themselves as people of the forest, who could only live on the produce of the forest. It was below the dignity of a Baiga to become a labourer. Tribal groups often needed to buy and sell in order to be able to get the goods that were not produced within the locality. This led to their dependence on traders and moneylenders. Traders came around with things for sale, and sold the goods at high prices. Moneylenders gave loans with which the tribals met their cash needs, adding to what they earned. But the interest charged on the loans was usually very high. So for the tribals, market and commerce often meant debt and poverty. They therefore came to see the moneylender and trader as evil outsiders and the cause of their misery. Some herded animalsMany tribal groups lived by herding and rearing animals. They were pastoralists who moved with their herds of cattle or sheep according to the seasons.  When the grass in one place was exhausted, they moved to another area. The Van Gujjars of the Punjab hills and the Labadis of Andhra Pradesh were cattle herders, the Gaddis of Kulu were shepherds, and the Bakarwals of Kashmir reared goats. You will read more about them in your history book next year.Fig. 3 – Location of some tribal groups in Indiachap 1-4.indd   41 4/22/2022   2:50:06 PMRationalised 2023-2442 OUR PASTS – IIIA time to hunt, a time to sow, a time to move to a new fieldHave you ever noticed that people living in different types of societies do not share the same notion of work and time? The lives of the shifting cultivators and hunters in different regions were regulated by a calendar and division of tasks for men and women. Verrier Elwin, a British anthropologist who lived among the Baigas and Khonds of central India for many years in the 1930s and 1940s, gives us a picture of what this calendar and division of tasks was like. He writes:  In Chait women went to clearings to ... cut stalks that were already reaped; men cut large trees and go for their ritual hunt. The hunt began at full moon from the east. Traps of bamboo were used for hunting. The women gathered fruits like sago, tamarind and mushroom. Baiga women can only gather roots or kanda and mahua seeds. Of all the adivasis in  Central India, the Baigas were known as the best hunters … In Baisakh the firing of the forest took place, the women gathered unburnt wood to burn. Men continued to hunt, but nearer their villages. In Jeth sowing took place and hunting still went on. From Asadh to Bhadon the men worked in the fields. In Kuar  the first fruits of beans were ripened and in Kartik kutki became ripe. In Aghan every crop was ready and in Pus winnowing took place. Pus was also the time for dances and marriages. In Magh shifts were made to new bewars  and hunting-gathering was the main subsistence activity. The cycle described above took place in the first year. In the second year there was more time for hunting as only a few crops had to be sown and harvested. But since there was enough food the men lived in the bewars. It was only in the third year that the diet had to be supplemented with the forest products.Adapted from Verrier Elwin, Baiga (1939) and Elwin’s unpublished ‘Notes on the Khonds’ (Verrier Elwin Papers, Nehru Memorial Museum and Library)Source 1Fig. 4 – A Santhal girl carrying firewood, Bihar, 1946Children go with their mothers to the forest to gather forest produce.\\uf086ActivityLook carefully at the tasks that Baiga men and women did. Do you see any pattern? What were the differences in the types of work that they were expected to perform? chap 1-4.indd   42 4/22/2022   2:50:08 PMRationalised 2023-24 TRIBALS, DIKUS AND THE VISION OF A GOLDEN AGE          43Some took to settled cultivationEven before the nineteenth century, many from within the tribal groups had begun settling  down, and cultivating their fields in one place year after year, instead of moving from place to place. They began to use the plough, and gradually got rights over the land they lived on. In many cases, like the Mundas of Chottanagpur, the land belonged to the clan as a whole. All members of the clan were regarded as descendants of the original settlers, who had first cleared the land. Therefore, all of them had rights on the land. Very often some people within the clan acquired more power than others, some became chiefs and others followers. Powerful men often rented out their land instead of cultivating it themselves.British officials saw settled tribal groups like the Gonds and Santhals as more civilised than hunter-gatherers or shifting cultivators. Those who lived in the forests were considered to be wild and savage: they needed to be settled and civilised. How did Colonial Rule Affect Tribal Lives?The lives of tribal groups changed during British rule. Let us see what these changes were.What happened to tribal chiefs?Before the arrival of the British, in many areas the tribal chiefs were important people. They enjoyed a certain amount of economic power and had the right to administer and control their territories. In some places they had their own police and decided on the local rules of land and forest management. Under British rule, the functions and powers of the tribal chiefs changed considerably. They were allowed to keep their land titles over a cluster of villages and rent out lands, but they lost much of their administrative power and were forced to follow laws made by British officials in India. They also had to pay tribute to the British, and discipline the tribal groups on behalf of the British. They lost the authority they had earlier enjoyed amongst their people, and were unable to fulfil their traditional functions.What happened to the shifting cultivators?The British were uncomfortable with groups who moved about and did not have a fixed home. They wanted tribal Bewar – A term used           in Madhya Pradesh for shifting cultivationFig. 5 – A log house being built in a village of the Nyishi tribes of  Arunachal Pradesh.The entire village helps when log huts are built.chap 1-4.indd   43 4/22/2022   2:50:09 PMRationalised 2023-2444 OUR PASTS – IIIgroups to settle down and become peasant cultivators. Settled peasants were easier to control and administer than people who were always on the move. The British also wanted a regular revenue source for the state. So they introduced land  settlements – that is, they measured the land, defined the rights of each individual to that land, and fixed the revenue demand for the state. Some peasants were declared landowners, others tenants. As you have seen (Chapter 2), the tenants were to pay rent to the landowner who in turn paid revenue to the state.The British effort to settle jhum cultivators was not very successful. Settled plough cultivation is not easy in areas where water is scarce and the soil is dry. In fact, jhum cultivators who took to plough cultivation often suffered, since their fields did not produce good yields. So the jhum  cultivators in north-east India insisted on continuing with their traditional practice. Facing widespread protests, the British had to ultimately allow them the right to carry on shifting cultivation in some parts of the forest.Fig. 6 – Bhil women cultivating in a forest in GujaratShifting cultivation continues in many forest areas of Gujarat. You can see that trees have been cut and land cleared to create patches for cultivation.Fig. 7 – Tribal workers in a rice field in Andhra PradeshNote the difference between rice cultivation in the flat plains and in the forests.chap 1-4.indd   44 4/22/2022   2:50:10 PMRationalised 2023-24 TRIBALS, DIKUS AND THE VISION OF A GOLDEN AGE          45Forest laws and their impactThe life of tribal groups, as you have seen, was directly connected to the forest. So changes in forest laws had a considerable effect on tribal lives. The British extended their control over all forests and declared that forests were state property. Some forests were classified as Reserved Forests for they produced timber which the British wanted. In these forests people were not allowed to move freely, practise jhum cultivation, collect fruits, or hunt animals. How were jhum cultivators to survive in such a situation? Many were therefore forced to move to other areas in search of work and livelihood. But once the British stopped the tribal people from living inside forests, they faced a problem. From where would the Forest Department get its labour to cut trees for railway sleepers and to transport logs?Colonial officials came up with a solution. They decided that they would give jhum cultivators small patches of land in the forests and allow them to cultivate these on the condition that those who lived in the villages would have to provide labour to the Forest Department and look after the forests. So in many regions, the Forest Department established forest villages to ensure a regular supply of cheap labour.“In this land of the English how hard it is to live”In the1930s Verrier Elwin visited the land of the Baigas – a tribal group in central India. He wanted to know about them – their customs and practices, their art and folklore. He recorded many songs that lamented the hard time the Baigas were having under British rule.In this land of the English how hard it is to liveHow hard it is to liveIn the village sits the landlordIn the gate sits the KotwarIn the garden sits the Patwari In the field sits the governmentIn this land of the English how hard it is to liveTo pay cattle tax we have to sell cowTo pay forest tax we have to sell buffaloTo pay land tax we have to sell bullockHow are we to get our food?In this land of the EnglishQuoted in Verrier Elwin and Shamrao Hivale,  Songs of the Maikal, p. 316.Source 2Sleeper – The horizontal planks of wood on which railway lines are laidchap 1-4.indd   45 4/22/2022   2:50:10 PMRationalised 2023-2446 OUR PASTS – IIIFig. 8 – Godara women weavingMany tribal groups reacted against the colonial forest laws. They disobeyed the new rules, continued with practices that were declared illegal, and at times rose in open rebellion. Such was the revolt of Songram Sangma in 1906  in Assam, and the forest satyagraha of the 1930s in the Central Provinces.The problem with tradeDuring the nineteenth century, tribal groups found that traders and money-lenders were coming into the forests more often, wanting to buy forest produce, offering cash loans, and asking them to work for wages. It took tribal groups some time to understand the consequences of what was happening.Let us consider the case of the silk growers. In the eighteenth century, Indian silk was in demand in European markets. The fine quality of Indian silk was highly valued and exports from India increased rapidly. As the market expanded, East India Company officials tried to encourage silk production to meet the growing demand. Hazaribagh, in present-day Jharkhand, was an area where the Santhals reared cocoons. The traders dealing in silk sent in their agents who gave loans to the tribal people and collected the cocoons. The growers were paid ` 3 to ` 4 for a thousand cocoons. These were then exported to Burdwan or Gaya where they were sold at five times the price. The middlemen – so called because they arranged deals between the exporters and silk growers – made huge profits. The silk  growers earned very little. Understandably, many tribal groups saw the market and the traders as their main enemies.  Fig. 9 – A Hajang woman weaving a matFor women, domestic work was not confined to the home. They carried their babies with them to the fields and the factories.chap 1-4.indd   46 4/22/2022   2:50:13 PMRationalised 2023-24 TRIBALS, DIKUS AND THE VISION OF A GOLDEN AGE          47The search for workThe plight of the tribals who had to go far away from their homes in search of work was even worse. From the late nineteenth century, tea plantations started coming up and mining became an important industry. Tribals were recruited in large numbers to work at the tea plantations of Assam and the coal mines of Jharkhand. They were recruited through contractors who paid them miserably low wages, and prevented them from returning home.A Closer LookThrough the nineteenth and twentieth centuries, tribal groups in different parts of the country rebelled against the changes in laws, the restrictions on their practices, the new taxes they had to pay, and the exploitation by traders and moneylenders. The Kols rebelled in 1831–32, Santhals rose in revolt in 1855, the Bastar Rebellion in central India broke out in 1910 and the Warli Revolt in Maharashtra in 1940. The movement that Birsa led was one such movement.Fig. 10 – Coal miners of Bihar, 1948In the 1920s, about 50 per cent of the miners in the Jharia and Raniganj coal mines of Bihar were tribals. Work deep down in the dark and suffocating mines was not only back-breaking and dangerous, it was often literally killing. In the 1920s, over 2,000 workers died every year in the coal mines in India.ActivityFind out whether the conditions of work in the mines have changed now. Check how many people die in mines every year, and what are the reasons for their death. \\uf086chap 1-4.indd   47 4/22/2022   2:50:15 PMRationalised 2023-2448 OUR PASTS – IIIBirsa MundaBirsa was born in the mid-1870s. The son of a poor father, he grew up around the forests of Bohonda, grazing sheep, playing the flute, and dancing in the local akhara . Forced by poverty, his father had to move from place to place looking for work. As an adolescent, Birsa heard tales of the Munda uprisings of the past and saw the sirdars  (leaders) of the community urging the people to revolt. They talked of a golden age when the Mundas had been free of the oppression of dikus, and said there would be a time when the ancestral right of the community would be restored. They saw themselves as the descendants of the original settlers of the region, fighting for their land (mulk ki larai), reminding people of the need to win back their kingdom.Birsa went to the local missionary school, and listened to the sermons of missionaries. There too he heard it said that it was possible for the Mundas to attain the Kingdom of Heaven, and regain their lost rights. This would be possible if they became good Christians and gave up their “bad practices”. Later Birsa also spent some time in the company of a prominent Vaishnav preacher. He wore the sacred thread, and began to value the importance of purity and piety.Birsa was deeply influenced by many of the ideas he came in touch with in his growing-up years. His movement was aimed at reforming tribal society. He urged the Mundas to give up drinking liquor, clean their village, and stop believing in witchcraft and sorcery. But we must remember that Birsa also turned against missionaries and Hindu landlords. He saw them as outside forces that were ruining the Munda way of life.In 1895, Birsa urged his followers to recover their glorious past. He talked of  a golden age in the past – a satyug (the age of truth) – when Mundas lived a good life, constructed embankments, tapped natural springs, planted trees and orchards, practised cultivation to earn their living. They did not kill their brethren and relatives. They lived honestly. Birsa also wanted people to once again work on their land, settle down and cultivate their fields. What worried British officials most was the political aim of the Birsa movement, for it wanted to drive out missionaries, moneylenders, Hindu landlords, and the government and set up a Munda Raj with Birsa at its head. The movement identified all these forces as the cause of the misery the Mundas were suffering.  Vaishnav – Worshippers of Vishnu‘Blood trickles from my shoulders’The songs the Mundas sang bemoaned their misery. Alas! under [the drudgery of] forced labourBlood trickles from my shouldersDay and night the emissary from the zamindars,Annoys and irritates me, day and night I groanAlas! This is my conditionI do not have a home, where shall I get happinessAlas!K.S. Singh, Birsa Munda and His Movement, p.12.Source 3chap 1-4.indd   48 4/22/2022   2:50:17 PMRationalised 2023-24 TRIBALS, DIKUS AND THE VISION OF A GOLDEN AGE          49The land policies of the British were destroying their traditional land system, Hindu landlords and moneylenders were taking over their land, and missionaries were criticising their traditional culture.As the movement spread the British officials decided to act. They arrested Birsa in 1895, convicted him on charges of rioting and jailed him for two years. When Birsa was released in 1897, he began touring the villages to gather support. He used traditional symbols and language to rouse people, urging them to destroy “Ravana” (dikus and the Europeans) and establish a kingdom under his leadership. Birsa’s followers began targeting the symbols of diku and European power. They attacked police stations and churches, and raided the property of moneylenders and zamindars. They raised the white flag as a symbol of Birsa Raj.  In 1900, Birsa died of cholera and the movement faded out. However, the movement was significant in at least two ways. First – it forced the colonial government to introduce laws so that the land of the tribals could not be easily taken over by dikus. Second – it showed once again that the tribal people had the capacity to protest against injustice and express their anger against colonial rule. They did this in their own specific way, inventing their own rituals and symbols of struggle.Let’s recall1. Fill in the blanks:(a) The British described the tribal people as ____________.(b) The method of sowing seeds in jhum cultivation is known as ____________.(c) The tribal chiefs got _________ titles in central India under the British land settlements.(d) Tribals went to work in the __________ of Assam and the ____________ in Bihar.  chap 1-4.indd   49 4/22/2022   2:50:17 PMRationalised 2023-2450 OUR PASTS – III2. State whether true or false:(a) Jhum cultivators plough the land and sow seeds.(b) Cocoons were bought from the Santhals and  sold by the traders at five times the purchase price.(c) Birsa urged his followers to purify themselves, give up drinking liquor and stop believing in witchcraft and sorcery.(d) The British wanted to preserve the tribal way of life.Let’s discuss3. What problems did  shifting cultivators face under British rule?4. How did the powers of tribal chiefs change under  colonial rule?5. What accounts for the anger of the tribals against  the dikus?6.  What was Birsa’s vision of a golden age? Why do  you think such a vision appealed to the people of the region?Let’s do7. Find out from your parents, friends or teachers, the names of some heroes of other tribal revolts in the twentieth century. Write their story in your  own words.8. Choose any tribal group living in India today. Find out about their customs and way of life, and how their lives have changed in the last 50 years.Let’s imagineImagine you are a jhum cultivator living in a forest village in the nineteenth century. You have just been told that the land you were born on no longer belongs to you. In a meeting with British officials you try to explain the kinds of problems you face. What would you say? chap 1-4.indd   50 4/22/2022   2:50:18 PMRationalised 2023-24'"
      ]
     },
     "execution_count": 147,
     "metadata": {},
     "output_type": "execute_result"
    }
   ],
   "source": [
    "chap_4 = pdf_to_txt('Dataset/chapter-4.pdf')\n",
    "chap_4"
   ]
  },
  {
   "cell_type": "code",
   "execution_count": 148,
   "metadata": {},
   "outputs": [
    {
     "data": {
      "text/plain": [
       "31897"
      ]
     },
     "execution_count": 148,
     "metadata": {},
     "output_type": "execute_result"
    }
   ],
   "source": [
    "len(chap_2)"
   ]
  },
  {
   "cell_type": "code",
   "execution_count": 7,
   "metadata": {},
   "outputs": [],
   "source": [
    "undesired1 = 'chap 1-4.indd   23 4/22/2022   2:49:43 PMRationalised 2023-2424 OUR PASTS – IIILet’s recall1. Match the following:Diwani Tipu Sultan“Tiger of Mysore” right to collect land revenue faujdari adalat  Sepoy  Rani Channamma criminal courtsipahi  led an anti-British  movement in Kitoor 2. Fill in the blanks:(a) The British conquest of Bengal began with the Battle of ___________.(b) Haidar Ali and Tipu Sultan were the rulers of  ___________.(c) Dalhousie implemented the Doctrine of  ___________. (d) Maratha kingdoms were located mainly in the  ___________ part of India.3. State whether true or false:(a) The Mughal empire became stronger in the eighteenth century.(b) The English East India Company was the only European company that traded with India.(c) Maharaja Ranjit Singh was the ruler of Punjab.(d) The British did not introduce administrative  changes in the territories they conquered. Let’s imagineYou are living in England in the late eighteenth or early nineteenth century. How would you have reacted to the stories of British conquests? Remember that you would have read about the immense fortunes that many of the officials were making.Let’s discuss4. What attracted European trading companies to India?5. What were the areas of conflict between the Bengal nawabs and the East India Company?chap 1-4.indd   24 4/22/2022   2:49:46 PMRationalised 2023-24FROM TRADE TO TERRITORY         256. How did the assumption of Diwani benefit the East India Company?7. Explain the system of “subsidiary alliance”.8. In what way was the administration of the Company different from that of Indian rulers?9. Describe the changes that occurred in the  composition of the Company’s army.Let’s do10. After the British conquest of Bengal, Calcutta grew from small village to a big city. Find out about the culture, architecture and the life of Europeans and Indians of the city during the colonial period.11. Collect pictures, stories, poems and information about any of the following – the Rani of Jhansi, Mahadji Sindhia, Haidar Ali, Maharaja Ranjit Singh, Lord Dalhousie or any other contemporary ruler of your region.chap 1-4.indd   25 4/22/2022   2:49:46 PMRationalised 2023-24'\n",
    "chap_2 = chap_2.replace(undesired1,'')\n",
    "chap_2 = chap_2.replace('FROM TRADE TO TERRITORY','')\n",
    "undesired2 = 'From Trade to Territory                   The Company Establishes Power2'\n",
    "chap_2 = chap_2.replace(undesired2,'')\n",
    "chap_2 = chap_2.replace('OUR PASTS – III','')\n",
    "chap_2 = chap_2.replace('PMRationalised 2023-24','')"
   ]
  },
  {
   "cell_type": "code",
   "execution_count": 8,
   "metadata": {},
   "outputs": [
    {
     "data": {
      "text/plain": [
       "31251"
      ]
     },
     "execution_count": 8,
     "metadata": {},
     "output_type": "execute_result"
    }
   ],
   "source": [
    "len(chap_2)"
   ]
  },
  {
   "cell_type": "code",
   "execution_count": 151,
   "metadata": {},
   "outputs": [
    {
     "data": {
      "text/plain": [
       "26318"
      ]
     },
     "execution_count": 151,
     "metadata": {},
     "output_type": "execute_result"
    }
   ],
   "source": [
    "len(chap_3)"
   ]
  },
  {
   "cell_type": "code",
   "execution_count": 152,
   "metadata": {},
   "outputs": [],
   "source": [
    "undesired1 = 'I would rather beg than sow indigo”Hadji Mulla, an indigo cultivator of Chandpore, Thana Hardi, was interviewed by the members of the Indigo Commission on Tuesday, 5 June 1860. This is what he said in answer to some of the questions:W. S. Seton Karr, President of the Indigo Commission: Are you now willing to sow indigo; and if not on what fresh terms would you be willing to do it?Hadji Mulla: I am not willing to sow, and I don’t know that any fresh terms would satisfy me.Mr Sale: Would you not be willing to sow at a rupee a bundle?Hadji Mulla: No I would not; rather than sow indigo I will go to another country; I would rather beg than sow indigo. Indigo Commission Report, Vol. II, Minutes of Evidence, p. 67 Source 3Activity\\uf086Imagine you are a witness giving evidence before the Indigo Commission. W.S. Seton  Karr asks you “On what condition will ryots grow indigo?” What will your answer be? chap 1-4.indd   36 4/22/2022   2:50:00 PMRationalised 2023-24 RULING THE COUNTRYSIDE          37Let’s recall1. Match the following:ryot  villagemahal peasantnij  cultivation on ryot’s landsryoti  cultivation on planter’s own land2. Fill in the blanks:(a) Growers of woad in Europe saw __________ as a crop which would provide competition to their earnings. (b) The demand for indigo increased in late eighteenth-century Britain because of __________.(c) The international demand for indigo was affected by the discovery of __________.(d) The Champaran movement was against __________.Let’s discuss3. Describe the main features of the Permanent Settlement. 4. How was the mahalwari system different from the Permanent Settlement?'\n",
    "chap_3 = chap_3.replace(undesired1,'')\n",
    "undesired2 = 'chap 1-4.indd   37 4/22/2022   2:50:01 PMRationalised 2023-2438 OUR PASTS – IIILet’s imagineImagine a conversation between a planter and a peasant who is being forced to grow indigo. What reasons would the planter give to persuade the peasant? What problems would the peasant point out? Enact their conversation.5. Give two problems which arose with the new Munro system of fixing revenue.6. Why were ryots reluctant to grow indigo?7. What were the circumstances which led to the eventual collapse of indigo production in Bengal? Let’s do8. Find out more about the Champaran movement and  Mahatma Gandhi’s role in it. 9. Look into the history of either tea or coffee plantations in India. See how the life of workers in  these plantations was similar to or different from that of workers in indigo plantations.chap 1-4.indd   38 4/22/2022   2:50:03 PMRationalised 2023-24'\n",
    "chap_3 = chap_3.replace(undesired2,'')\n",
    "chap_3 = chap_3.replace('RULING THE COUNTRYSIDE','')\n",
    "undesired3 = 'Ruling the Countryside                   3chap 1-4.indd   26 4/22/2022   2:49:47 PMRationalised 2023-24 RULING THE COUNTRYSIDE          27'\n",
    "chap_3 = chap_3.replace(undesired3,'')\n",
    "chap_3 = chap_3.replace('OUR PASTS – III','')\n",
    "chap_3 = chap_3.replace('PMRationalised 2023-24','')"
   ]
  },
  {
   "cell_type": "code",
   "execution_count": 153,
   "metadata": {},
   "outputs": [
    {
     "data": {
      "text/plain": [
       "23412"
      ]
     },
     "execution_count": 153,
     "metadata": {},
     "output_type": "execute_result"
    }
   ],
   "source": [
    "len(chap_3)"
   ]
  },
  {
   "cell_type": "code",
   "execution_count": 155,
   "metadata": {},
   "outputs": [
    {
     "data": {
      "text/plain": [
       "24046"
      ]
     },
     "execution_count": 155,
     "metadata": {},
     "output_type": "execute_result"
    }
   ],
   "source": [
    "len(chap_4)"
   ]
  },
  {
   "cell_type": "code",
   "execution_count": 156,
   "metadata": {},
   "outputs": [],
   "source": [
    "undesired1 = 'Let’s recall1. Fill in the blanks:(a) The British described the tribal people as ____________.(b) The method of sowing seeds in jhum cultivation is known as ____________.(c) The tribal chiefs got _________ titles in central India under the British land settlements.(d) Tribals went to work in the __________ of Assam and the ____________ in Bihar.  chap 1-4.indd   49 4/22/2022   2:50:17 PMRationalised 2023-2450 OUR PASTS – III2. State whether true or false:(a) Jhum cultivators plough the land and sow seeds.(b) Cocoons were bought from the Santhals and  sold by the traders at five times the purchase price.(c) Birsa urged his followers to purify themselves, give up drinking liquor and stop believing in witchcraft and sorcery.(d) The British wanted to preserve the tribal way of life.Let’s discuss3. What problems did  shifting cultivators face under British rule?4. How did the powers of tribal chiefs change under  colonial rule?5. What accounts for the anger of the tribals against  the dikus?6.  What was Birsa’s vision of a golden age? Why do  you think such a vision appealed to the people of the region?Let’s do7. Find out from your parents, friends or teachers, the names of some heroes of other tribal revolts in the twentieth century. Write their story in your  own words.8. Choose any tribal group living in India today. Find out about their customs and way of life, and how their lives have changed in the last 50 years.Let’s imagineImagine you are a jhum cultivator living in a forest village in the nineteenth century. You have just been told that the land you were born on no longer belongs to you. In a meeting with British officials you try to explain the kinds of problems you face. What would you say? chap 1-4.indd   50 4/22/2022   2:50:18 PMRationalised 2023-24'\n",
    "chap_4 = chap_4.replace(undesired1,'')\n",
    "chap_4 = chap_4.replace('TRIBALS, DIKUS AND THE VISION OF A GOLDEN AGE','')\n",
    "undesired2 = 'Tribals, Dikus and the  Vision of a Golden Age4'\n",
    "chap_4 = chap_4.replace(undesired2,'')\n",
    "chap_4 = chap_4.replace('OUR PASTS – III','')\n",
    "chap_4 = chap_4.replace('PMRationalised 2023-24','')"
   ]
  },
  {
   "cell_type": "code",
   "execution_count": 157,
   "metadata": {},
   "outputs": [
    {
     "data": {
      "text/plain": [
       "21692"
      ]
     },
     "execution_count": 157,
     "metadata": {},
     "output_type": "execute_result"
    }
   ],
   "source": [
    "len(chap_4)"
   ]
  },
  {
   "cell_type": "code",
   "execution_count": 9,
   "metadata": {},
   "outputs": [],
   "source": [
    "def keywords(text, sum_text):\n",
    "   key=[]\n",
    "   extractor = pke.unsupervised.MultipartiteRank()\n",
    "   extractor.load_document(text,language='en')\n",
    "   extractor.candidate_selection(pos={PROPN})\n",
    "   extractor.candidate_weighting(alpha=1.1,threshold=0.75,method='average')\n",
    "   phrases = extractor.get_n_best(n=20)\n",
    "   for k in phrases:\n",
    "      key.append(k[0])\n",
    "   \n",
    "   keys=[]\n",
    "   for k in key:\n",
    "      if k.lower() in sum_text.lower():\n",
    "         keys.append(k)\n",
    "   return keys"
   ]
  },
  {
   "cell_type": "code",
   "execution_count": 164,
   "metadata": {},
   "outputs": [],
   "source": [
    "import torch"
   ]
  },
  {
   "cell_type": "code",
   "execution_count": 8,
   "metadata": {},
   "outputs": [],
   "source": [
    "def summarize(text):\n",
    "   # device = torch.device('cuda' if torch.cuda.is_available() else 'cpu')\n",
    "   model = Summarizer()\n",
    "   summary = model(text,max_length=500,min_length=50,ratio=0.4)\n",
    "   summary = ''.join(summary)\n",
    "   return summary"
   ]
  },
  {
   "cell_type": "code",
   "execution_count": 10,
   "metadata": {},
   "outputs": [
    {
     "ename": "NameError",
     "evalue": "name 'summary' is not defined",
     "output_type": "error",
     "traceback": [
      "\u001b[1;31m---------------------------------------------------------------------------\u001b[0m",
      "\u001b[1;31mNameError\u001b[0m                                 Traceback (most recent call last)",
      "\u001b[1;32mc:\\Users\\Krishna Chaitanya N\\OneDrive\\Documents\\Acads\\Akaike Intern\\internship-assignment-nlp-main\\trail.ipynb Cell 68\u001b[0m in \u001b[0;36m<cell line: 1>\u001b[1;34m()\u001b[0m\n\u001b[1;32m----> <a href='vscode-notebook-cell:/c%3A/Users/Krishna%20Chaitanya%20N/OneDrive/Documents/Acads/Akaike%20Intern/internship-assignment-nlp-main/trail.ipynb#Y166sZmlsZQ%3D%3D?line=0'>1</a>\u001b[0m summary\n",
      "\u001b[1;31mNameError\u001b[0m: name 'summary' is not defined"
     ]
    }
   ],
   "source": [
    "summary"
   ]
  },
  {
   "cell_type": "code",
   "execution_count": 13,
   "metadata": {},
   "outputs": [
    {
     "data": {
      "text/plain": [
       "0.3168858596524911"
      ]
     },
     "execution_count": 13,
     "metadata": {},
     "output_type": "execute_result"
    }
   ],
   "source": [
    "len(summary)/len(chap_2)"
   ]
  },
  {
   "cell_type": "code",
   "execution_count": 17,
   "metadata": {},
   "outputs": [
    {
     "ename": "NameError",
     "evalue": "name 'PROPN' is not defined",
     "output_type": "error",
     "traceback": [
      "\u001b[1;31m---------------------------------------------------------------------------\u001b[0m",
      "\u001b[1;31mNameError\u001b[0m                                 Traceback (most recent call last)",
      "\u001b[1;32mc:\\Users\\Krishna Chaitanya N\\OneDrive\\Documents\\Acads\\Akaike Intern\\internship-assignment-nlp-main\\trail.ipynb Cell 71\u001b[0m in \u001b[0;36m<cell line: 1>\u001b[1;34m()\u001b[0m\n\u001b[1;32m----> <a href='vscode-notebook-cell:/c%3A/Users/Krishna%20Chaitanya%20N/OneDrive/Documents/Acads/Akaike%20Intern/internship-assignment-nlp-main/trail.ipynb#Y201sZmlsZQ%3D%3D?line=0'>1</a>\u001b[0m keys \u001b[39m=\u001b[39m keywords(chap_2,summary)\n",
      "\u001b[1;32mc:\\Users\\Krishna Chaitanya N\\OneDrive\\Documents\\Acads\\Akaike Intern\\internship-assignment-nlp-main\\trail.ipynb Cell 71\u001b[0m in \u001b[0;36mkeywords\u001b[1;34m(text, sum_text)\u001b[0m\n\u001b[0;32m      <a href='vscode-notebook-cell:/c%3A/Users/Krishna%20Chaitanya%20N/OneDrive/Documents/Acads/Akaike%20Intern/internship-assignment-nlp-main/trail.ipynb#Y201sZmlsZQ%3D%3D?line=2'>3</a>\u001b[0m extractor \u001b[39m=\u001b[39m pke\u001b[39m.\u001b[39munsupervised\u001b[39m.\u001b[39mMultipartiteRank()\n\u001b[0;32m      <a href='vscode-notebook-cell:/c%3A/Users/Krishna%20Chaitanya%20N/OneDrive/Documents/Acads/Akaike%20Intern/internship-assignment-nlp-main/trail.ipynb#Y201sZmlsZQ%3D%3D?line=3'>4</a>\u001b[0m extractor\u001b[39m.\u001b[39mload_document(text,language\u001b[39m=\u001b[39m\u001b[39m'\u001b[39m\u001b[39men\u001b[39m\u001b[39m'\u001b[39m)\n\u001b[1;32m----> <a href='vscode-notebook-cell:/c%3A/Users/Krishna%20Chaitanya%20N/OneDrive/Documents/Acads/Akaike%20Intern/internship-assignment-nlp-main/trail.ipynb#Y201sZmlsZQ%3D%3D?line=4'>5</a>\u001b[0m extractor\u001b[39m.\u001b[39mcandidate_selection(pos\u001b[39m=\u001b[39m{PROPN})\n\u001b[0;32m      <a href='vscode-notebook-cell:/c%3A/Users/Krishna%20Chaitanya%20N/OneDrive/Documents/Acads/Akaike%20Intern/internship-assignment-nlp-main/trail.ipynb#Y201sZmlsZQ%3D%3D?line=5'>6</a>\u001b[0m extractor\u001b[39m.\u001b[39mcandidate_weighting(alpha\u001b[39m=\u001b[39m\u001b[39m1.1\u001b[39m,threshold\u001b[39m=\u001b[39m\u001b[39m0.75\u001b[39m,method\u001b[39m=\u001b[39m\u001b[39m'\u001b[39m\u001b[39maverage\u001b[39m\u001b[39m'\u001b[39m)\n\u001b[0;32m      <a href='vscode-notebook-cell:/c%3A/Users/Krishna%20Chaitanya%20N/OneDrive/Documents/Acads/Akaike%20Intern/internship-assignment-nlp-main/trail.ipynb#Y201sZmlsZQ%3D%3D?line=6'>7</a>\u001b[0m phrases \u001b[39m=\u001b[39m extractor\u001b[39m.\u001b[39mget_n_best(n\u001b[39m=\u001b[39m\u001b[39m20\u001b[39m)\n",
      "\u001b[1;31mNameError\u001b[0m: name 'PROPN' is not defined"
     ]
    }
   ],
   "source": [
    "keys = keywords(chap_2,summary)"
   ]
  },
  {
   "cell_type": "code",
   "execution_count": null,
   "metadata": {},
   "outputs": [],
   "source": []
  }
 ],
 "metadata": {
  "kernelspec": {
   "display_name": "Python 3",
   "language": "python",
   "name": "python3"
  },
  "language_info": {
   "codemirror_mode": {
    "name": "ipython",
    "version": 3
   },
   "file_extension": ".py",
   "mimetype": "text/x-python",
   "name": "python",
   "nbconvert_exporter": "python",
   "pygments_lexer": "ipython3",
   "version": "3.10.5"
  },
  "orig_nbformat": 4
 },
 "nbformat": 4,
 "nbformat_minor": 2
}
