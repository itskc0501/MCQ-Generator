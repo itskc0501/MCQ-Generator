{
 "cells": [
  {
   "attachments": {},
   "cell_type": "markdown",
   "metadata": {},
   "source": [
    "Import all the necessary libraries."
   ]
  },
  {
   "cell_type": "code",
   "execution_count": 1,
   "metadata": {},
   "outputs": [],
   "source": [
    "import numpy as np\n",
    "import pandas as pd\n",
    "import matplotlib.pyplot as plt"
   ]
  },
  {
   "cell_type": "code",
   "execution_count": 2,
   "metadata": {},
   "outputs": [
    {
     "data": {
      "text/html": [
       "<div>\n",
       "<style scoped>\n",
       "    .dataframe tbody tr th:only-of-type {\n",
       "        vertical-align: middle;\n",
       "    }\n",
       "\n",
       "    .dataframe tbody tr th {\n",
       "        vertical-align: top;\n",
       "    }\n",
       "\n",
       "    .dataframe thead th {\n",
       "        text-align: right;\n",
       "    }\n",
       "</style>\n",
       "<table border=\"1\" class=\"dataframe\">\n",
       "  <thead>\n",
       "    <tr style=\"text-align: right;\">\n",
       "      <th></th>\n",
       "      <th>Patient-Uid</th>\n",
       "      <th>Date</th>\n",
       "      <th>Incident</th>\n",
       "    </tr>\n",
       "  </thead>\n",
       "  <tbody>\n",
       "    <tr>\n",
       "      <th>0</th>\n",
       "      <td>a0db1e73-1c7c-11ec-ae39-16262ee38c7f</td>\n",
       "      <td>2019-03-09</td>\n",
       "      <td>PRIMARY_DIAGNOSIS</td>\n",
       "    </tr>\n",
       "    <tr>\n",
       "      <th>1</th>\n",
       "      <td>a0dc93f2-1c7c-11ec-9cd2-16262ee38c7f</td>\n",
       "      <td>2015-05-16</td>\n",
       "      <td>PRIMARY_DIAGNOSIS</td>\n",
       "    </tr>\n",
       "    <tr>\n",
       "      <th>3</th>\n",
       "      <td>a0dc94c6-1c7c-11ec-a3a0-16262ee38c7f</td>\n",
       "      <td>2018-01-30</td>\n",
       "      <td>SYMPTOM_TYPE_0</td>\n",
       "    </tr>\n",
       "    <tr>\n",
       "      <th>4</th>\n",
       "      <td>a0dc950b-1c7c-11ec-b6ec-16262ee38c7f</td>\n",
       "      <td>2015-04-22</td>\n",
       "      <td>DRUG_TYPE_0</td>\n",
       "    </tr>\n",
       "    <tr>\n",
       "      <th>8</th>\n",
       "      <td>a0dc9543-1c7c-11ec-bb63-16262ee38c7f</td>\n",
       "      <td>2016-06-18</td>\n",
       "      <td>DRUG_TYPE_1</td>\n",
       "    </tr>\n",
       "    <tr>\n",
       "      <th>...</th>\n",
       "      <td>...</td>\n",
       "      <td>...</td>\n",
       "      <td>...</td>\n",
       "    </tr>\n",
       "    <tr>\n",
       "      <th>29080886</th>\n",
       "      <td>a0ee9f75-1c7c-11ec-94c7-16262ee38c7f</td>\n",
       "      <td>2018-07-06</td>\n",
       "      <td>DRUG_TYPE_6</td>\n",
       "    </tr>\n",
       "    <tr>\n",
       "      <th>29080897</th>\n",
       "      <td>a0ee1284-1c7c-11ec-a3d5-16262ee38c7f</td>\n",
       "      <td>2017-12-29</td>\n",
       "      <td>DRUG_TYPE_6</td>\n",
       "    </tr>\n",
       "    <tr>\n",
       "      <th>29080900</th>\n",
       "      <td>a0ee9b26-1c7c-11ec-8a40-16262ee38c7f</td>\n",
       "      <td>2018-10-18</td>\n",
       "      <td>DRUG_TYPE_10</td>\n",
       "    </tr>\n",
       "    <tr>\n",
       "      <th>29080903</th>\n",
       "      <td>a0ee1a92-1c7c-11ec-8341-16262ee38c7f</td>\n",
       "      <td>2015-09-18</td>\n",
       "      <td>DRUG_TYPE_6</td>\n",
       "    </tr>\n",
       "    <tr>\n",
       "      <th>29080911</th>\n",
       "      <td>a0ee146e-1c7c-11ec-baee-16262ee38c7f</td>\n",
       "      <td>2018-10-05</td>\n",
       "      <td>DRUG_TYPE_1</td>\n",
       "    </tr>\n",
       "  </tbody>\n",
       "</table>\n",
       "<p>3220868 rows × 3 columns</p>\n",
       "</div>"
      ],
      "text/plain": [
       "                                   Patient-Uid       Date           Incident\n",
       "0         a0db1e73-1c7c-11ec-ae39-16262ee38c7f 2019-03-09  PRIMARY_DIAGNOSIS\n",
       "1         a0dc93f2-1c7c-11ec-9cd2-16262ee38c7f 2015-05-16  PRIMARY_DIAGNOSIS\n",
       "3         a0dc94c6-1c7c-11ec-a3a0-16262ee38c7f 2018-01-30     SYMPTOM_TYPE_0\n",
       "4         a0dc950b-1c7c-11ec-b6ec-16262ee38c7f 2015-04-22        DRUG_TYPE_0\n",
       "8         a0dc9543-1c7c-11ec-bb63-16262ee38c7f 2016-06-18        DRUG_TYPE_1\n",
       "...                                        ...        ...                ...\n",
       "29080886  a0ee9f75-1c7c-11ec-94c7-16262ee38c7f 2018-07-06        DRUG_TYPE_6\n",
       "29080897  a0ee1284-1c7c-11ec-a3d5-16262ee38c7f 2017-12-29        DRUG_TYPE_6\n",
       "29080900  a0ee9b26-1c7c-11ec-8a40-16262ee38c7f 2018-10-18       DRUG_TYPE_10\n",
       "29080903  a0ee1a92-1c7c-11ec-8341-16262ee38c7f 2015-09-18        DRUG_TYPE_6\n",
       "29080911  a0ee146e-1c7c-11ec-baee-16262ee38c7f 2018-10-05        DRUG_TYPE_1\n",
       "\n",
       "[3220868 rows x 3 columns]"
      ]
     },
     "execution_count": 2,
     "metadata": {},
     "output_type": "execute_result"
    }
   ],
   "source": [
    "#Read the Data in 'train.parquet'\n",
    "df = pd.read_parquet('train.parquet',engine='pyarrow')\n",
    "df"
   ]
  },
  {
   "cell_type": "code",
   "execution_count": 3,
   "metadata": {},
   "outputs": [
    {
     "name": "stderr",
     "output_type": "stream",
     "text": [
      "C:\\Users\\Krishna Chaitanya N\\AppData\\Local\\Temp\\ipykernel_23528\\3680550398.py:3: SettingWithCopyWarning: \n",
      "A value is trying to be set on a copy of a slice from a DataFrame.\n",
      "Try using .loc[row_indexer,col_indexer] = value instead\n",
      "\n",
      "See the caveats in the documentation: https://pandas.pydata.org/pandas-docs/stable/user_guide/indexing.html#returning-a-view-versus-a-copy\n",
      "  df['Date'] = pd.to_datetime(df['Date']) #Convert string to panda datetime.\n"
     ]
    },
    {
     "data": {
      "text/html": [
       "<div>\n",
       "<style scoped>\n",
       "    .dataframe tbody tr th:only-of-type {\n",
       "        vertical-align: middle;\n",
       "    }\n",
       "\n",
       "    .dataframe tbody tr th {\n",
       "        vertical-align: top;\n",
       "    }\n",
       "\n",
       "    .dataframe thead th {\n",
       "        text-align: right;\n",
       "    }\n",
       "</style>\n",
       "<table border=\"1\" class=\"dataframe\">\n",
       "  <thead>\n",
       "    <tr style=\"text-align: right;\">\n",
       "      <th></th>\n",
       "      <th>Patient-Uid</th>\n",
       "      <th>Date</th>\n",
       "      <th>Incident</th>\n",
       "    </tr>\n",
       "  </thead>\n",
       "  <tbody>\n",
       "    <tr>\n",
       "      <th>0</th>\n",
       "      <td>a0e9c384-1c7c-11ec-81a0-16262ee38c7f</td>\n",
       "      <td>2020-07-08</td>\n",
       "      <td>TARGET DRUG</td>\n",
       "    </tr>\n",
       "    <tr>\n",
       "      <th>1</th>\n",
       "      <td>a0e9c384-1c7c-11ec-81a0-16262ee38c7f</td>\n",
       "      <td>2020-08-05</td>\n",
       "      <td>TARGET DRUG</td>\n",
       "    </tr>\n",
       "    <tr>\n",
       "      <th>2</th>\n",
       "      <td>a0e9c384-1c7c-11ec-81a0-16262ee38c7f</td>\n",
       "      <td>2020-09-02</td>\n",
       "      <td>TARGET DRUG</td>\n",
       "    </tr>\n",
       "    <tr>\n",
       "      <th>3</th>\n",
       "      <td>a0e9c3b3-1c7c-11ec-ae8e-16262ee38c7f</td>\n",
       "      <td>2018-04-24</td>\n",
       "      <td>TARGET DRUG</td>\n",
       "    </tr>\n",
       "    <tr>\n",
       "      <th>4</th>\n",
       "      <td>a0e9c3b3-1c7c-11ec-ae8e-16262ee38c7f</td>\n",
       "      <td>2018-05-17</td>\n",
       "      <td>TARGET DRUG</td>\n",
       "    </tr>\n",
       "    <tr>\n",
       "      <th>...</th>\n",
       "      <td>...</td>\n",
       "      <td>...</td>\n",
       "      <td>...</td>\n",
       "    </tr>\n",
       "    <tr>\n",
       "      <th>67213</th>\n",
       "      <td>a0f0d523-1c7c-11ec-89d2-16262ee38c7f</td>\n",
       "      <td>2020-08-11</td>\n",
       "      <td>TARGET DRUG</td>\n",
       "    </tr>\n",
       "    <tr>\n",
       "      <th>67214</th>\n",
       "      <td>a0f0d553-1c7c-11ec-a70a-16262ee38c7f</td>\n",
       "      <td>2020-07-21</td>\n",
       "      <td>TARGET DRUG</td>\n",
       "    </tr>\n",
       "    <tr>\n",
       "      <th>67215</th>\n",
       "      <td>a0f0d582-1c7c-11ec-a6c1-16262ee38c7f</td>\n",
       "      <td>2020-06-18</td>\n",
       "      <td>TARGET DRUG</td>\n",
       "    </tr>\n",
       "    <tr>\n",
       "      <th>67216</th>\n",
       "      <td>a0f0d582-1c7c-11ec-a6c1-16262ee38c7f</td>\n",
       "      <td>2020-07-09</td>\n",
       "      <td>TARGET DRUG</td>\n",
       "    </tr>\n",
       "    <tr>\n",
       "      <th>67217</th>\n",
       "      <td>a0f0d582-1c7c-11ec-a6c1-16262ee38c7f</td>\n",
       "      <td>2020-08-05</td>\n",
       "      <td>TARGET DRUG</td>\n",
       "    </tr>\n",
       "  </tbody>\n",
       "</table>\n",
       "<p>67218 rows × 3 columns</p>\n",
       "</div>"
      ],
      "text/plain": [
       "                                Patient-Uid       Date     Incident\n",
       "0      a0e9c384-1c7c-11ec-81a0-16262ee38c7f 2020-07-08  TARGET DRUG\n",
       "1      a0e9c384-1c7c-11ec-81a0-16262ee38c7f 2020-08-05  TARGET DRUG\n",
       "2      a0e9c384-1c7c-11ec-81a0-16262ee38c7f 2020-09-02  TARGET DRUG\n",
       "3      a0e9c3b3-1c7c-11ec-ae8e-16262ee38c7f 2018-04-24  TARGET DRUG\n",
       "4      a0e9c3b3-1c7c-11ec-ae8e-16262ee38c7f 2018-05-17  TARGET DRUG\n",
       "...                                     ...        ...          ...\n",
       "67213  a0f0d523-1c7c-11ec-89d2-16262ee38c7f 2020-08-11  TARGET DRUG\n",
       "67214  a0f0d553-1c7c-11ec-a70a-16262ee38c7f 2020-07-21  TARGET DRUG\n",
       "67215  a0f0d582-1c7c-11ec-a6c1-16262ee38c7f 2020-06-18  TARGET DRUG\n",
       "67216  a0f0d582-1c7c-11ec-a6c1-16262ee38c7f 2020-07-09  TARGET DRUG\n",
       "67217  a0f0d582-1c7c-11ec-a6c1-16262ee38c7f 2020-08-05  TARGET DRUG\n",
       "\n",
       "[67218 rows x 3 columns]"
      ]
     },
     "execution_count": 3,
     "metadata": {},
     "output_type": "execute_result"
    }
   ],
   "source": [
    "#Since we are concerned only with the patterns shown by 'TARGET DRUG', we shall only consider such entries.\n",
    "df = df[df['Incident']=='TARGET DRUG']\n",
    "df['Date'] = pd.to_datetime(df['Date']) #Convert string to panda datetime.\n",
    "df = df.sort_values(['Patient-Uid','Date']) #Sort data\n",
    "df = df.reset_index(drop=True)\n",
    "df"
   ]
  },
  {
   "cell_type": "code",
   "execution_count": 4,
   "metadata": {},
   "outputs": [
    {
     "data": {
      "text/html": [
       "<div>\n",
       "<style scoped>\n",
       "    .dataframe tbody tr th:only-of-type {\n",
       "        vertical-align: middle;\n",
       "    }\n",
       "\n",
       "    .dataframe tbody tr th {\n",
       "        vertical-align: top;\n",
       "    }\n",
       "\n",
       "    .dataframe thead th {\n",
       "        text-align: right;\n",
       "    }\n",
       "</style>\n",
       "<table border=\"1\" class=\"dataframe\">\n",
       "  <thead>\n",
       "    <tr style=\"text-align: right;\">\n",
       "      <th></th>\n",
       "      <th>Patient-Uid</th>\n",
       "      <th>Date</th>\n",
       "      <th>Incident</th>\n",
       "      <th>Month</th>\n",
       "    </tr>\n",
       "  </thead>\n",
       "  <tbody>\n",
       "    <tr>\n",
       "      <th>0</th>\n",
       "      <td>a0e9c384-1c7c-11ec-81a0-16262ee38c7f</td>\n",
       "      <td>2020-07-08</td>\n",
       "      <td>TARGET DRUG</td>\n",
       "      <td>2020-07</td>\n",
       "    </tr>\n",
       "    <tr>\n",
       "      <th>1</th>\n",
       "      <td>a0e9c384-1c7c-11ec-81a0-16262ee38c7f</td>\n",
       "      <td>2020-08-05</td>\n",
       "      <td>TARGET DRUG</td>\n",
       "      <td>2020-08</td>\n",
       "    </tr>\n",
       "    <tr>\n",
       "      <th>2</th>\n",
       "      <td>a0e9c384-1c7c-11ec-81a0-16262ee38c7f</td>\n",
       "      <td>2020-09-02</td>\n",
       "      <td>TARGET DRUG</td>\n",
       "      <td>2020-09</td>\n",
       "    </tr>\n",
       "    <tr>\n",
       "      <th>3</th>\n",
       "      <td>a0e9c3b3-1c7c-11ec-ae8e-16262ee38c7f</td>\n",
       "      <td>2018-04-24</td>\n",
       "      <td>TARGET DRUG</td>\n",
       "      <td>2018-04</td>\n",
       "    </tr>\n",
       "    <tr>\n",
       "      <th>4</th>\n",
       "      <td>a0e9c3b3-1c7c-11ec-ae8e-16262ee38c7f</td>\n",
       "      <td>2018-05-17</td>\n",
       "      <td>TARGET DRUG</td>\n",
       "      <td>2018-05</td>\n",
       "    </tr>\n",
       "    <tr>\n",
       "      <th>...</th>\n",
       "      <td>...</td>\n",
       "      <td>...</td>\n",
       "      <td>...</td>\n",
       "      <td>...</td>\n",
       "    </tr>\n",
       "    <tr>\n",
       "      <th>67213</th>\n",
       "      <td>a0f0d523-1c7c-11ec-89d2-16262ee38c7f</td>\n",
       "      <td>2020-08-11</td>\n",
       "      <td>TARGET DRUG</td>\n",
       "      <td>2020-08</td>\n",
       "    </tr>\n",
       "    <tr>\n",
       "      <th>67214</th>\n",
       "      <td>a0f0d553-1c7c-11ec-a70a-16262ee38c7f</td>\n",
       "      <td>2020-07-21</td>\n",
       "      <td>TARGET DRUG</td>\n",
       "      <td>2020-07</td>\n",
       "    </tr>\n",
       "    <tr>\n",
       "      <th>67215</th>\n",
       "      <td>a0f0d582-1c7c-11ec-a6c1-16262ee38c7f</td>\n",
       "      <td>2020-06-18</td>\n",
       "      <td>TARGET DRUG</td>\n",
       "      <td>2020-06</td>\n",
       "    </tr>\n",
       "    <tr>\n",
       "      <th>67216</th>\n",
       "      <td>a0f0d582-1c7c-11ec-a6c1-16262ee38c7f</td>\n",
       "      <td>2020-07-09</td>\n",
       "      <td>TARGET DRUG</td>\n",
       "      <td>2020-07</td>\n",
       "    </tr>\n",
       "    <tr>\n",
       "      <th>67217</th>\n",
       "      <td>a0f0d582-1c7c-11ec-a6c1-16262ee38c7f</td>\n",
       "      <td>2020-08-05</td>\n",
       "      <td>TARGET DRUG</td>\n",
       "      <td>2020-08</td>\n",
       "    </tr>\n",
       "  </tbody>\n",
       "</table>\n",
       "<p>67218 rows × 4 columns</p>\n",
       "</div>"
      ],
      "text/plain": [
       "                                Patient-Uid       Date     Incident    Month\n",
       "0      a0e9c384-1c7c-11ec-81a0-16262ee38c7f 2020-07-08  TARGET DRUG  2020-07\n",
       "1      a0e9c384-1c7c-11ec-81a0-16262ee38c7f 2020-08-05  TARGET DRUG  2020-08\n",
       "2      a0e9c384-1c7c-11ec-81a0-16262ee38c7f 2020-09-02  TARGET DRUG  2020-09\n",
       "3      a0e9c3b3-1c7c-11ec-ae8e-16262ee38c7f 2018-04-24  TARGET DRUG  2018-04\n",
       "4      a0e9c3b3-1c7c-11ec-ae8e-16262ee38c7f 2018-05-17  TARGET DRUG  2018-05\n",
       "...                                     ...        ...          ...      ...\n",
       "67213  a0f0d523-1c7c-11ec-89d2-16262ee38c7f 2020-08-11  TARGET DRUG  2020-08\n",
       "67214  a0f0d553-1c7c-11ec-a70a-16262ee38c7f 2020-07-21  TARGET DRUG  2020-07\n",
       "67215  a0f0d582-1c7c-11ec-a6c1-16262ee38c7f 2020-06-18  TARGET DRUG  2020-06\n",
       "67216  a0f0d582-1c7c-11ec-a6c1-16262ee38c7f 2020-07-09  TARGET DRUG  2020-07\n",
       "67217  a0f0d582-1c7c-11ec-a6c1-16262ee38c7f 2020-08-05  TARGET DRUG  2020-08\n",
       "\n",
       "[67218 rows x 4 columns]"
      ]
     },
     "execution_count": 4,
     "metadata": {},
     "output_type": "execute_result"
    }
   ],
   "source": [
    "#Since, we are interested in the monthly patterns,consider:\n",
    "df['Month'] = df['Date'].dt.to_period('M')\n",
    "df"
   ]
  },
  {
   "cell_type": "code",
   "execution_count": 7,
   "metadata": {},
   "outputs": [
    {
     "data": {
      "text/html": [
       "<div>\n",
       "<style scoped>\n",
       "    .dataframe tbody tr th:only-of-type {\n",
       "        vertical-align: middle;\n",
       "    }\n",
       "\n",
       "    .dataframe tbody tr th {\n",
       "        vertical-align: top;\n",
       "    }\n",
       "\n",
       "    .dataframe thead th {\n",
       "        text-align: right;\n",
       "    }\n",
       "</style>\n",
       "<table border=\"1\" class=\"dataframe\">\n",
       "  <thead>\n",
       "    <tr style=\"text-align: right;\">\n",
       "      <th></th>\n",
       "      <th>Patient-Uid</th>\n",
       "      <th>Date</th>\n",
       "      <th>Incident</th>\n",
       "      <th>Month</th>\n",
       "      <th>DateDiff</th>\n",
       "    </tr>\n",
       "  </thead>\n",
       "  <tbody>\n",
       "    <tr>\n",
       "      <th>0</th>\n",
       "      <td>a0e9c384-1c7c-11ec-81a0-16262ee38c7f</td>\n",
       "      <td>2020-07-08</td>\n",
       "      <td>TARGET DRUG</td>\n",
       "      <td>2020-07</td>\n",
       "      <td>0.0</td>\n",
       "    </tr>\n",
       "    <tr>\n",
       "      <th>1</th>\n",
       "      <td>a0e9c384-1c7c-11ec-81a0-16262ee38c7f</td>\n",
       "      <td>2020-08-05</td>\n",
       "      <td>TARGET DRUG</td>\n",
       "      <td>2020-08</td>\n",
       "      <td>28.0</td>\n",
       "    </tr>\n",
       "    <tr>\n",
       "      <th>2</th>\n",
       "      <td>a0e9c384-1c7c-11ec-81a0-16262ee38c7f</td>\n",
       "      <td>2020-09-02</td>\n",
       "      <td>TARGET DRUG</td>\n",
       "      <td>2020-09</td>\n",
       "      <td>28.0</td>\n",
       "    </tr>\n",
       "    <tr>\n",
       "      <th>3</th>\n",
       "      <td>a0e9c3b3-1c7c-11ec-ae8e-16262ee38c7f</td>\n",
       "      <td>2018-04-24</td>\n",
       "      <td>TARGET DRUG</td>\n",
       "      <td>2018-04</td>\n",
       "      <td>0.0</td>\n",
       "    </tr>\n",
       "    <tr>\n",
       "      <th>4</th>\n",
       "      <td>a0e9c3b3-1c7c-11ec-ae8e-16262ee38c7f</td>\n",
       "      <td>2018-05-17</td>\n",
       "      <td>TARGET DRUG</td>\n",
       "      <td>2018-05</td>\n",
       "      <td>23.0</td>\n",
       "    </tr>\n",
       "    <tr>\n",
       "      <th>...</th>\n",
       "      <td>...</td>\n",
       "      <td>...</td>\n",
       "      <td>...</td>\n",
       "      <td>...</td>\n",
       "      <td>...</td>\n",
       "    </tr>\n",
       "    <tr>\n",
       "      <th>67213</th>\n",
       "      <td>a0f0d523-1c7c-11ec-89d2-16262ee38c7f</td>\n",
       "      <td>2020-08-11</td>\n",
       "      <td>TARGET DRUG</td>\n",
       "      <td>2020-08</td>\n",
       "      <td>55.0</td>\n",
       "    </tr>\n",
       "    <tr>\n",
       "      <th>67214</th>\n",
       "      <td>a0f0d553-1c7c-11ec-a70a-16262ee38c7f</td>\n",
       "      <td>2020-07-21</td>\n",
       "      <td>TARGET DRUG</td>\n",
       "      <td>2020-07</td>\n",
       "      <td>0.0</td>\n",
       "    </tr>\n",
       "    <tr>\n",
       "      <th>67215</th>\n",
       "      <td>a0f0d582-1c7c-11ec-a6c1-16262ee38c7f</td>\n",
       "      <td>2020-06-18</td>\n",
       "      <td>TARGET DRUG</td>\n",
       "      <td>2020-06</td>\n",
       "      <td>0.0</td>\n",
       "    </tr>\n",
       "    <tr>\n",
       "      <th>67216</th>\n",
       "      <td>a0f0d582-1c7c-11ec-a6c1-16262ee38c7f</td>\n",
       "      <td>2020-07-09</td>\n",
       "      <td>TARGET DRUG</td>\n",
       "      <td>2020-07</td>\n",
       "      <td>21.0</td>\n",
       "    </tr>\n",
       "    <tr>\n",
       "      <th>67217</th>\n",
       "      <td>a0f0d582-1c7c-11ec-a6c1-16262ee38c7f</td>\n",
       "      <td>2020-08-05</td>\n",
       "      <td>TARGET DRUG</td>\n",
       "      <td>2020-08</td>\n",
       "      <td>27.0</td>\n",
       "    </tr>\n",
       "  </tbody>\n",
       "</table>\n",
       "<p>67218 rows × 5 columns</p>\n",
       "</div>"
      ],
      "text/plain": [
       "                                Patient-Uid       Date     Incident    Month  \\\n",
       "0      a0e9c384-1c7c-11ec-81a0-16262ee38c7f 2020-07-08  TARGET DRUG  2020-07   \n",
       "1      a0e9c384-1c7c-11ec-81a0-16262ee38c7f 2020-08-05  TARGET DRUG  2020-08   \n",
       "2      a0e9c384-1c7c-11ec-81a0-16262ee38c7f 2020-09-02  TARGET DRUG  2020-09   \n",
       "3      a0e9c3b3-1c7c-11ec-ae8e-16262ee38c7f 2018-04-24  TARGET DRUG  2018-04   \n",
       "4      a0e9c3b3-1c7c-11ec-ae8e-16262ee38c7f 2018-05-17  TARGET DRUG  2018-05   \n",
       "...                                     ...        ...          ...      ...   \n",
       "67213  a0f0d523-1c7c-11ec-89d2-16262ee38c7f 2020-08-11  TARGET DRUG  2020-08   \n",
       "67214  a0f0d553-1c7c-11ec-a70a-16262ee38c7f 2020-07-21  TARGET DRUG  2020-07   \n",
       "67215  a0f0d582-1c7c-11ec-a6c1-16262ee38c7f 2020-06-18  TARGET DRUG  2020-06   \n",
       "67216  a0f0d582-1c7c-11ec-a6c1-16262ee38c7f 2020-07-09  TARGET DRUG  2020-07   \n",
       "67217  a0f0d582-1c7c-11ec-a6c1-16262ee38c7f 2020-08-05  TARGET DRUG  2020-08   \n",
       "\n",
       "       DateDiff  \n",
       "0           0.0  \n",
       "1          28.0  \n",
       "2          28.0  \n",
       "3           0.0  \n",
       "4          23.0  \n",
       "...         ...  \n",
       "67213      55.0  \n",
       "67214       0.0  \n",
       "67215       0.0  \n",
       "67216      21.0  \n",
       "67217      27.0  \n",
       "\n",
       "[67218 rows x 5 columns]"
      ]
     },
     "execution_count": 7,
     "metadata": {},
     "output_type": "execute_result"
    }
   ],
   "source": [
    "#Since, we are looking for patterns in the frequency of dosage of 'TARGET DRUG', consider a variable showing the consecutive difference\n",
    "#in days between two dosages per patient.\n",
    "df['DateDiff'] = df.groupby('Patient-Uid')['Date'].diff().dt.days\n",
    "df['DateDiff'] = df['DateDiff'].replace(np.nan,0) #nan values may occur at the first date per patient.\n",
    "df"
   ]
  },
  {
   "attachments": {},
   "cell_type": "markdown",
   "metadata": {},
   "source": [
    "We see that the Column of 'DateDiff' starts from 0 for each unique patient. (Note: We have already sorted our dataset based on patient and date of admittance)"
   ]
  },
  {
   "attachments": {},
   "cell_type": "markdown",
   "metadata": {},
   "source": [
    "For the purpose of finding clusters of people showing similar patterns, I shall use the K-Means Clustering Algorithm to analyse such changes."
   ]
  },
  {
   "cell_type": "code",
   "execution_count": 8,
   "metadata": {},
   "outputs": [],
   "source": [
    "from sklearn.cluster import KMeans"
   ]
  },
  {
   "cell_type": "code",
   "execution_count": 9,
   "metadata": {},
   "outputs": [],
   "source": [
    "model = KMeans(n_clusters=5) #split patterns into 5 clusters\n",
    "#To detect patterns we shall give the model the column of 'DateDiff' as input and store the predicted result as df['Cluster']\n",
    "input = df['DateDiff'].values.reshape(-1,1) #2D Array is required.\n",
    "df['Cluster'] = model.fit_predict(input)"
   ]
  },
  {
   "cell_type": "code",
   "execution_count": 10,
   "metadata": {},
   "outputs": [
    {
     "data": {
      "text/html": [
       "<div>\n",
       "<style scoped>\n",
       "    .dataframe tbody tr th:only-of-type {\n",
       "        vertical-align: middle;\n",
       "    }\n",
       "\n",
       "    .dataframe tbody tr th {\n",
       "        vertical-align: top;\n",
       "    }\n",
       "\n",
       "    .dataframe thead th {\n",
       "        text-align: right;\n",
       "    }\n",
       "</style>\n",
       "<table border=\"1\" class=\"dataframe\">\n",
       "  <thead>\n",
       "    <tr style=\"text-align: right;\">\n",
       "      <th></th>\n",
       "      <th>Patient-Uid</th>\n",
       "      <th>Date</th>\n",
       "      <th>Incident</th>\n",
       "      <th>Month</th>\n",
       "      <th>DateDiff</th>\n",
       "      <th>Cluster</th>\n",
       "    </tr>\n",
       "  </thead>\n",
       "  <tbody>\n",
       "    <tr>\n",
       "      <th>0</th>\n",
       "      <td>a0e9c384-1c7c-11ec-81a0-16262ee38c7f</td>\n",
       "      <td>2020-07-08</td>\n",
       "      <td>TARGET DRUG</td>\n",
       "      <td>2020-07</td>\n",
       "      <td>0.0</td>\n",
       "      <td>2</td>\n",
       "    </tr>\n",
       "    <tr>\n",
       "      <th>1</th>\n",
       "      <td>a0e9c384-1c7c-11ec-81a0-16262ee38c7f</td>\n",
       "      <td>2020-08-05</td>\n",
       "      <td>TARGET DRUG</td>\n",
       "      <td>2020-08</td>\n",
       "      <td>28.0</td>\n",
       "      <td>2</td>\n",
       "    </tr>\n",
       "    <tr>\n",
       "      <th>2</th>\n",
       "      <td>a0e9c384-1c7c-11ec-81a0-16262ee38c7f</td>\n",
       "      <td>2020-09-02</td>\n",
       "      <td>TARGET DRUG</td>\n",
       "      <td>2020-09</td>\n",
       "      <td>28.0</td>\n",
       "      <td>2</td>\n",
       "    </tr>\n",
       "    <tr>\n",
       "      <th>3</th>\n",
       "      <td>a0e9c3b3-1c7c-11ec-ae8e-16262ee38c7f</td>\n",
       "      <td>2018-04-24</td>\n",
       "      <td>TARGET DRUG</td>\n",
       "      <td>2018-04</td>\n",
       "      <td>0.0</td>\n",
       "      <td>2</td>\n",
       "    </tr>\n",
       "    <tr>\n",
       "      <th>4</th>\n",
       "      <td>a0e9c3b3-1c7c-11ec-ae8e-16262ee38c7f</td>\n",
       "      <td>2018-05-17</td>\n",
       "      <td>TARGET DRUG</td>\n",
       "      <td>2018-05</td>\n",
       "      <td>23.0</td>\n",
       "      <td>2</td>\n",
       "    </tr>\n",
       "    <tr>\n",
       "      <th>...</th>\n",
       "      <td>...</td>\n",
       "      <td>...</td>\n",
       "      <td>...</td>\n",
       "      <td>...</td>\n",
       "      <td>...</td>\n",
       "      <td>...</td>\n",
       "    </tr>\n",
       "    <tr>\n",
       "      <th>67213</th>\n",
       "      <td>a0f0d523-1c7c-11ec-89d2-16262ee38c7f</td>\n",
       "      <td>2020-08-11</td>\n",
       "      <td>TARGET DRUG</td>\n",
       "      <td>2020-08</td>\n",
       "      <td>55.0</td>\n",
       "      <td>0</td>\n",
       "    </tr>\n",
       "    <tr>\n",
       "      <th>67214</th>\n",
       "      <td>a0f0d553-1c7c-11ec-a70a-16262ee38c7f</td>\n",
       "      <td>2020-07-21</td>\n",
       "      <td>TARGET DRUG</td>\n",
       "      <td>2020-07</td>\n",
       "      <td>0.0</td>\n",
       "      <td>2</td>\n",
       "    </tr>\n",
       "    <tr>\n",
       "      <th>67215</th>\n",
       "      <td>a0f0d582-1c7c-11ec-a6c1-16262ee38c7f</td>\n",
       "      <td>2020-06-18</td>\n",
       "      <td>TARGET DRUG</td>\n",
       "      <td>2020-06</td>\n",
       "      <td>0.0</td>\n",
       "      <td>2</td>\n",
       "    </tr>\n",
       "    <tr>\n",
       "      <th>67216</th>\n",
       "      <td>a0f0d582-1c7c-11ec-a6c1-16262ee38c7f</td>\n",
       "      <td>2020-07-09</td>\n",
       "      <td>TARGET DRUG</td>\n",
       "      <td>2020-07</td>\n",
       "      <td>21.0</td>\n",
       "      <td>2</td>\n",
       "    </tr>\n",
       "    <tr>\n",
       "      <th>67217</th>\n",
       "      <td>a0f0d582-1c7c-11ec-a6c1-16262ee38c7f</td>\n",
       "      <td>2020-08-05</td>\n",
       "      <td>TARGET DRUG</td>\n",
       "      <td>2020-08</td>\n",
       "      <td>27.0</td>\n",
       "      <td>2</td>\n",
       "    </tr>\n",
       "  </tbody>\n",
       "</table>\n",
       "<p>67218 rows × 6 columns</p>\n",
       "</div>"
      ],
      "text/plain": [
       "                                Patient-Uid       Date     Incident    Month  \\\n",
       "0      a0e9c384-1c7c-11ec-81a0-16262ee38c7f 2020-07-08  TARGET DRUG  2020-07   \n",
       "1      a0e9c384-1c7c-11ec-81a0-16262ee38c7f 2020-08-05  TARGET DRUG  2020-08   \n",
       "2      a0e9c384-1c7c-11ec-81a0-16262ee38c7f 2020-09-02  TARGET DRUG  2020-09   \n",
       "3      a0e9c3b3-1c7c-11ec-ae8e-16262ee38c7f 2018-04-24  TARGET DRUG  2018-04   \n",
       "4      a0e9c3b3-1c7c-11ec-ae8e-16262ee38c7f 2018-05-17  TARGET DRUG  2018-05   \n",
       "...                                     ...        ...          ...      ...   \n",
       "67213  a0f0d523-1c7c-11ec-89d2-16262ee38c7f 2020-08-11  TARGET DRUG  2020-08   \n",
       "67214  a0f0d553-1c7c-11ec-a70a-16262ee38c7f 2020-07-21  TARGET DRUG  2020-07   \n",
       "67215  a0f0d582-1c7c-11ec-a6c1-16262ee38c7f 2020-06-18  TARGET DRUG  2020-06   \n",
       "67216  a0f0d582-1c7c-11ec-a6c1-16262ee38c7f 2020-07-09  TARGET DRUG  2020-07   \n",
       "67217  a0f0d582-1c7c-11ec-a6c1-16262ee38c7f 2020-08-05  TARGET DRUG  2020-08   \n",
       "\n",
       "       DateDiff  Cluster  \n",
       "0           0.0        2  \n",
       "1          28.0        2  \n",
       "2          28.0        2  \n",
       "3           0.0        2  \n",
       "4          23.0        2  \n",
       "...         ...      ...  \n",
       "67213      55.0        0  \n",
       "67214       0.0        2  \n",
       "67215       0.0        2  \n",
       "67216      21.0        2  \n",
       "67217      27.0        2  \n",
       "\n",
       "[67218 rows x 6 columns]"
      ]
     },
     "execution_count": 10,
     "metadata": {},
     "output_type": "execute_result"
    }
   ],
   "source": [
    "df"
   ]
  },
  {
   "cell_type": "code",
   "execution_count": 11,
   "metadata": {},
   "outputs": [
    {
     "data": {
      "text/plain": [
       "array([2, 0, 3, 4, 1])"
      ]
     },
     "execution_count": 11,
     "metadata": {},
     "output_type": "execute_result"
    }
   ],
   "source": [
    "df.Cluster.unique()"
   ]
  },
  {
   "attachments": {},
   "cell_type": "markdown",
   "metadata": {},
   "source": [
    "Now, Let's attempt to visually analyse these cluster patterns shown with Duration (Month) as given below:"
   ]
  },
  {
   "cell_type": "code",
   "execution_count": 19,
   "metadata": {},
   "outputs": [
    {
     "data": {
      "image/png": "[encoded data removed]",
      "text/plain": [
       "<Figure size 720x360 with 1 Axes>"
      ]
     },
     "metadata": {
      "needs_background": "light"
     },
     "output_type": "display_data"
    }
   ],
   "source": [
    "plt.figure(figsize=(10,5)) \n",
    "for c in range(5): #5 clusters\n",
    "    data = df.loc[df['Cluster']==c] #Data Frame for each cluster\n",
    "    prescripts = data.groupby('Month').size() #Count of patients in each month\n",
    "    prescripts.plot(label = c)\n",
    "\n",
    "plt.xlabel('Month')\n",
    "plt.ylabel('Total Prescriptions')\n",
    "plt.title('Prescription Patterns')\n",
    "plt.legend(loc='best')\n",
    "plt.show()"
   ]
  },
  {
   "cell_type": "code",
   "execution_count": 47,
   "metadata": {},
   "outputs": [
    {
     "data": {
      "text/plain": [
       "67218"
      ]
     },
     "execution_count": 47,
     "metadata": {},
     "output_type": "execute_result"
    }
   ],
   "source": [
    "len(df.Cluster.values)"
   ]
  },
  {
   "cell_type": "code",
   "execution_count": 49,
   "metadata": {},
   "outputs": [
    {
     "data": {
      "text/plain": [
       "1.0726293552322295"
      ]
     },
     "execution_count": 49,
     "metadata": {},
     "output_type": "execute_result"
    }
   ],
   "source": [
    "len(df.loc[(df['Cluster']==1) | (df['Cluster']==4)])/len(df.Cluster.values)*100"
   ]
  },
  {
   "cell_type": "code",
   "execution_count": 50,
   "metadata": {},
   "outputs": [
    {
     "data": {
      "text/plain": [
       "4.614835311970008"
      ]
     },
     "execution_count": 50,
     "metadata": {},
     "output_type": "execute_result"
    }
   ],
   "source": [
    "len(df.loc[df['Cluster']==3])/len(df.Cluster.values)*100"
   ]
  },
  {
   "cell_type": "code",
   "execution_count": 51,
   "metadata": {},
   "outputs": [
    {
     "data": {
      "text/plain": [
       "52.95902883156297"
      ]
     },
     "execution_count": 51,
     "metadata": {},
     "output_type": "execute_result"
    }
   ],
   "source": [
    "len(df.loc[df['Cluster']==0])/len(df.Cluster.values)*100"
   ]
  },
  {
   "cell_type": "code",
   "execution_count": 52,
   "metadata": {},
   "outputs": [
    {
     "data": {
      "text/plain": [
       "41.35350650123479"
      ]
     },
     "execution_count": 52,
     "metadata": {},
     "output_type": "execute_result"
    }
   ],
   "source": [
    "len(df.loc[df['Cluster']==2])/len(df.Cluster.values)*100"
   ]
  },
  {
   "attachments": {},
   "cell_type": "markdown",
   "metadata": {},
   "source": [
    "We see that Clusters 1 and 4 are nearly similar with not much increase in the usage of TARGET DRUG and these together amount to only 1.07% of the total patients taking up the drug. These are the ones which have merely used the drug and dropped before its total duration (1 year)."
   ]
  },
  {
   "attachments": {},
   "cell_type": "markdown",
   "metadata": {},
   "source": [
    "The Cluster 3 has slightly more patients who have gone upto a 100 prescriptions in total and these amass to be close to 4.61% of the total count. We see that the peak of prescriptions is around that 2019-2020 year and we can take a pretty solid guess that this was because of the Covid First Wave that was taking place then.\n"
   ]
  },
  {
   "attachments": {},
   "cell_type": "markdown",
   "metadata": {},
   "source": [
    "Now,Clusters 0 and 2 together consist of nearly 95% of the total patient count (around 67000 in total) and we see that even this cluster didn't have much usage of TARGET DRUG till 2018 and I guess this was because the drug was still under observation and research and was not completely accessed by the patients. We see the ultimate peak months around the same time period 2019-2020 which again comes back to our discussion on how this period was the first outbreak of Covid. "
   ]
  },
  {
   "attachments": {},
   "cell_type": "markdown",
   "metadata": {},
   "source": [
    "An interesting observation is that though both Clusters 0 and 2 have roughly the same amount of patients, one sees a clear shift in the dosage patterns within the two where the ones under Cluster 0 reached a sky high peak of more than 2000 total prescriptions, the ones under Cluster 2 remained more around the average of 1000 prescriptions. This shows that the effect of TARGET DRUG was felt on different kinds of people in different ways. In some cases, it proved to be more effective hence the increase in the dosage value i.e. the ones under Cluster 0. They reacted better to the possible side-effects of the drug. One needs much more data to comprehend the individual health condition of each patient after the dosage of the drug."
   ]
  },
  {
   "attachments": {},
   "cell_type": "markdown",
   "metadata": {},
   "source": [
    "As predicted though, the total prescriptions count starts falling down around July of 2020. This was the Summer Break where the First Wave of Covid cooled down. It was in this time that the public had come out of quarantine and schools were opened and hospitals started letting go of the patients. Either way, the drug dosage count used by the patients comes drastically down and is the same across all clusters."
   ]
  },
  {
   "cell_type": "code",
   "execution_count": null,
   "metadata": {},
   "outputs": [],
   "source": []
  }
 ],
 "metadata": {
  "kernelspec": {
   "display_name": "Python 3",
   "language": "python",
   "name": "python3"
  },
  "language_info": {
   "codemirror_mode": {
    "name": "ipython",
    "version": 3
   },
   "file_extension": ".py",
   "mimetype": "text/x-python",
   "name": "python",
   "nbconvert_exporter": "python",
   "pygments_lexer": "ipython3",
   "version": "3.10.5"
  },
  "orig_nbformat": 4
 },
 "nbformat": 4,
 "nbformat_minor": 2
}
