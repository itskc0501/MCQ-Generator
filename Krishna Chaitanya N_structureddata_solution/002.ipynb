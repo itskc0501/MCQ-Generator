{
 "cells": [
  {
   "attachments": {},
   "cell_type": "markdown",
   "metadata": {},
   "source": [
    "Import all the necessary libraries."
   ]
  },
  {
   "cell_type": "code",
   "execution_count": 1,
   "metadata": {},
   "outputs": [],
   "source": [
    "import numpy as np\n",
    "import pandas as pd\n",
    "import matplotlib.pyplot as plt\n",
    "\n",
    "import datetime"
   ]
  },
  {
   "cell_type": "code",
   "execution_count": 2,
   "metadata": {},
   "outputs": [
    {
     "data": {
      "text/html": [
       "<div>\n",
       "<style scoped>\n",
       "    .dataframe tbody tr th:only-of-type {\n",
       "        vertical-align: middle;\n",
       "    }\n",
       "\n",
       "    .dataframe tbody tr th {\n",
       "        vertical-align: top;\n",
       "    }\n",
       "\n",
       "    .dataframe thead th {\n",
       "        text-align: right;\n",
       "    }\n",
       "</style>\n",
       "<table border=\"1\" class=\"dataframe\">\n",
       "  <thead>\n",
       "    <tr style=\"text-align: right;\">\n",
       "      <th></th>\n",
       "      <th>Patient-Uid</th>\n",
       "      <th>Date</th>\n",
       "      <th>Incident</th>\n",
       "    </tr>\n",
       "  </thead>\n",
       "  <tbody>\n",
       "    <tr>\n",
       "      <th>0</th>\n",
       "      <td>a0db1e73-1c7c-11ec-ae39-16262ee38c7f</td>\n",
       "      <td>2019-03-09</td>\n",
       "      <td>PRIMARY_DIAGNOSIS</td>\n",
       "    </tr>\n",
       "    <tr>\n",
       "      <th>1</th>\n",
       "      <td>a0dc93f2-1c7c-11ec-9cd2-16262ee38c7f</td>\n",
       "      <td>2015-05-16</td>\n",
       "      <td>PRIMARY_DIAGNOSIS</td>\n",
       "    </tr>\n",
       "    <tr>\n",
       "      <th>3</th>\n",
       "      <td>a0dc94c6-1c7c-11ec-a3a0-16262ee38c7f</td>\n",
       "      <td>2018-01-30</td>\n",
       "      <td>SYMPTOM_TYPE_0</td>\n",
       "    </tr>\n",
       "    <tr>\n",
       "      <th>4</th>\n",
       "      <td>a0dc950b-1c7c-11ec-b6ec-16262ee38c7f</td>\n",
       "      <td>2015-04-22</td>\n",
       "      <td>DRUG_TYPE_0</td>\n",
       "    </tr>\n",
       "    <tr>\n",
       "      <th>8</th>\n",
       "      <td>a0dc9543-1c7c-11ec-bb63-16262ee38c7f</td>\n",
       "      <td>2016-06-18</td>\n",
       "      <td>DRUG_TYPE_1</td>\n",
       "    </tr>\n",
       "    <tr>\n",
       "      <th>...</th>\n",
       "      <td>...</td>\n",
       "      <td>...</td>\n",
       "      <td>...</td>\n",
       "    </tr>\n",
       "    <tr>\n",
       "      <th>29080886</th>\n",
       "      <td>a0ee9f75-1c7c-11ec-94c7-16262ee38c7f</td>\n",
       "      <td>2018-07-06</td>\n",
       "      <td>DRUG_TYPE_6</td>\n",
       "    </tr>\n",
       "    <tr>\n",
       "      <th>29080897</th>\n",
       "      <td>a0ee1284-1c7c-11ec-a3d5-16262ee38c7f</td>\n",
       "      <td>2017-12-29</td>\n",
       "      <td>DRUG_TYPE_6</td>\n",
       "    </tr>\n",
       "    <tr>\n",
       "      <th>29080900</th>\n",
       "      <td>a0ee9b26-1c7c-11ec-8a40-16262ee38c7f</td>\n",
       "      <td>2018-10-18</td>\n",
       "      <td>DRUG_TYPE_10</td>\n",
       "    </tr>\n",
       "    <tr>\n",
       "      <th>29080903</th>\n",
       "      <td>a0ee1a92-1c7c-11ec-8341-16262ee38c7f</td>\n",
       "      <td>2015-09-18</td>\n",
       "      <td>DRUG_TYPE_6</td>\n",
       "    </tr>\n",
       "    <tr>\n",
       "      <th>29080911</th>\n",
       "      <td>a0ee146e-1c7c-11ec-baee-16262ee38c7f</td>\n",
       "      <td>2018-10-05</td>\n",
       "      <td>DRUG_TYPE_1</td>\n",
       "    </tr>\n",
       "  </tbody>\n",
       "</table>\n",
       "<p>3220868 rows × 3 columns</p>\n",
       "</div>"
      ],
      "text/plain": [
       "                                   Patient-Uid       Date           Incident\n",
       "0         a0db1e73-1c7c-11ec-ae39-16262ee38c7f 2019-03-09  PRIMARY_DIAGNOSIS\n",
       "1         a0dc93f2-1c7c-11ec-9cd2-16262ee38c7f 2015-05-16  PRIMARY_DIAGNOSIS\n",
       "3         a0dc94c6-1c7c-11ec-a3a0-16262ee38c7f 2018-01-30     SYMPTOM_TYPE_0\n",
       "4         a0dc950b-1c7c-11ec-b6ec-16262ee38c7f 2015-04-22        DRUG_TYPE_0\n",
       "8         a0dc9543-1c7c-11ec-bb63-16262ee38c7f 2016-06-18        DRUG_TYPE_1\n",
       "...                                        ...        ...                ...\n",
       "29080886  a0ee9f75-1c7c-11ec-94c7-16262ee38c7f 2018-07-06        DRUG_TYPE_6\n",
       "29080897  a0ee1284-1c7c-11ec-a3d5-16262ee38c7f 2017-12-29        DRUG_TYPE_6\n",
       "29080900  a0ee9b26-1c7c-11ec-8a40-16262ee38c7f 2018-10-18       DRUG_TYPE_10\n",
       "29080903  a0ee1a92-1c7c-11ec-8341-16262ee38c7f 2015-09-18        DRUG_TYPE_6\n",
       "29080911  a0ee146e-1c7c-11ec-baee-16262ee38c7f 2018-10-05        DRUG_TYPE_1\n",
       "\n",
       "[3220868 rows x 3 columns]"
      ]
     },
     "execution_count": 2,
     "metadata": {},
     "output_type": "execute_result"
    }
   ],
   "source": [
    "#Read the Data in 'train.parquet'\n",
    "df = pd.read_parquet('train.parquet',engine='pyarrow')\n",
    "df"
   ]
  },
  {
   "cell_type": "code",
   "execution_count": 3,
   "metadata": {},
   "outputs": [
    {
     "name": "stderr",
     "output_type": "stream",
     "text": [
      "C:\\Users\\Krishna Chaitanya N\\AppData\\Local\\Temp\\ipykernel_22744\\2747645159.py:3: SettingWithCopyWarning: \n",
      "A value is trying to be set on a copy of a slice from a DataFrame.\n",
      "Try using .loc[row_indexer,col_indexer] = value instead\n",
      "\n",
      "See the caveats in the documentation: https://pandas.pydata.org/pandas-docs/stable/user_guide/indexing.html#returning-a-view-versus-a-copy\n",
      "  df['Date'] = pd.to_datetime(df['Date']) #Convert string to panda datetime.\n"
     ]
    },
    {
     "data": {
      "text/html": [
       "<div>\n",
       "<style scoped>\n",
       "    .dataframe tbody tr th:only-of-type {\n",
       "        vertical-align: middle;\n",
       "    }\n",
       "\n",
       "    .dataframe tbody tr th {\n",
       "        vertical-align: top;\n",
       "    }\n",
       "\n",
       "    .dataframe thead th {\n",
       "        text-align: right;\n",
       "    }\n",
       "</style>\n",
       "<table border=\"1\" class=\"dataframe\">\n",
       "  <thead>\n",
       "    <tr style=\"text-align: right;\">\n",
       "      <th></th>\n",
       "      <th>Patient-Uid</th>\n",
       "      <th>Date</th>\n",
       "      <th>Incident</th>\n",
       "    </tr>\n",
       "  </thead>\n",
       "  <tbody>\n",
       "    <tr>\n",
       "      <th>0</th>\n",
       "      <td>a0e9c384-1c7c-11ec-81a0-16262ee38c7f</td>\n",
       "      <td>2020-07-08</td>\n",
       "      <td>TARGET DRUG</td>\n",
       "    </tr>\n",
       "    <tr>\n",
       "      <th>1</th>\n",
       "      <td>a0e9c384-1c7c-11ec-81a0-16262ee38c7f</td>\n",
       "      <td>2020-08-05</td>\n",
       "      <td>TARGET DRUG</td>\n",
       "    </tr>\n",
       "    <tr>\n",
       "      <th>2</th>\n",
       "      <td>a0e9c384-1c7c-11ec-81a0-16262ee38c7f</td>\n",
       "      <td>2020-09-02</td>\n",
       "      <td>TARGET DRUG</td>\n",
       "    </tr>\n",
       "    <tr>\n",
       "      <th>3</th>\n",
       "      <td>a0e9c3b3-1c7c-11ec-ae8e-16262ee38c7f</td>\n",
       "      <td>2018-04-24</td>\n",
       "      <td>TARGET DRUG</td>\n",
       "    </tr>\n",
       "    <tr>\n",
       "      <th>4</th>\n",
       "      <td>a0e9c3b3-1c7c-11ec-ae8e-16262ee38c7f</td>\n",
       "      <td>2018-05-17</td>\n",
       "      <td>TARGET DRUG</td>\n",
       "    </tr>\n",
       "    <tr>\n",
       "      <th>...</th>\n",
       "      <td>...</td>\n",
       "      <td>...</td>\n",
       "      <td>...</td>\n",
       "    </tr>\n",
       "    <tr>\n",
       "      <th>67213</th>\n",
       "      <td>a0f0d523-1c7c-11ec-89d2-16262ee38c7f</td>\n",
       "      <td>2020-08-11</td>\n",
       "      <td>TARGET DRUG</td>\n",
       "    </tr>\n",
       "    <tr>\n",
       "      <th>67214</th>\n",
       "      <td>a0f0d553-1c7c-11ec-a70a-16262ee38c7f</td>\n",
       "      <td>2020-07-21</td>\n",
       "      <td>TARGET DRUG</td>\n",
       "    </tr>\n",
       "    <tr>\n",
       "      <th>67215</th>\n",
       "      <td>a0f0d582-1c7c-11ec-a6c1-16262ee38c7f</td>\n",
       "      <td>2020-06-18</td>\n",
       "      <td>TARGET DRUG</td>\n",
       "    </tr>\n",
       "    <tr>\n",
       "      <th>67216</th>\n",
       "      <td>a0f0d582-1c7c-11ec-a6c1-16262ee38c7f</td>\n",
       "      <td>2020-07-09</td>\n",
       "      <td>TARGET DRUG</td>\n",
       "    </tr>\n",
       "    <tr>\n",
       "      <th>67217</th>\n",
       "      <td>a0f0d582-1c7c-11ec-a6c1-16262ee38c7f</td>\n",
       "      <td>2020-08-05</td>\n",
       "      <td>TARGET DRUG</td>\n",
       "    </tr>\n",
       "  </tbody>\n",
       "</table>\n",
       "<p>67218 rows × 3 columns</p>\n",
       "</div>"
      ],
      "text/plain": [
       "                                Patient-Uid       Date     Incident\n",
       "0      a0e9c384-1c7c-11ec-81a0-16262ee38c7f 2020-07-08  TARGET DRUG\n",
       "1      a0e9c384-1c7c-11ec-81a0-16262ee38c7f 2020-08-05  TARGET DRUG\n",
       "2      a0e9c384-1c7c-11ec-81a0-16262ee38c7f 2020-09-02  TARGET DRUG\n",
       "3      a0e9c3b3-1c7c-11ec-ae8e-16262ee38c7f 2018-04-24  TARGET DRUG\n",
       "4      a0e9c3b3-1c7c-11ec-ae8e-16262ee38c7f 2018-05-17  TARGET DRUG\n",
       "...                                     ...        ...          ...\n",
       "67213  a0f0d523-1c7c-11ec-89d2-16262ee38c7f 2020-08-11  TARGET DRUG\n",
       "67214  a0f0d553-1c7c-11ec-a70a-16262ee38c7f 2020-07-21  TARGET DRUG\n",
       "67215  a0f0d582-1c7c-11ec-a6c1-16262ee38c7f 2020-06-18  TARGET DRUG\n",
       "67216  a0f0d582-1c7c-11ec-a6c1-16262ee38c7f 2020-07-09  TARGET DRUG\n",
       "67217  a0f0d582-1c7c-11ec-a6c1-16262ee38c7f 2020-08-05  TARGET DRUG\n",
       "\n",
       "[67218 rows x 3 columns]"
      ]
     },
     "execution_count": 3,
     "metadata": {},
     "output_type": "execute_result"
    }
   ],
   "source": [
    "#Since we are concerned only with the drop-off rate of 'TARGET DRUG', we shall only consider such entries.\n",
    "df = df[df['Incident']=='TARGET DRUG']\n",
    "df['Date'] = pd.to_datetime(df['Date']) #Convert string to panda datetime.\n",
    "df = df.sort_values(['Patient-Uid','Date']) #Sort data\n",
    "df = df.reset_index(drop=True)\n",
    "df"
   ]
  },
  {
   "cell_type": "code",
   "execution_count": 4,
   "metadata": {},
   "outputs": [
    {
     "data": {
      "text/plain": [
       "9374"
      ]
     },
     "execution_count": 4,
     "metadata": {},
     "output_type": "execute_result"
    }
   ],
   "source": [
    "#All unique patient-uids are collected below:\n",
    "patients = df['Patient-Uid'].unique()\n",
    "len(patients)"
   ]
  },
  {
   "cell_type": "code",
   "execution_count": 5,
   "metadata": {},
   "outputs": [],
   "source": [
    "dropped = [] #An array to keep track of the dropped off patients and the corresponding month.\n",
    "for pat in patients:\n",
    "    data = df[df['Patient-Uid']==pat]\n",
    "    dates = data['Date'].values\n",
    "    month = data['Date'].dt.to_period('M') #Keeping track of the months\n",
    "    date_r = pd.to_timedelta(dates[-1]-dates[0]) #Diff in time the last and first usage of 'TARGET DRUG'\n",
    "    if date_r<=datetime.timedelta(days=365): #Since ideal treatment duration is 1 year.\n",
    "        dropped.append((pat,str(month.values[-1]))) #Track of patient and last usage month"
   ]
  },
  {
   "cell_type": "code",
   "execution_count": 6,
   "metadata": {},
   "outputs": [
    {
     "data": {
      "text/plain": [
       "array([['a0e9c384-1c7c-11ec-81a0-16262ee38c7f', '2020-09'],\n",
       "       ['a0e9c3e3-1c7c-11ec-a8b9-16262ee38c7f', '2020-05'],\n",
       "       ['a0e9c443-1c7c-11ec-9eb0-16262ee38c7f', '2020-07'],\n",
       "       ['a0e9c4a3-1c7c-11ec-aa86-16262ee38c7f', '2020-05'],\n",
       "       ['a0e9c502-1c7c-11ec-89d3-16262ee38c7f', '2020-08'],\n",
       "       ['a0e9c531-1c7c-11ec-8c5e-16262ee38c7f', '2020-06'],\n",
       "       ['a0e9c561-1c7c-11ec-ac1a-16262ee38c7f', '2019-05'],\n",
       "       ['a0e9c61f-1c7c-11ec-a87d-16262ee38c7f', '2019-11'],\n",
       "       ['a0e9c64e-1c7c-11ec-b73b-16262ee38c7f', '2018-09'],\n",
       "       ['a0e9c751-1c7c-11ec-b708-16262ee38c7f', '2020-01']], dtype='<U36')"
      ]
     },
     "execution_count": 6,
     "metadata": {},
     "output_type": "execute_result"
    }
   ],
   "source": [
    "dropped = np.array(dropped)\n",
    "dropped[:10]"
   ]
  },
  {
   "cell_type": "code",
   "execution_count": 7,
   "metadata": {},
   "outputs": [
    {
     "data": {
      "text/html": [
       "<div>\n",
       "<style scoped>\n",
       "    .dataframe tbody tr th:only-of-type {\n",
       "        vertical-align: middle;\n",
       "    }\n",
       "\n",
       "    .dataframe tbody tr th {\n",
       "        vertical-align: top;\n",
       "    }\n",
       "\n",
       "    .dataframe thead th {\n",
       "        text-align: right;\n",
       "    }\n",
       "</style>\n",
       "<table border=\"1\" class=\"dataframe\">\n",
       "  <thead>\n",
       "    <tr style=\"text-align: right;\">\n",
       "      <th></th>\n",
       "      <th>Patient-Uid</th>\n",
       "      <th>Month</th>\n",
       "    </tr>\n",
       "  </thead>\n",
       "  <tbody>\n",
       "    <tr>\n",
       "      <th>0</th>\n",
       "      <td>a0e9c384-1c7c-11ec-81a0-16262ee38c7f</td>\n",
       "      <td>2020-09</td>\n",
       "    </tr>\n",
       "    <tr>\n",
       "      <th>1</th>\n",
       "      <td>a0e9c3e3-1c7c-11ec-a8b9-16262ee38c7f</td>\n",
       "      <td>2020-05</td>\n",
       "    </tr>\n",
       "    <tr>\n",
       "      <th>2</th>\n",
       "      <td>a0e9c443-1c7c-11ec-9eb0-16262ee38c7f</td>\n",
       "      <td>2020-07</td>\n",
       "    </tr>\n",
       "    <tr>\n",
       "      <th>3</th>\n",
       "      <td>a0e9c4a3-1c7c-11ec-aa86-16262ee38c7f</td>\n",
       "      <td>2020-05</td>\n",
       "    </tr>\n",
       "    <tr>\n",
       "      <th>4</th>\n",
       "      <td>a0e9c502-1c7c-11ec-89d3-16262ee38c7f</td>\n",
       "      <td>2020-08</td>\n",
       "    </tr>\n",
       "    <tr>\n",
       "      <th>...</th>\n",
       "      <td>...</td>\n",
       "      <td>...</td>\n",
       "    </tr>\n",
       "    <tr>\n",
       "      <th>5792</th>\n",
       "      <td>a0f0d4c5-1c7c-11ec-bfec-16262ee38c7f</td>\n",
       "      <td>2020-08</td>\n",
       "    </tr>\n",
       "    <tr>\n",
       "      <th>5793</th>\n",
       "      <td>a0f0d4f4-1c7c-11ec-b144-16262ee38c7f</td>\n",
       "      <td>2020-07</td>\n",
       "    </tr>\n",
       "    <tr>\n",
       "      <th>5794</th>\n",
       "      <td>a0f0d523-1c7c-11ec-89d2-16262ee38c7f</td>\n",
       "      <td>2020-08</td>\n",
       "    </tr>\n",
       "    <tr>\n",
       "      <th>5795</th>\n",
       "      <td>a0f0d553-1c7c-11ec-a70a-16262ee38c7f</td>\n",
       "      <td>2020-07</td>\n",
       "    </tr>\n",
       "    <tr>\n",
       "      <th>5796</th>\n",
       "      <td>a0f0d582-1c7c-11ec-a6c1-16262ee38c7f</td>\n",
       "      <td>2020-08</td>\n",
       "    </tr>\n",
       "  </tbody>\n",
       "</table>\n",
       "<p>5797 rows × 2 columns</p>\n",
       "</div>"
      ],
      "text/plain": [
       "                               Patient-Uid    Month\n",
       "0     a0e9c384-1c7c-11ec-81a0-16262ee38c7f  2020-09\n",
       "1     a0e9c3e3-1c7c-11ec-a8b9-16262ee38c7f  2020-05\n",
       "2     a0e9c443-1c7c-11ec-9eb0-16262ee38c7f  2020-07\n",
       "3     a0e9c4a3-1c7c-11ec-aa86-16262ee38c7f  2020-05\n",
       "4     a0e9c502-1c7c-11ec-89d3-16262ee38c7f  2020-08\n",
       "...                                    ...      ...\n",
       "5792  a0f0d4c5-1c7c-11ec-bfec-16262ee38c7f  2020-08\n",
       "5793  a0f0d4f4-1c7c-11ec-b144-16262ee38c7f  2020-07\n",
       "5794  a0f0d523-1c7c-11ec-89d2-16262ee38c7f  2020-08\n",
       "5795  a0f0d553-1c7c-11ec-a70a-16262ee38c7f  2020-07\n",
       "5796  a0f0d582-1c7c-11ec-a6c1-16262ee38c7f  2020-08\n",
       "\n",
       "[5797 rows x 2 columns]"
      ]
     },
     "execution_count": 7,
     "metadata": {},
     "output_type": "execute_result"
    }
   ],
   "source": [
    "dropped = np.transpose(dropped)\n",
    "df_drop = pd.DataFrame({'Patient-Uid':dropped[0],'Month':dropped[1]})\n",
    "df_drop"
   ]
  },
  {
   "attachments": {},
   "cell_type": "markdown",
   "metadata": {},
   "source": [
    "So, df_drop contains all the patients who have stopped the usage of 'TARGET DRUG' before its ideal duration of 1 year. We see that out of **9374** patients who have used this drug at least once, **5797** patients dropped out before course."
   ]
  },
  {
   "attachments": {},
   "cell_type": "markdown",
   "metadata": {},
   "source": [
    "We can now evaluate the number of patients dropped per month as shown below:"
   ]
  },
  {
   "cell_type": "code",
   "execution_count": 8,
   "metadata": {},
   "outputs": [
    {
     "data": {
      "text/plain": [
       "Month\n",
       "2018-03     48\n",
       "2018-04     65\n",
       "2018-05     65\n",
       "2018-06     86\n",
       "2018-07    104\n",
       "2018-08    120\n",
       "2018-09    115\n",
       "2018-10    118\n",
       "2018-11    126\n",
       "2018-12    128\n",
       "Name: Patient-Uid, dtype: int64"
      ]
     },
     "execution_count": 8,
     "metadata": {},
     "output_type": "execute_result"
    }
   ],
   "source": [
    "drop = df_drop.groupby('Month')['Patient-Uid'].nunique()\n",
    "drop[:10]"
   ]
  },
  {
   "cell_type": "code",
   "execution_count": 9,
   "metadata": {},
   "outputs": [
    {
     "data": {
      "image/png": "[encoded data removed]",
      "text/plain": [
       "<Figure size 720x360 with 1 Axes>"
      ]
     },
     "metadata": {
      "needs_background": "light"
     },
     "output_type": "display_data"
    }
   ],
   "source": [
    "plt.figure(figsize=(10,5))\n",
    "drop.plot(kind='line')\n",
    "plt.xlabel('Month')\n",
    "plt.ylabel('Drop-off Count')\n",
    "plt.title('Drop-Off Rate of TARGET DRUG')\n",
    "plt.show()"
   ]
  },
  {
   "attachments": {},
   "cell_type": "markdown",
   "metadata": {},
   "source": [
    "We see that there is a huge spike in the amount of patients who stopped using the drug in the months between the April and September of 2020. I can guess that this was the time when **COVID-19** first started to grip the world and maybe 'TARGET DRUG' was not efficient enough for its treatment. However, it seemed to fall again drastically close to September which seems to be the mark of the end of the First Wave."
   ]
  },
  {
   "cell_type": "code",
   "execution_count": null,
   "metadata": {},
   "outputs": [],
   "source": []
  }
 ],
 "metadata": {
  "kernelspec": {
   "display_name": "Python 3",
   "language": "python",
   "name": "python3"
  },
  "language_info": {
   "codemirror_mode": {
    "name": "ipython",
    "version": 3
   },
   "file_extension": ".py",
   "mimetype": "text/x-python",
   "name": "python",
   "nbconvert_exporter": "python",
   "pygments_lexer": "ipython3",
   "version": "3.10.5"
  },
  "orig_nbformat": 4
 },
 "nbformat": 4,
 "nbformat_minor": 2
}
