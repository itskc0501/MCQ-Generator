{
 "cells": [
  {
   "attachments": {},
   "cell_type": "markdown",
   "metadata": {},
   "source": [
    "Import all the necessary libraries for constructing the model."
   ]
  },
  {
   "cell_type": "code",
   "execution_count": 1,
   "metadata": {},
   "outputs": [],
   "source": [
    "import numpy as np\n",
    "import pandas as pd\n",
    "from sklearn.metrics import accuracy_score, classification_report\n",
    "\n",
    "import tensorflow as tf #This is to construct a feed forward neural network for our model.\n",
    "import datetime"
   ]
  },
  {
   "attachments": {},
   "cell_type": "markdown",
   "metadata": {},
   "source": [
    "Now, lets get a hold of our training set by reading 'parquet' files using pandas and store it in a variable called df_train."
   ]
  },
  {
   "cell_type": "code",
   "execution_count": 22,
   "metadata": {},
   "outputs": [
    {
     "data": {
      "text/html": [
       "<div>\n",
       "<style scoped>\n",
       "    .dataframe tbody tr th:only-of-type {\n",
       "        vertical-align: middle;\n",
       "    }\n",
       "\n",
       "    .dataframe tbody tr th {\n",
       "        vertical-align: top;\n",
       "    }\n",
       "\n",
       "    .dataframe thead th {\n",
       "        text-align: right;\n",
       "    }\n",
       "</style>\n",
       "<table border=\"1\" class=\"dataframe\">\n",
       "  <thead>\n",
       "    <tr style=\"text-align: right;\">\n",
       "      <th></th>\n",
       "      <th>Patient-Uid</th>\n",
       "      <th>Date</th>\n",
       "      <th>Incident</th>\n",
       "    </tr>\n",
       "  </thead>\n",
       "  <tbody>\n",
       "    <tr>\n",
       "      <th>0</th>\n",
       "      <td>a0db1e73-1c7c-11ec-ae39-16262ee38c7f</td>\n",
       "      <td>2019-03-09</td>\n",
       "      <td>PRIMARY_DIAGNOSIS</td>\n",
       "    </tr>\n",
       "    <tr>\n",
       "      <th>1</th>\n",
       "      <td>a0dc93f2-1c7c-11ec-9cd2-16262ee38c7f</td>\n",
       "      <td>2015-05-16</td>\n",
       "      <td>PRIMARY_DIAGNOSIS</td>\n",
       "    </tr>\n",
       "    <tr>\n",
       "      <th>3</th>\n",
       "      <td>a0dc94c6-1c7c-11ec-a3a0-16262ee38c7f</td>\n",
       "      <td>2018-01-30</td>\n",
       "      <td>SYMPTOM_TYPE_0</td>\n",
       "    </tr>\n",
       "    <tr>\n",
       "      <th>4</th>\n",
       "      <td>a0dc950b-1c7c-11ec-b6ec-16262ee38c7f</td>\n",
       "      <td>2015-04-22</td>\n",
       "      <td>DRUG_TYPE_0</td>\n",
       "    </tr>\n",
       "    <tr>\n",
       "      <th>8</th>\n",
       "      <td>a0dc9543-1c7c-11ec-bb63-16262ee38c7f</td>\n",
       "      <td>2016-06-18</td>\n",
       "      <td>DRUG_TYPE_1</td>\n",
       "    </tr>\n",
       "    <tr>\n",
       "      <th>...</th>\n",
       "      <td>...</td>\n",
       "      <td>...</td>\n",
       "      <td>...</td>\n",
       "    </tr>\n",
       "    <tr>\n",
       "      <th>29080886</th>\n",
       "      <td>a0ee9f75-1c7c-11ec-94c7-16262ee38c7f</td>\n",
       "      <td>2018-07-06</td>\n",
       "      <td>DRUG_TYPE_6</td>\n",
       "    </tr>\n",
       "    <tr>\n",
       "      <th>29080897</th>\n",
       "      <td>a0ee1284-1c7c-11ec-a3d5-16262ee38c7f</td>\n",
       "      <td>2017-12-29</td>\n",
       "      <td>DRUG_TYPE_6</td>\n",
       "    </tr>\n",
       "    <tr>\n",
       "      <th>29080900</th>\n",
       "      <td>a0ee9b26-1c7c-11ec-8a40-16262ee38c7f</td>\n",
       "      <td>2018-10-18</td>\n",
       "      <td>DRUG_TYPE_10</td>\n",
       "    </tr>\n",
       "    <tr>\n",
       "      <th>29080903</th>\n",
       "      <td>a0ee1a92-1c7c-11ec-8341-16262ee38c7f</td>\n",
       "      <td>2015-09-18</td>\n",
       "      <td>DRUG_TYPE_6</td>\n",
       "    </tr>\n",
       "    <tr>\n",
       "      <th>29080911</th>\n",
       "      <td>a0ee146e-1c7c-11ec-baee-16262ee38c7f</td>\n",
       "      <td>2018-10-05</td>\n",
       "      <td>DRUG_TYPE_1</td>\n",
       "    </tr>\n",
       "  </tbody>\n",
       "</table>\n",
       "<p>3220868 rows × 3 columns</p>\n",
       "</div>"
      ],
      "text/plain": [
       "                                   Patient-Uid       Date           Incident\n",
       "0         a0db1e73-1c7c-11ec-ae39-16262ee38c7f 2019-03-09  PRIMARY_DIAGNOSIS\n",
       "1         a0dc93f2-1c7c-11ec-9cd2-16262ee38c7f 2015-05-16  PRIMARY_DIAGNOSIS\n",
       "3         a0dc94c6-1c7c-11ec-a3a0-16262ee38c7f 2018-01-30     SYMPTOM_TYPE_0\n",
       "4         a0dc950b-1c7c-11ec-b6ec-16262ee38c7f 2015-04-22        DRUG_TYPE_0\n",
       "8         a0dc9543-1c7c-11ec-bb63-16262ee38c7f 2016-06-18        DRUG_TYPE_1\n",
       "...                                        ...        ...                ...\n",
       "29080886  a0ee9f75-1c7c-11ec-94c7-16262ee38c7f 2018-07-06        DRUG_TYPE_6\n",
       "29080897  a0ee1284-1c7c-11ec-a3d5-16262ee38c7f 2017-12-29        DRUG_TYPE_6\n",
       "29080900  a0ee9b26-1c7c-11ec-8a40-16262ee38c7f 2018-10-18       DRUG_TYPE_10\n",
       "29080903  a0ee1a92-1c7c-11ec-8341-16262ee38c7f 2015-09-18        DRUG_TYPE_6\n",
       "29080911  a0ee146e-1c7c-11ec-baee-16262ee38c7f 2018-10-05        DRUG_TYPE_1\n",
       "\n",
       "[3220868 rows x 3 columns]"
      ]
     },
     "execution_count": 22,
     "metadata": {},
     "output_type": "execute_result"
    }
   ],
   "source": [
    "df_train = pd.read_parquet('train.parquet', engine='pyarrow')\n",
    "#We have used the pyarrow engine for the conversion of the '.parquet' file into a more readable one. \n",
    "# This engine must be pre-installed in your device. If not use pip install pyarrow in the command terminal of device.\n",
    "df_train"
   ]
  },
  {
   "attachments": {},
   "cell_type": "markdown",
   "metadata": {},
   "source": [
    "We observe that the data entries are not linear with respect to the 'Date' feature nor are they arranged with the different 'Patient-Uid' in mind. So, we need to arrange our given data set more systematically."
   ]
  },
  {
   "attachments": {},
   "cell_type": "markdown",
   "metadata": {},
   "source": [
    "**Feature Engineering:** \n",
    "Here, we need to be able to choose the right kind of features for our model. For our purpose, I'm looking at two features as shown:\n",
    "\n",
    "-> **'Time-Elapsed'** - We calculate the days after the first incident of each patient and keep track of the patient's visit to the hospital. This should give us an idea on the frequency of visits from each patient.\n",
    "\n",
    "-> **'Sequential'** - Here, we keep track on the order of the various Incidents happening and send it to the model for training. This sequential pattern would definetely be unique to each patient and hence would serve as a good feature."
   ]
  },
  {
   "attachments": {},
   "cell_type": "markdown",
   "metadata": {},
   "source": [
    "The **'Eligibility'** column is binary and gives us the eligibility of a particular patient for 'TARGET DRUG' within 30 days of its previous encounter."
   ]
  },
  {
   "attachments": {},
   "cell_type": "markdown",
   "metadata": {},
   "source": [
    "Given below is the implementation of cleaning the given dataset as well as obtaining the required features."
   ]
  },
  {
   "cell_type": "code",
   "execution_count": 21,
   "metadata": {},
   "outputs": [],
   "source": [
    "class DataCleaning: \n",
    "    def __init__(self,X): \n",
    "        self.X = X\n",
    "        self.num_feat = X.shape[0]\n",
    "        self.num_col = X.shape[1]\n",
    "\n",
    "    def Ordering(self):\n",
    "        self.X['Date'] = pd.to_datetime(self.X['Date']) #This converts the dates present in the 'Date' column from strings to panda datetime frames.\n",
    "        self.X = self.X.sort_values(['Patient-Uid','Date']) #Sorts the data with each patient and date in chronological order.\n",
    "        self.X = self.X.reset_index(drop=True)\n",
    "        return self.X\n",
    "        \n",
    "    def features(self,X):\n",
    "        X['Elapsed-Time'] = X.groupby('Patient-Uid')['Date'].transform(lambda x: (x - x.min()).dt.days)\n",
    "        #Here, we apply the function of x - x.min() to all the dates of each patient expressed in days.\n",
    "        #Since, the data is already organized, x.min() shall correspond to the first entry for each individual patient.\n",
    "\n",
    "        #Similarly for the 'Sequential' feature, we have:\n",
    "        X['Sequential'] = X.groupby('Patient-Uid')['Incident'].transform(lambda x: '->'.join(x))\n",
    "        #Here, we used the '->' delimiter to keep track of the order of the incidents per patient.\n",
    "        #Now, since 'Sequential' is just a string, to be able to process it, we need to convert it into a panda dataframe.\n",
    "        seq = X['Incident'].str.get_dummies(sep='->') #panda df\n",
    "        #One thing we need to make sure here is to ensure that each  unique Incident has a column in seq even if some values are missing in the testing sets.\n",
    "\n",
    "        X['Eligibility']=0\n",
    "        groups = X.groupby('Patient-Uid')\n",
    "\n",
    "        for i, grp in groups:\n",
    "            if 'TARGET DRUG' in grp['Incident'].values:\n",
    "                date1 = grp.loc[grp['Incident']=='TARGET DRUG','Date'].min()\n",
    "                date2 = date1 + datetime.timedelta(days=30) #date1 and date2 are the ends of the possible range of dates.\n",
    "                X.loc[(X['Patient-Uid']==grp['Patient-Uid'].iloc[0])&(X['Date']>=date1)&(X['Date']<=date2),'Eligibility'] = 1\n",
    "\n",
    "        In_Feature = pd.concat([X[['Elapsed-Time']],seq],axis=1)\n",
    "        Out_Feature = X['Eligibility']\n",
    "\n",
    "        return X, In_Feature, Out_Feature"
   ]
  },
  {
   "cell_type": "code",
   "execution_count": 23,
   "metadata": {},
   "outputs": [],
   "source": [
    "df = DataCleaning(df_train)\n",
    "df_train = df.Ordering()\n",
    "\n",
    "df_train, X_train, y_train = df.features(df_train)"
   ]
  },
  {
   "attachments": {},
   "cell_type": "markdown",
   "metadata": {},
   "source": [
    "The final output table looks like this:"
   ]
  },
  {
   "cell_type": "code",
   "execution_count": 24,
   "metadata": {},
   "outputs": [
    {
     "data": {
      "text/html": [
       "<div>\n",
       "<style scoped>\n",
       "    .dataframe tbody tr th:only-of-type {\n",
       "        vertical-align: middle;\n",
       "    }\n",
       "\n",
       "    .dataframe tbody tr th {\n",
       "        vertical-align: top;\n",
       "    }\n",
       "\n",
       "    .dataframe thead th {\n",
       "        text-align: right;\n",
       "    }\n",
       "</style>\n",
       "<table border=\"1\" class=\"dataframe\">\n",
       "  <thead>\n",
       "    <tr style=\"text-align: right;\">\n",
       "      <th></th>\n",
       "      <th>Patient-Uid</th>\n",
       "      <th>Date</th>\n",
       "      <th>Incident</th>\n",
       "      <th>Elapsed-Time</th>\n",
       "      <th>Sequential</th>\n",
       "      <th>Eligibility</th>\n",
       "    </tr>\n",
       "  </thead>\n",
       "  <tbody>\n",
       "    <tr>\n",
       "      <th>0</th>\n",
       "      <td>a0db1e73-1c7c-11ec-ae39-16262ee38c7f</td>\n",
       "      <td>2015-09-22</td>\n",
       "      <td>DRUG_TYPE_7</td>\n",
       "      <td>0</td>\n",
       "      <td>DRUG_TYPE_7-&gt;SYMPTOM_TYPE_2-&gt;DRUG_TYPE_7-&gt;SYMP...</td>\n",
       "      <td>0</td>\n",
       "    </tr>\n",
       "    <tr>\n",
       "      <th>1</th>\n",
       "      <td>a0db1e73-1c7c-11ec-ae39-16262ee38c7f</td>\n",
       "      <td>2018-04-13</td>\n",
       "      <td>SYMPTOM_TYPE_2</td>\n",
       "      <td>934</td>\n",
       "      <td>DRUG_TYPE_7-&gt;SYMPTOM_TYPE_2-&gt;DRUG_TYPE_7-&gt;SYMP...</td>\n",
       "      <td>0</td>\n",
       "    </tr>\n",
       "    <tr>\n",
       "      <th>2</th>\n",
       "      <td>a0db1e73-1c7c-11ec-ae39-16262ee38c7f</td>\n",
       "      <td>2018-05-02</td>\n",
       "      <td>DRUG_TYPE_7</td>\n",
       "      <td>953</td>\n",
       "      <td>DRUG_TYPE_7-&gt;SYMPTOM_TYPE_2-&gt;DRUG_TYPE_7-&gt;SYMP...</td>\n",
       "      <td>0</td>\n",
       "    </tr>\n",
       "    <tr>\n",
       "      <th>3</th>\n",
       "      <td>a0db1e73-1c7c-11ec-ae39-16262ee38c7f</td>\n",
       "      <td>2018-11-23</td>\n",
       "      <td>SYMPTOM_TYPE_0</td>\n",
       "      <td>1158</td>\n",
       "      <td>DRUG_TYPE_7-&gt;SYMPTOM_TYPE_2-&gt;DRUG_TYPE_7-&gt;SYMP...</td>\n",
       "      <td>0</td>\n",
       "    </tr>\n",
       "    <tr>\n",
       "      <th>4</th>\n",
       "      <td>a0db1e73-1c7c-11ec-ae39-16262ee38c7f</td>\n",
       "      <td>2018-11-23</td>\n",
       "      <td>DRUG_TYPE_9</td>\n",
       "      <td>1158</td>\n",
       "      <td>DRUG_TYPE_7-&gt;SYMPTOM_TYPE_2-&gt;DRUG_TYPE_7-&gt;SYMP...</td>\n",
       "      <td>0</td>\n",
       "    </tr>\n",
       "    <tr>\n",
       "      <th>...</th>\n",
       "      <td>...</td>\n",
       "      <td>...</td>\n",
       "      <td>...</td>\n",
       "      <td>...</td>\n",
       "      <td>...</td>\n",
       "      <td>...</td>\n",
       "    </tr>\n",
       "    <tr>\n",
       "      <th>3220863</th>\n",
       "      <td>a0f0d582-1c7c-11ec-a6c1-16262ee38c7f</td>\n",
       "      <td>2020-06-19</td>\n",
       "      <td>DRUG_TYPE_6</td>\n",
       "      <td>1886</td>\n",
       "      <td>DRUG_TYPE_6-&gt;DRUG_TYPE_1-&gt;DRUG_TYPE_6-&gt;DRUG_TY...</td>\n",
       "      <td>1</td>\n",
       "    </tr>\n",
       "    <tr>\n",
       "      <th>3220864</th>\n",
       "      <td>a0f0d582-1c7c-11ec-a6c1-16262ee38c7f</td>\n",
       "      <td>2020-07-09</td>\n",
       "      <td>TARGET DRUG</td>\n",
       "      <td>1906</td>\n",
       "      <td>DRUG_TYPE_6-&gt;DRUG_TYPE_1-&gt;DRUG_TYPE_6-&gt;DRUG_TY...</td>\n",
       "      <td>1</td>\n",
       "    </tr>\n",
       "    <tr>\n",
       "      <th>3220865</th>\n",
       "      <td>a0f0d582-1c7c-11ec-a6c1-16262ee38c7f</td>\n",
       "      <td>2020-07-10</td>\n",
       "      <td>DRUG_TYPE_1</td>\n",
       "      <td>1907</td>\n",
       "      <td>DRUG_TYPE_6-&gt;DRUG_TYPE_1-&gt;DRUG_TYPE_6-&gt;DRUG_TY...</td>\n",
       "      <td>1</td>\n",
       "    </tr>\n",
       "    <tr>\n",
       "      <th>3220866</th>\n",
       "      <td>a0f0d582-1c7c-11ec-a6c1-16262ee38c7f</td>\n",
       "      <td>2020-08-05</td>\n",
       "      <td>TARGET DRUG</td>\n",
       "      <td>1933</td>\n",
       "      <td>DRUG_TYPE_6-&gt;DRUG_TYPE_1-&gt;DRUG_TYPE_6-&gt;DRUG_TY...</td>\n",
       "      <td>0</td>\n",
       "    </tr>\n",
       "    <tr>\n",
       "      <th>3220867</th>\n",
       "      <td>a0f0d582-1c7c-11ec-a6c1-16262ee38c7f</td>\n",
       "      <td>2020-08-08</td>\n",
       "      <td>DRUG_TYPE_5</td>\n",
       "      <td>1936</td>\n",
       "      <td>DRUG_TYPE_6-&gt;DRUG_TYPE_1-&gt;DRUG_TYPE_6-&gt;DRUG_TY...</td>\n",
       "      <td>0</td>\n",
       "    </tr>\n",
       "  </tbody>\n",
       "</table>\n",
       "<p>3220868 rows × 6 columns</p>\n",
       "</div>"
      ],
      "text/plain": [
       "                                  Patient-Uid       Date        Incident  \\\n",
       "0        a0db1e73-1c7c-11ec-ae39-16262ee38c7f 2015-09-22     DRUG_TYPE_7   \n",
       "1        a0db1e73-1c7c-11ec-ae39-16262ee38c7f 2018-04-13  SYMPTOM_TYPE_2   \n",
       "2        a0db1e73-1c7c-11ec-ae39-16262ee38c7f 2018-05-02     DRUG_TYPE_7   \n",
       "3        a0db1e73-1c7c-11ec-ae39-16262ee38c7f 2018-11-23  SYMPTOM_TYPE_0   \n",
       "4        a0db1e73-1c7c-11ec-ae39-16262ee38c7f 2018-11-23     DRUG_TYPE_9   \n",
       "...                                       ...        ...             ...   \n",
       "3220863  a0f0d582-1c7c-11ec-a6c1-16262ee38c7f 2020-06-19     DRUG_TYPE_6   \n",
       "3220864  a0f0d582-1c7c-11ec-a6c1-16262ee38c7f 2020-07-09     TARGET DRUG   \n",
       "3220865  a0f0d582-1c7c-11ec-a6c1-16262ee38c7f 2020-07-10     DRUG_TYPE_1   \n",
       "3220866  a0f0d582-1c7c-11ec-a6c1-16262ee38c7f 2020-08-05     TARGET DRUG   \n",
       "3220867  a0f0d582-1c7c-11ec-a6c1-16262ee38c7f 2020-08-08     DRUG_TYPE_5   \n",
       "\n",
       "         Elapsed-Time                                         Sequential  \\\n",
       "0                   0  DRUG_TYPE_7->SYMPTOM_TYPE_2->DRUG_TYPE_7->SYMP...   \n",
       "1                 934  DRUG_TYPE_7->SYMPTOM_TYPE_2->DRUG_TYPE_7->SYMP...   \n",
       "2                 953  DRUG_TYPE_7->SYMPTOM_TYPE_2->DRUG_TYPE_7->SYMP...   \n",
       "3                1158  DRUG_TYPE_7->SYMPTOM_TYPE_2->DRUG_TYPE_7->SYMP...   \n",
       "4                1158  DRUG_TYPE_7->SYMPTOM_TYPE_2->DRUG_TYPE_7->SYMP...   \n",
       "...               ...                                                ...   \n",
       "3220863          1886  DRUG_TYPE_6->DRUG_TYPE_1->DRUG_TYPE_6->DRUG_TY...   \n",
       "3220864          1906  DRUG_TYPE_6->DRUG_TYPE_1->DRUG_TYPE_6->DRUG_TY...   \n",
       "3220865          1907  DRUG_TYPE_6->DRUG_TYPE_1->DRUG_TYPE_6->DRUG_TY...   \n",
       "3220866          1933  DRUG_TYPE_6->DRUG_TYPE_1->DRUG_TYPE_6->DRUG_TY...   \n",
       "3220867          1936  DRUG_TYPE_6->DRUG_TYPE_1->DRUG_TYPE_6->DRUG_TY...   \n",
       "\n",
       "         Eligibility  \n",
       "0                  0  \n",
       "1                  0  \n",
       "2                  0  \n",
       "3                  0  \n",
       "4                  0  \n",
       "...              ...  \n",
       "3220863            1  \n",
       "3220864            1  \n",
       "3220865            1  \n",
       "3220866            0  \n",
       "3220867            0  \n",
       "\n",
       "[3220868 rows x 6 columns]"
      ]
     },
     "execution_count": 24,
     "metadata": {},
     "output_type": "execute_result"
    }
   ],
   "source": [
    "df_train    "
   ]
  },
  {
   "attachments": {},
   "cell_type": "markdown",
   "metadata": {},
   "source": [
    "We can calculate the positve sets and negative sets based on the 'Eligibility' column as shown below:"
   ]
  },
  {
   "cell_type": "code",
   "execution_count": 29,
   "metadata": {},
   "outputs": [],
   "source": [
    "ps = df_train[df_train['Eligibility']==1] #Set of patients using 'TARGET DRUG' at least once.\n",
    "ns = df_train[df_train['Eligibility']==0]"
   ]
  },
  {
   "cell_type": "code",
   "execution_count": 30,
   "metadata": {},
   "outputs": [
    {
     "data": {
      "text/html": [
       "<div>\n",
       "<style scoped>\n",
       "    .dataframe tbody tr th:only-of-type {\n",
       "        vertical-align: middle;\n",
       "    }\n",
       "\n",
       "    .dataframe tbody tr th {\n",
       "        vertical-align: top;\n",
       "    }\n",
       "\n",
       "    .dataframe thead th {\n",
       "        text-align: right;\n",
       "    }\n",
       "</style>\n",
       "<table border=\"1\" class=\"dataframe\">\n",
       "  <thead>\n",
       "    <tr style=\"text-align: right;\">\n",
       "      <th></th>\n",
       "      <th>Patient-Uid</th>\n",
       "      <th>Date</th>\n",
       "      <th>Incident</th>\n",
       "      <th>Elapsed-Time</th>\n",
       "      <th>Sequential</th>\n",
       "      <th>Eligibility</th>\n",
       "    </tr>\n",
       "  </thead>\n",
       "  <tbody>\n",
       "    <tr>\n",
       "      <th>1784189</th>\n",
       "      <td>a0e9c384-1c7c-11ec-81a0-16262ee38c7f</td>\n",
       "      <td>2020-07-08</td>\n",
       "      <td>PRIMARY_DIAGNOSIS</td>\n",
       "      <td>1912</td>\n",
       "      <td>DRUG_TYPE_7-&gt;TEST_TYPE_0-&gt;DRUG_TYPE_0-&gt;DRUG_TY...</td>\n",
       "      <td>1</td>\n",
       "    </tr>\n",
       "    <tr>\n",
       "      <th>1784190</th>\n",
       "      <td>a0e9c384-1c7c-11ec-81a0-16262ee38c7f</td>\n",
       "      <td>2020-07-08</td>\n",
       "      <td>TARGET DRUG</td>\n",
       "      <td>1912</td>\n",
       "      <td>DRUG_TYPE_7-&gt;TEST_TYPE_0-&gt;DRUG_TYPE_0-&gt;DRUG_TY...</td>\n",
       "      <td>1</td>\n",
       "    </tr>\n",
       "    <tr>\n",
       "      <th>1784191</th>\n",
       "      <td>a0e9c384-1c7c-11ec-81a0-16262ee38c7f</td>\n",
       "      <td>2020-08-05</td>\n",
       "      <td>PRIMARY_DIAGNOSIS</td>\n",
       "      <td>1940</td>\n",
       "      <td>DRUG_TYPE_7-&gt;TEST_TYPE_0-&gt;DRUG_TYPE_0-&gt;DRUG_TY...</td>\n",
       "      <td>1</td>\n",
       "    </tr>\n",
       "    <tr>\n",
       "      <th>1784192</th>\n",
       "      <td>a0e9c384-1c7c-11ec-81a0-16262ee38c7f</td>\n",
       "      <td>2020-08-05</td>\n",
       "      <td>TARGET DRUG</td>\n",
       "      <td>1940</td>\n",
       "      <td>DRUG_TYPE_7-&gt;TEST_TYPE_0-&gt;DRUG_TYPE_0-&gt;DRUG_TY...</td>\n",
       "      <td>1</td>\n",
       "    </tr>\n",
       "    <tr>\n",
       "      <th>1784330</th>\n",
       "      <td>a0e9c3b3-1c7c-11ec-ae8e-16262ee38c7f</td>\n",
       "      <td>2018-04-24</td>\n",
       "      <td>PRIMARY_DIAGNOSIS</td>\n",
       "      <td>1104</td>\n",
       "      <td>PRIMARY_DIAGNOSIS-&gt;DRUG_TYPE_2-&gt;DRUG_TYPE_2-&gt;P...</td>\n",
       "      <td>1</td>\n",
       "    </tr>\n",
       "    <tr>\n",
       "      <th>...</th>\n",
       "      <td>...</td>\n",
       "      <td>...</td>\n",
       "      <td>...</td>\n",
       "      <td>...</td>\n",
       "      <td>...</td>\n",
       "      <td>...</td>\n",
       "    </tr>\n",
       "    <tr>\n",
       "      <th>3220782</th>\n",
       "      <td>a0f0d553-1c7c-11ec-a70a-16262ee38c7f</td>\n",
       "      <td>2020-07-21</td>\n",
       "      <td>TARGET DRUG</td>\n",
       "      <td>1892</td>\n",
       "      <td>DRUG_TYPE_9-&gt;SYMPTOM_TYPE_7-&gt;DRUG_TYPE_2-&gt;DRUG...</td>\n",
       "      <td>1</td>\n",
       "    </tr>\n",
       "    <tr>\n",
       "      <th>3220862</th>\n",
       "      <td>a0f0d582-1c7c-11ec-a6c1-16262ee38c7f</td>\n",
       "      <td>2020-06-18</td>\n",
       "      <td>TARGET DRUG</td>\n",
       "      <td>1885</td>\n",
       "      <td>DRUG_TYPE_6-&gt;DRUG_TYPE_1-&gt;DRUG_TYPE_6-&gt;DRUG_TY...</td>\n",
       "      <td>1</td>\n",
       "    </tr>\n",
       "    <tr>\n",
       "      <th>3220863</th>\n",
       "      <td>a0f0d582-1c7c-11ec-a6c1-16262ee38c7f</td>\n",
       "      <td>2020-06-19</td>\n",
       "      <td>DRUG_TYPE_6</td>\n",
       "      <td>1886</td>\n",
       "      <td>DRUG_TYPE_6-&gt;DRUG_TYPE_1-&gt;DRUG_TYPE_6-&gt;DRUG_TY...</td>\n",
       "      <td>1</td>\n",
       "    </tr>\n",
       "    <tr>\n",
       "      <th>3220864</th>\n",
       "      <td>a0f0d582-1c7c-11ec-a6c1-16262ee38c7f</td>\n",
       "      <td>2020-07-09</td>\n",
       "      <td>TARGET DRUG</td>\n",
       "      <td>1906</td>\n",
       "      <td>DRUG_TYPE_6-&gt;DRUG_TYPE_1-&gt;DRUG_TYPE_6-&gt;DRUG_TY...</td>\n",
       "      <td>1</td>\n",
       "    </tr>\n",
       "    <tr>\n",
       "      <th>3220865</th>\n",
       "      <td>a0f0d582-1c7c-11ec-a6c1-16262ee38c7f</td>\n",
       "      <td>2020-07-10</td>\n",
       "      <td>DRUG_TYPE_1</td>\n",
       "      <td>1907</td>\n",
       "      <td>DRUG_TYPE_6-&gt;DRUG_TYPE_1-&gt;DRUG_TYPE_6-&gt;DRUG_TY...</td>\n",
       "      <td>1</td>\n",
       "    </tr>\n",
       "  </tbody>\n",
       "</table>\n",
       "<p>52382 rows × 6 columns</p>\n",
       "</div>"
      ],
      "text/plain": [
       "                                  Patient-Uid       Date           Incident  \\\n",
       "1784189  a0e9c384-1c7c-11ec-81a0-16262ee38c7f 2020-07-08  PRIMARY_DIAGNOSIS   \n",
       "1784190  a0e9c384-1c7c-11ec-81a0-16262ee38c7f 2020-07-08        TARGET DRUG   \n",
       "1784191  a0e9c384-1c7c-11ec-81a0-16262ee38c7f 2020-08-05  PRIMARY_DIAGNOSIS   \n",
       "1784192  a0e9c384-1c7c-11ec-81a0-16262ee38c7f 2020-08-05        TARGET DRUG   \n",
       "1784330  a0e9c3b3-1c7c-11ec-ae8e-16262ee38c7f 2018-04-24  PRIMARY_DIAGNOSIS   \n",
       "...                                       ...        ...                ...   \n",
       "3220782  a0f0d553-1c7c-11ec-a70a-16262ee38c7f 2020-07-21        TARGET DRUG   \n",
       "3220862  a0f0d582-1c7c-11ec-a6c1-16262ee38c7f 2020-06-18        TARGET DRUG   \n",
       "3220863  a0f0d582-1c7c-11ec-a6c1-16262ee38c7f 2020-06-19        DRUG_TYPE_6   \n",
       "3220864  a0f0d582-1c7c-11ec-a6c1-16262ee38c7f 2020-07-09        TARGET DRUG   \n",
       "3220865  a0f0d582-1c7c-11ec-a6c1-16262ee38c7f 2020-07-10        DRUG_TYPE_1   \n",
       "\n",
       "         Elapsed-Time                                         Sequential  \\\n",
       "1784189          1912  DRUG_TYPE_7->TEST_TYPE_0->DRUG_TYPE_0->DRUG_TY...   \n",
       "1784190          1912  DRUG_TYPE_7->TEST_TYPE_0->DRUG_TYPE_0->DRUG_TY...   \n",
       "1784191          1940  DRUG_TYPE_7->TEST_TYPE_0->DRUG_TYPE_0->DRUG_TY...   \n",
       "1784192          1940  DRUG_TYPE_7->TEST_TYPE_0->DRUG_TYPE_0->DRUG_TY...   \n",
       "1784330          1104  PRIMARY_DIAGNOSIS->DRUG_TYPE_2->DRUG_TYPE_2->P...   \n",
       "...               ...                                                ...   \n",
       "3220782          1892  DRUG_TYPE_9->SYMPTOM_TYPE_7->DRUG_TYPE_2->DRUG...   \n",
       "3220862          1885  DRUG_TYPE_6->DRUG_TYPE_1->DRUG_TYPE_6->DRUG_TY...   \n",
       "3220863          1886  DRUG_TYPE_6->DRUG_TYPE_1->DRUG_TYPE_6->DRUG_TY...   \n",
       "3220864          1906  DRUG_TYPE_6->DRUG_TYPE_1->DRUG_TYPE_6->DRUG_TY...   \n",
       "3220865          1907  DRUG_TYPE_6->DRUG_TYPE_1->DRUG_TYPE_6->DRUG_TY...   \n",
       "\n",
       "         Eligibility  \n",
       "1784189            1  \n",
       "1784190            1  \n",
       "1784191            1  \n",
       "1784192            1  \n",
       "1784330            1  \n",
       "...              ...  \n",
       "3220782            1  \n",
       "3220862            1  \n",
       "3220863            1  \n",
       "3220864            1  \n",
       "3220865            1  \n",
       "\n",
       "[52382 rows x 6 columns]"
      ]
     },
     "execution_count": 30,
     "metadata": {},
     "output_type": "execute_result"
    }
   ],
   "source": [
    "ps"
   ]
  },
  {
   "cell_type": "code",
   "execution_count": 26,
   "metadata": {},
   "outputs": [
    {
     "data": {
      "text/html": [
       "<div>\n",
       "<style scoped>\n",
       "    .dataframe tbody tr th:only-of-type {\n",
       "        vertical-align: middle;\n",
       "    }\n",
       "\n",
       "    .dataframe tbody tr th {\n",
       "        vertical-align: top;\n",
       "    }\n",
       "\n",
       "    .dataframe thead th {\n",
       "        text-align: right;\n",
       "    }\n",
       "</style>\n",
       "<table border=\"1\" class=\"dataframe\">\n",
       "  <thead>\n",
       "    <tr style=\"text-align: right;\">\n",
       "      <th></th>\n",
       "      <th>Patient-Uid</th>\n",
       "      <th>Date</th>\n",
       "      <th>Incident</th>\n",
       "    </tr>\n",
       "  </thead>\n",
       "  <tbody>\n",
       "    <tr>\n",
       "      <th>0</th>\n",
       "      <td>a0f9e8a9-1c7c-11ec-8d25-16262ee38c7f</td>\n",
       "      <td>2016-12-08</td>\n",
       "      <td>SYMPTOM_TYPE_0</td>\n",
       "    </tr>\n",
       "    <tr>\n",
       "      <th>1</th>\n",
       "      <td>a0f9e8a9-1c7c-11ec-8d25-16262ee38c7f</td>\n",
       "      <td>2018-10-17</td>\n",
       "      <td>DRUG_TYPE_0</td>\n",
       "    </tr>\n",
       "    <tr>\n",
       "      <th>2</th>\n",
       "      <td>a0f9e8a9-1c7c-11ec-8d25-16262ee38c7f</td>\n",
       "      <td>2017-12-01</td>\n",
       "      <td>DRUG_TYPE_2</td>\n",
       "    </tr>\n",
       "    <tr>\n",
       "      <th>3</th>\n",
       "      <td>a0f9e8a9-1c7c-11ec-8d25-16262ee38c7f</td>\n",
       "      <td>2018-12-05</td>\n",
       "      <td>DRUG_TYPE_1</td>\n",
       "    </tr>\n",
       "    <tr>\n",
       "      <th>4</th>\n",
       "      <td>a0f9e8a9-1c7c-11ec-8d25-16262ee38c7f</td>\n",
       "      <td>2017-11-04</td>\n",
       "      <td>SYMPTOM_TYPE_0</td>\n",
       "    </tr>\n",
       "    <tr>\n",
       "      <th>...</th>\n",
       "      <td>...</td>\n",
       "      <td>...</td>\n",
       "      <td>...</td>\n",
       "    </tr>\n",
       "    <tr>\n",
       "      <th>1372854</th>\n",
       "      <td>a10272c9-1c7c-11ec-b3ce-16262ee38c7f</td>\n",
       "      <td>2017-05-11</td>\n",
       "      <td>DRUG_TYPE_13</td>\n",
       "    </tr>\n",
       "    <tr>\n",
       "      <th>1372856</th>\n",
       "      <td>a10272c9-1c7c-11ec-b3ce-16262ee38c7f</td>\n",
       "      <td>2018-08-22</td>\n",
       "      <td>DRUG_TYPE_2</td>\n",
       "    </tr>\n",
       "    <tr>\n",
       "      <th>1372857</th>\n",
       "      <td>a10272c9-1c7c-11ec-b3ce-16262ee38c7f</td>\n",
       "      <td>2017-02-04</td>\n",
       "      <td>DRUG_TYPE_2</td>\n",
       "    </tr>\n",
       "    <tr>\n",
       "      <th>1372858</th>\n",
       "      <td>a10272c9-1c7c-11ec-b3ce-16262ee38c7f</td>\n",
       "      <td>2017-09-25</td>\n",
       "      <td>DRUG_TYPE_8</td>\n",
       "    </tr>\n",
       "    <tr>\n",
       "      <th>1372859</th>\n",
       "      <td>a10272c9-1c7c-11ec-b3ce-16262ee38c7f</td>\n",
       "      <td>2017-05-19</td>\n",
       "      <td>DRUG_TYPE_7</td>\n",
       "    </tr>\n",
       "  </tbody>\n",
       "</table>\n",
       "<p>1065524 rows × 3 columns</p>\n",
       "</div>"
      ],
      "text/plain": [
       "                                  Patient-Uid       Date        Incident\n",
       "0        a0f9e8a9-1c7c-11ec-8d25-16262ee38c7f 2016-12-08  SYMPTOM_TYPE_0\n",
       "1        a0f9e8a9-1c7c-11ec-8d25-16262ee38c7f 2018-10-17     DRUG_TYPE_0\n",
       "2        a0f9e8a9-1c7c-11ec-8d25-16262ee38c7f 2017-12-01     DRUG_TYPE_2\n",
       "3        a0f9e8a9-1c7c-11ec-8d25-16262ee38c7f 2018-12-05     DRUG_TYPE_1\n",
       "4        a0f9e8a9-1c7c-11ec-8d25-16262ee38c7f 2017-11-04  SYMPTOM_TYPE_0\n",
       "...                                       ...        ...             ...\n",
       "1372854  a10272c9-1c7c-11ec-b3ce-16262ee38c7f 2017-05-11    DRUG_TYPE_13\n",
       "1372856  a10272c9-1c7c-11ec-b3ce-16262ee38c7f 2018-08-22     DRUG_TYPE_2\n",
       "1372857  a10272c9-1c7c-11ec-b3ce-16262ee38c7f 2017-02-04     DRUG_TYPE_2\n",
       "1372858  a10272c9-1c7c-11ec-b3ce-16262ee38c7f 2017-09-25     DRUG_TYPE_8\n",
       "1372859  a10272c9-1c7c-11ec-b3ce-16262ee38c7f 2017-05-19     DRUG_TYPE_7\n",
       "\n",
       "[1065524 rows x 3 columns]"
      ]
     },
     "execution_count": 26,
     "metadata": {},
     "output_type": "execute_result"
    }
   ],
   "source": [
    "df_test = pd.read_parquet('test.parquet', engine='pyarrow')\n",
    "df_test"
   ]
  },
  {
   "cell_type": "code",
   "execution_count": 27,
   "metadata": {},
   "outputs": [],
   "source": [
    "df_t = DataCleaning(df_test)\n",
    "df_test = df_t.Ordering()\n",
    "\n",
    "df_test, X_test, y_test = df_t.features(df_test)"
   ]
  },
  {
   "cell_type": "code",
   "execution_count": 33,
   "metadata": {},
   "outputs": [
    {
     "data": {
      "text/plain": [
       "Index(['Elapsed-Time', 'DRUG_TYPE_0', 'DRUG_TYPE_1', 'DRUG_TYPE_10',\n",
       "       'DRUG_TYPE_11', 'DRUG_TYPE_12', 'DRUG_TYPE_13', 'DRUG_TYPE_14',\n",
       "       'DRUG_TYPE_15', 'DRUG_TYPE_16', 'DRUG_TYPE_17', 'DRUG_TYPE_18',\n",
       "       'DRUG_TYPE_2', 'DRUG_TYPE_3', 'DRUG_TYPE_4', 'DRUG_TYPE_5',\n",
       "       'DRUG_TYPE_6', 'DRUG_TYPE_7', 'DRUG_TYPE_8', 'DRUG_TYPE_9',\n",
       "       'PRIMARY_DIAGNOSIS', 'SYMPTOM_TYPE_0', 'SYMPTOM_TYPE_1',\n",
       "       'SYMPTOM_TYPE_10', 'SYMPTOM_TYPE_11', 'SYMPTOM_TYPE_12',\n",
       "       'SYMPTOM_TYPE_13', 'SYMPTOM_TYPE_14', 'SYMPTOM_TYPE_15',\n",
       "       'SYMPTOM_TYPE_16', 'SYMPTOM_TYPE_17', 'SYMPTOM_TYPE_18',\n",
       "       'SYMPTOM_TYPE_19', 'SYMPTOM_TYPE_2', 'SYMPTOM_TYPE_20',\n",
       "       'SYMPTOM_TYPE_21', 'SYMPTOM_TYPE_22', 'SYMPTOM_TYPE_23',\n",
       "       'SYMPTOM_TYPE_24', 'SYMPTOM_TYPE_25', 'SYMPTOM_TYPE_26',\n",
       "       'SYMPTOM_TYPE_27', 'SYMPTOM_TYPE_28', 'SYMPTOM_TYPE_29',\n",
       "       'SYMPTOM_TYPE_3', 'SYMPTOM_TYPE_4', 'SYMPTOM_TYPE_5', 'SYMPTOM_TYPE_6',\n",
       "       'SYMPTOM_TYPE_7', 'SYMPTOM_TYPE_8', 'SYMPTOM_TYPE_9', 'TARGET DRUG',\n",
       "       'TEST_TYPE_0', 'TEST_TYPE_1', 'TEST_TYPE_2', 'TEST_TYPE_3',\n",
       "       'TEST_TYPE_4', 'TEST_TYPE_5'],\n",
       "      dtype='object')"
      ]
     },
     "execution_count": 33,
     "metadata": {},
     "output_type": "execute_result"
    }
   ],
   "source": [
    "X_train.columns"
   ]
  },
  {
   "cell_type": "code",
   "execution_count": 50,
   "metadata": {},
   "outputs": [
    {
     "data": {
      "text/plain": [
       "Index(['Elapsed-Time', 'DRUG_TYPE_0', 'DRUG_TYPE_1', 'DRUG_TYPE_10',\n",
       "       'DRUG_TYPE_11', 'DRUG_TYPE_12', 'DRUG_TYPE_13', 'DRUG_TYPE_14',\n",
       "       'DRUG_TYPE_15', 'DRUG_TYPE_16', 'DRUG_TYPE_17', 'DRUG_TYPE_18',\n",
       "       'DRUG_TYPE_2', 'DRUG_TYPE_3', 'DRUG_TYPE_4', 'DRUG_TYPE_5',\n",
       "       'DRUG_TYPE_6', 'DRUG_TYPE_7', 'DRUG_TYPE_8', 'DRUG_TYPE_9',\n",
       "       'PRIMARY_DIAGNOSIS', 'SYMPTOM_TYPE_0', 'SYMPTOM_TYPE_1',\n",
       "       'SYMPTOM_TYPE_10', 'SYMPTOM_TYPE_11', 'SYMPTOM_TYPE_12',\n",
       "       'SYMPTOM_TYPE_13', 'SYMPTOM_TYPE_14', 'SYMPTOM_TYPE_15',\n",
       "       'SYMPTOM_TYPE_16', 'SYMPTOM_TYPE_17', 'SYMPTOM_TYPE_18',\n",
       "       'SYMPTOM_TYPE_19', 'SYMPTOM_TYPE_2', 'SYMPTOM_TYPE_20',\n",
       "       'SYMPTOM_TYPE_21', 'SYMPTOM_TYPE_22', 'SYMPTOM_TYPE_23',\n",
       "       'SYMPTOM_TYPE_24', 'SYMPTOM_TYPE_25', 'SYMPTOM_TYPE_26',\n",
       "       'SYMPTOM_TYPE_27', 'SYMPTOM_TYPE_28', 'SYMPTOM_TYPE_29',\n",
       "       'SYMPTOM_TYPE_3', 'SYMPTOM_TYPE_4', 'SYMPTOM_TYPE_5', 'SYMPTOM_TYPE_6',\n",
       "       'SYMPTOM_TYPE_7', 'SYMPTOM_TYPE_8', 'SYMPTOM_TYPE_9', 'TARGET DRUG',\n",
       "       'TEST_TYPE_0', 'TEST_TYPE_1', 'TEST_TYPE_2', 'TEST_TYPE_3',\n",
       "       'TEST_TYPE_4', 'TEST_TYPE_5'],\n",
       "      dtype='object')"
      ]
     },
     "execution_count": 50,
     "metadata": {},
     "output_type": "execute_result"
    }
   ],
   "source": [
    "X_test.columns"
   ]
  },
  {
   "cell_type": "code",
   "execution_count": 48,
   "metadata": {},
   "outputs": [],
   "source": [
    "#We see that two columns of 'TARGET DRUG' and 'DRUG_TYPE_18' do not exist in the test set. Hence we are going to include them at the right\n",
    "#position and initialize them to 0.\n",
    "td = np.zeros(X_test.shape[0])\n",
    "d18 = np.zeros(X_test.shape[0])\n",
    "X_test.insert(11,'DRUG_TYPE_18',td)\n",
    "X_test.insert(51,'TARGET DRUG',d18) #This is to ensure that the columns are placed at the right index."
   ]
  },
  {
   "cell_type": "code",
   "execution_count": 49,
   "metadata": {},
   "outputs": [
    {
     "data": {
      "text/plain": [
       "array([ True,  True,  True,  True,  True,  True,  True,  True,  True,\n",
       "        True,  True,  True,  True,  True,  True,  True,  True,  True,\n",
       "        True,  True,  True,  True,  True,  True,  True,  True,  True,\n",
       "        True,  True,  True,  True,  True,  True,  True,  True,  True,\n",
       "        True,  True,  True,  True,  True,  True,  True,  True,  True,\n",
       "        True,  True,  True,  True,  True,  True,  True,  True,  True,\n",
       "        True,  True,  True,  True])"
      ]
     },
     "execution_count": 49,
     "metadata": {},
     "output_type": "execute_result"
    }
   ],
   "source": [
    "X_test.columns == X_train.columns"
   ]
  },
  {
   "attachments": {},
   "cell_type": "markdown",
   "metadata": {},
   "source": [
    "Now, lets go about building our model. For this purpose, I have gone with a feed forward neural network using tensorflow."
   ]
  },
  {
   "cell_type": "code",
   "execution_count": 51,
   "metadata": {},
   "outputs": [],
   "source": [
    "#The Following Neural Network is going to contain 2 inner layers with 64 nodes each and one output layer. \n",
    "\n",
    "model = tf.keras.models.Sequential([\n",
    "    tf.keras.layers.Dense(64,activation='relu',input_shape=(58,)), #This input shape is from the dimensions of X_Test.\n",
    "    tf.keras.layers.Dense(64,activation='relu'),\n",
    "    tf.keras.layers.Dense(1,activation='sigmoid') #This activation gives the probabilities of the binary output predicted.\n",
    "])\n",
    "\n",
    "model.compile(optimizer='adam',loss='binary_crossentropy',metrics=['accuracy'])"
   ]
  },
  {
   "cell_type": "code",
   "execution_count": 52,
   "metadata": {},
   "outputs": [
    {
     "name": "stdout",
     "output_type": "stream",
     "text": [
      "Epoch 1/10\n",
      "100653/100653 [==============================] - 209s 2ms/step - loss: 0.0848 - accuracy: 0.9833\n",
      "Epoch 2/10\n",
      "100653/100653 [==============================] - 210s 2ms/step - loss: 0.0675 - accuracy: 0.9837\n",
      "Epoch 3/10\n",
      "100653/100653 [==============================] - 248s 2ms/step - loss: 0.0673 - accuracy: 0.9837\n",
      "Epoch 4/10\n",
      "100653/100653 [==============================] - 239s 2ms/step - loss: 0.0672 - accuracy: 0.9837\n",
      "Epoch 5/10\n",
      "100653/100653 [==============================] - 233s 2ms/step - loss: 0.0671 - accuracy: 0.9837\n",
      "Epoch 6/10\n",
      "100653/100653 [==============================] - 247s 2ms/step - loss: 0.0674 - accuracy: 0.9837\n",
      "Epoch 7/10\n",
      "100653/100653 [==============================] - 234s 2ms/step - loss: 0.0670 - accuracy: 0.9837\n",
      "Epoch 8/10\n",
      "100653/100653 [==============================] - 238s 2ms/step - loss: 0.0670 - accuracy: 0.9837\n",
      "Epoch 9/10\n",
      "100653/100653 [==============================] - 226s 2ms/step - loss: 0.0670 - accuracy: 0.9837\n",
      "Epoch 10/10\n",
      "100653/100653 [==============================] - 234s 2ms/step - loss: 0.0669 - accuracy: 0.9837\n"
     ]
    },
    {
     "data": {
      "text/plain": [
       "<keras.callbacks.History at 0x1f014d794e0>"
      ]
     },
     "execution_count": 52,
     "metadata": {},
     "output_type": "execute_result"
    }
   ],
   "source": [
    "#Now, lets fit in the data.\n",
    "model.fit(X_train,y_train, epochs=10,verbose=1)"
   ]
  },
  {
   "cell_type": "code",
   "execution_count": 53,
   "metadata": {},
   "outputs": [
    {
     "name": "stdout",
     "output_type": "stream",
     "text": [
      "33298/33298 [==============================] - 65s 1ms/step\n"
     ]
    },
    {
     "data": {
      "text/plain": [
       "array([0., 0., 0., ..., 0., 0., 0.], dtype=float32)"
      ]
     },
     "execution_count": 53,
     "metadata": {},
     "output_type": "execute_result"
    }
   ],
   "source": [
    "y_pred = model.predict(X_test)\n",
    "y_pred = np.round(y_pred).flatten() #To convert the probabiities to binary output.\n",
    "y_pred"
   ]
  },
  {
   "cell_type": "code",
   "execution_count": 54,
   "metadata": {},
   "outputs": [
    {
     "data": {
      "text/plain": [
       "100.0"
      ]
     },
     "execution_count": 54,
     "metadata": {},
     "output_type": "execute_result"
    }
   ],
   "source": [
    "acc = accuracy_score(y_test,y_pred)\n",
    "acc*100"
   ]
  },
  {
   "cell_type": "code",
   "execution_count": 56,
   "metadata": {},
   "outputs": [
    {
     "name": "stdout",
     "output_type": "stream",
     "text": [
      "Classification Report:\n",
      "              precision    recall  f1-score   support\n",
      "\n",
      "           0       1.00      1.00      1.00   1065524\n",
      "\n",
      "    accuracy                           1.00   1065524\n",
      "   macro avg       1.00      1.00      1.00   1065524\n",
      "weighted avg       1.00      1.00      1.00   1065524\n",
      "\n"
     ]
    }
   ],
   "source": [
    "rep = classification_report(y_test,y_pred)\n",
    "print(f\"Classification Report:\\n{rep}\")"
   ]
  },
  {
   "attachments": {},
   "cell_type": "markdown",
   "metadata": {},
   "source": [
    "We see that the model predicted the output with a good accuracy. This is expected as in the testing set, there were 0 accounts with trace of 'TARGET DRUG' in the testing set and so, we can directly estimate the patients who were eligible for it."
   ]
  },
  {
   "cell_type": "code",
   "execution_count": null,
   "metadata": {},
   "outputs": [],
   "source": []
  }
 ],
 "metadata": {
  "kernelspec": {
   "display_name": "Python 3",
   "language": "python",
   "name": "python3"
  },
  "language_info": {
   "codemirror_mode": {
    "name": "ipython",
    "version": 3
   },
   "file_extension": ".py",
   "mimetype": "text/x-python",
   "name": "python",
   "nbconvert_exporter": "python",
   "pygments_lexer": "ipython3",
   "version": "3.10.5"
  },
  "orig_nbformat": 4
 },
 "nbformat": 4,
 "nbformat_minor": 2
}
